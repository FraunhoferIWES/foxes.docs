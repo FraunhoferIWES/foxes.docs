{
 "cells": [
  {
   "cell_type": "markdown",
   "metadata": {},
   "source": [
    "# The model book"
   ]
  },
  {
   "cell_type": "markdown",
   "metadata": {},
   "source": [
    "This example only requires the `foxes` package:"
   ]
  },
  {
   "cell_type": "code",
   "execution_count": 1,
   "metadata": {
    "execution": {
     "iopub.execute_input": "2024-05-24T08:51:42.174855Z",
     "iopub.status.busy": "2024-05-24T08:51:42.174688Z",
     "iopub.status.idle": "2024-05-24T08:51:43.096198Z",
     "shell.execute_reply": "2024-05-24T08:51:43.095392Z"
    }
   },
   "outputs": [],
   "source": [
    "import foxes"
   ]
  },
  {
   "cell_type": "markdown",
   "metadata": {},
   "source": [
    "The `model book` contains all models that are selectable during a `foxes` run. They are organized according to their model type and stored under a `str` type key, i.e., the model name. The default constructor of the `ModelBook` class provides a number of default models, and the complete list can be printed using the `print_toc` function:"
   ]
  },
  {
   "cell_type": "code",
   "execution_count": 2,
   "metadata": {
    "execution": {
     "iopub.execute_input": "2024-05-24T08:51:43.099904Z",
     "iopub.status.busy": "2024-05-24T08:51:43.099221Z",
     "iopub.status.idle": "2024-05-24T08:51:43.104392Z",
     "shell.execute_reply": "2024-05-24T08:51:43.103705Z"
    }
   },
   "outputs": [
    {
     "name": "stdout",
     "output_type": "stream",
     "text": [
      "axial_induction\n",
      "---------------\n",
      "Betz: BetzAxialInduction()\n",
      "Madsen: MadsenAxialInduction()\n",
      "\n",
      "farm_controllers\n",
      "----------------\n",
      "basic_ctrl: BasicFarmController()\n",
      "\n",
      "farm_models\n",
      "-----------\n",
      "farm_PMask: Turbine2FarmModel(PowerMask(var_ws_P=REWS3, P_lim=100, induction=Betz))\n",
      "farm_hubh_data: Turbine2FarmModel(RotorCentreCalc())\n",
      "farm_kTI: Turbine2FarmModel(kTI(kTI=None, kb=0, ti_var=TI, k_var=k))\n",
      "farm_kTI_amb: Turbine2FarmModel(kTI(kTI=None, kb=0, ti_var=AMB_TI, k_var=k))\n",
      "farm_thrust2ct: Turbine2FarmModel(Thrust2Ct(thrust_var=T, var_ws_ct=REWS2))\n",
      "farm_yaw2yawm: Turbine2FarmModel(YAW2YAWM())\n",
      "farm_yawm2yaw: Turbine2FarmModel(YAWM2YAW())\n",
      "\n",
      "partial_wakes\n",
      "-------------\n",
      "centre: PartialCentre()\n",
      "rotor_points: RotorPoints()\n",
      "top_hat: PartialTopHat()\n",
      "\n",
      "axiwake<n>: PartialAxiwake with\n",
      "  n=(Number of evaluation points)\n",
      "\n",
      "grid<n2>: PartialGrid with\n",
      "  n2=(Number of points in square grid)\n",
      "\n",
      "point_models\n",
      "------------\n",
      "tke2ti: TKE2TI()\n",
      "\n",
      "rotor_models\n",
      "------------\n",
      "centre: CentreRotor()\n",
      "\n",
      "grid<n2>: GridRotor with\n",
      "  calc_vars=['REWS', 'REWS2', 'REWS3', 'TI', 'RHO']\n",
      "  reduce=True\n",
      "  n2=(Number of points in square grid)\n",
      "\n",
      "raw_grid<n2>: GridRotor with\n",
      "  calc_vars=['REWS', 'REWS2', 'REWS3', 'TI', 'RHO']\n",
      "  reduce=False\n",
      "  n2=(Number of points in square grid)\n",
      "\n",
      "level<n>: LevelRotor with\n",
      "  calc_vars=['REWS', 'REWS2', 'REWS3', 'TI', 'RHO']\n",
      "  reduce=True\n",
      "  n=(Number of vertical levels)\n",
      "\n",
      "raw_level<n>: LevelRotor with\n",
      "  calc_vars=['REWS', 'REWS2', 'REWS3', 'TI', 'RHO']\n",
      "  reduce=False\n",
      "  n=(Number of vertical levels)\n",
      "\n",
      "turbine_models\n",
      "--------------\n",
      "PMask: PowerMask(var_ws_P=REWS3, P_lim=100, induction=Betz)\n",
      "hubh_data: RotorCentreCalc()\n",
      "kTI: kTI(kTI=None, kb=0, ti_var=TI, k_var=k)\n",
      "kTI_amb: kTI(kTI=None, kb=0, ti_var=AMB_TI, k_var=k)\n",
      "thrust2ct: Thrust2Ct(thrust_var=T, var_ws_ct=REWS2)\n",
      "yaw2yawm: YAW2YAWM()\n",
      "yawm2yaw: YAWM2YAW()\n",
      "\n",
      "kTI_<kTI>_<kb>: kTI with\n",
      "  kTI=(Value, e.g. 004 for 0.04)\n",
      "  kb=(Value, e.g. 004 for 0.04)\n",
      "\n",
      "kTI_<kTI>: kTI with\n",
      "  kTI=(Value, e.g. 004 for 0.04)\n",
      "\n",
      "kTI_amb_<kTI>_<kb>: kTI with\n",
      "  ti_var=AMB_TI\n",
      "  kTI=(Value, e.g. 004 for 0.04)\n",
      "  kb=(Value, e.g. 004 for 0.04)\n",
      "\n",
      "kTI_amb_<kTI>: kTI with\n",
      "  ti_var=AMB_TI\n",
      "  kTI=(Value, e.g. 004 for 0.04)\n",
      "\n",
      "turbine_types\n",
      "-------------\n",
      "DTU10MW: PCtFile(D=178.3, H=119.0, P_nominal=10000.0, P_unit=kW, rho=1.225)\n",
      "IEA15MW: PCtFile(D=240.0, H=150.0, P_nominal=15000.0, P_unit=kW, rho=1.225)\n",
      "IWT7.5MW: PCtFile(D=164.0, H=100.0, P_nominal=7500.0, P_unit=kW, rho=1.225)\n",
      "NREL5MW: PCtFile(D=126.0, H=90.0, P_nominal=5000.0, P_unit=kW, rho=1.225)\n",
      "null_type: NullType(D=None, H=None, P_nominal=None, P_unit=kW)\n",
      "\n",
      "wake_frames\n",
      "-----------\n",
      "rotor_wd: RotorWD()\n",
      "rotor_wd_farmo: FarmOrder()\n",
      "timelines: Timelines(dt_min=None)\n",
      "yawed: YawedWakes(k_var=k)\n",
      "\n",
      "yawed_k<k>: YawedWakes with\n",
      "  k=(Value, e.g. 004 for 0.04)\n",
      "\n",
      "streamlines_<step>: Streamlines2D with\n",
      "  step=(Step size in m)\n",
      "\n",
      "streamlines_<step>: Streamlines2D with\n",
      "  step=(Step size in m)\n",
      "\n",
      "timelines_<dt>: Timelines with\n",
      "  dt=(Time step, e.g '10s', '1min' etc.)\n",
      "\n",
      "seq_dyn_wakes_<dt>: SeqDynamicWakes with\n",
      "  dt=(Time step, e.g '10s', '1min' etc.)\n",
      "\n",
      "wake_models\n",
      "-----------\n",
      "RHB: RankineHalfBody(induction=Madsen)\n",
      "Rathmann: Rathmann(induction=Madsen)\n",
      "SelfSimilar: SelfSimilar(gamma=1.1, induction=Madsen)\n",
      "SelfSimilar2020: SelfSimilar2020(gamma=1.1, induction=Madsen)\n",
      "\n",
      "Jensen_<superposition>_k<k>: JensenWake with\n",
      "  superposition=(Superposition, e.g. linear for ws_linear)\n",
      "  k=(Value, e.g. 004 for 0.04)\n",
      "\n",
      "Jensen_<superposition>: JensenWake with\n",
      "  superposition=(Superposition, e.g. linear for ws_linear)\n",
      "\n",
      "Bastankhah2014_<superposition>_k<k>: Bastankhah2014 with\n",
      "  sbeta_factor=0.2\n",
      "  superposition=(Superposition, e.g. linear for ws_linear)\n",
      "  k=(Value, e.g. 004 for 0.04)\n",
      "\n",
      "Bastankhah2014_<superposition>: Bastankhah2014 with\n",
      "  sbeta_factor=0.2\n",
      "  superposition=(Superposition, e.g. linear for ws_linear)\n",
      "\n",
      "Bastankhah2014B_<superposition>_k<k>: Bastankhah2014 with\n",
      "  sbeta_factor=0.2\n",
      "  induction=Betz\n",
      "  superposition=(Superposition, e.g. linear for ws_linear)\n",
      "  k=(Value, e.g. 004 for 0.04)\n",
      "\n",
      "Bastankhah2014B_<superposition>: Bastankhah2014 with\n",
      "  sbeta_factor=0.2\n",
      "  induction=Betz\n",
      "  superposition=(Superposition, e.g. linear for ws_linear)\n",
      "\n",
      "Bastankhah025_<superposition>_k<k>: Bastankhah2014 with\n",
      "  sbeta_factor=0.25\n",
      "  superposition=(Superposition, e.g. linear for ws_linear)\n",
      "  k=(Value, e.g. 004 for 0.04)\n",
      "\n",
      "Bastankhah025_<superposition>: Bastankhah2014 with\n",
      "  sbeta_factor=0.25\n",
      "  superposition=(Superposition, e.g. linear for ws_linear)\n",
      "\n",
      "Bastankhah025B_<superposition>_k<k>: Bastankhah2014 with\n",
      "  sbeta_factor=0.25\n",
      "  induction=Betz\n",
      "  superposition=(Superposition, e.g. linear for ws_linear)\n",
      "  k=(Value, e.g. 004 for 0.04)\n",
      "\n",
      "Bastankhah025B_<superposition>: Bastankhah2014 with\n",
      "  sbeta_factor=0.25\n",
      "  induction=Betz\n",
      "  superposition=(Superposition, e.g. linear for ws_linear)\n",
      "\n",
      "Bastankhah2016_<superposition>_k<k>: Bastankhah2016 with\n",
      "  superposition=(Superposition, e.g. linear for ws_linear)\n",
      "  k=(Value, e.g. 004 for 0.04)\n",
      "\n",
      "Bastankhah2016_<superposition>: Bastankhah2016 with\n",
      "  superposition=(Superposition, e.g. linear for ws_linear)\n",
      "\n",
      "Bastankhah2016B_<superposition>_k<k>: Bastankhah2016 with\n",
      "  induction=Betz\n",
      "  superposition=(Superposition, e.g. linear for ws_linear)\n",
      "  k=(Value, e.g. 004 for 0.04)\n",
      "\n",
      "Bastankhah2016B_<superposition>: Bastankhah2016 with\n",
      "  induction=Betz\n",
      "  superposition=(Superposition, e.g. linear for ws_linear)\n",
      "\n",
      "TurbOPark_<superposition>_k<k>: TurbOParkWake with\n",
      "  superposition=(Superposition, e.g. linear for ws_linear)\n",
      "  k=(Value, e.g. 004 for 0.04)\n",
      "\n",
      "TurbOPark_<superposition>: TurbOParkWake with\n",
      "  superposition=(Superposition, e.g. linear for ws_linear)\n",
      "\n",
      "TurbOParkB_<superposition>_k<k>: TurbOParkWake with\n",
      "  induction=Betz\n",
      "  superposition=(Superposition, e.g. linear for ws_linear)\n",
      "  k=(Value, e.g. 004 for 0.04)\n",
      "\n",
      "TurbOParkB_<superposition>: TurbOParkWake with\n",
      "  induction=Betz\n",
      "  superposition=(Superposition, e.g. linear for ws_linear)\n",
      "\n",
      "TurbOParkIX_<superposition>_k<k>_dx<dx>: TurbOParkWakeIX with\n",
      "  superposition=(Superposition, e.g. linear for ws_linear)\n",
      "  k=(Value, e.g. 004 for 0.04)\n",
      "  dx=(Integration step in m)\n",
      "\n",
      "TurbOParkIX_<superposition>_dx<dx>: TurbOParkWakeIX with\n",
      "  superposition=(Superposition, e.g. linear for ws_linear)\n",
      "  dx=(Integration step in m)\n",
      "\n",
      "CrespoHernandez_<superposition>_k<k>: CrespoHernandezTIWake with\n",
      "  use_ambti=False\n",
      "  superposition=(Superposition, e.g. linear for ti_linear)\n",
      "  k=(Value, e.g. 004 for 0.04)\n",
      "\n",
      "CrespoHernandez_<superposition>: CrespoHernandezTIWake with\n",
      "  use_ambti=False\n",
      "  superposition=(Superposition, e.g. linear for ti_linear)\n",
      "\n",
      "IECTI2005_<superposition>: IECTIWake with\n",
      "  iec_type=2005\n",
      "  superposition=(Superposition, e.g. linear for ti_linear)\n",
      "\n",
      "IECTI2019_<superposition>: IECTIWake with\n",
      "  iec_type=2019\n",
      "  superposition=(Superposition, e.g. linear for ti_linear)\n",
      "\n",
      "wake_superpositions\n",
      "-------------------\n",
      "ti_cubic: TIPow(pow=3, superp_to_amb=quadratic)\n",
      "ti_linear: TILinear(superp_to_amb=quadratic)\n",
      "ti_max: TIMax(superp_to_amb=quadratic)\n",
      "ti_quadratic: TIQuadratic(superp_to_amb=quadratic)\n",
      "ti_quartic: TIPow(pow=4, superp_to_amb=quadratic)\n",
      "ws_cubic: WSPow(pow=3, scale_amb=False, lim_low=None, lim_high=None)\n",
      "ws_cubic_amb: WSPow(pow=3, scale_amb=True, lim_low=None, lim_high=None)\n",
      "ws_cubic_loc: WSPowLocal(pow=3, lim_low=None, lim_high=None)\n",
      "ws_cubic_loc_lim: WSPowLocal(pow=3, lim_low=0.0001, lim_high=None)\n",
      "ws_linear: WSLinear(scale_amb=False, lim_low=None, lim_high=None)\n",
      "ws_linear_amb: WSLinear(scale_amb=True, lim_low=None, lim_high=None)\n",
      "ws_linear_amb_lim: WSLinear(scale_amb=True, lim_low=0.0001, lim_high=None)\n",
      "ws_linear_lim: WSLinear(scale_amb=False, lim_low=0.0001, lim_high=None)\n",
      "ws_linear_loc: WSLinearLocal(lim_low=None, lim_high=None)\n",
      "ws_linear_loc_lim: WSLinearLocal(lim_low=0.0001, lim_high=None)\n",
      "ws_max: WSMax(scale_amb=False, lim_low=None, lim_high=None)\n",
      "ws_max_amb: WSMax(scale_amb=True, lim_low=None, lim_high=None)\n",
      "ws_max_loc: WSMaxLocal(lim_low=None, lim_high=None)\n",
      "ws_max_loc_lim: WSMaxLocal(lim_low=0.0001, lim_high=None)\n",
      "ws_product: WSProduct(lim_low=None, lim_high=None)\n",
      "ws_product_lim: WSProduct(lim_low=0.0001, lim_high=None)\n",
      "ws_quadratic: WSQuadratic(scale_amb=False, lim_low=None, lim_high=None)\n",
      "ws_quadratic_amb: WSQuadratic(scale_amb=True, lim_low=None, lim_high=None)\n",
      "ws_quadratic_amb_lim: WSQuadratic(scale_amb=True, lim_low=0.0001, lim_high=None)\n",
      "ws_quadratic_lim: WSQuadratic(scale_amb=False, lim_low=0.0001, lim_high=None)\n",
      "ws_quadratic_loc: WSQuadraticLocal(lim_low=None, lim_high=None)\n",
      "ws_quadratic_loc_lim: WSQuadraticLocal(lim_low=0.0001, lim_high=None)\n",
      "ws_quartic: WSPow(pow=4, scale_amb=False, lim_low=None, lim_high=None)\n",
      "ws_quartic_amb: WSPow(pow=4, scale_amb=True, lim_low=None, lim_high=None)\n",
      "ws_quartic_loc: WSPowLocal(pow=4, lim_low=None, lim_high=None)\n",
      "ws_quartic_loc_lim: WSPowLocal(pow=4, lim_low=0.0001, lim_high=None)\n",
      "\n"
     ]
    }
   ],
   "source": [
    "mbook = foxes.models.ModelBook()\n",
    "mbook.print_toc()"
   ]
  },
  {
   "cell_type": "markdown",
   "metadata": {},
   "source": [
    "Notice the model factories, creating models based on parameter values that are being parsed from the name string, e.g.:\n",
    "```\n",
    "Jensen_<superposition>_k<k>: JensenWake with\n",
    "  superposition=(Superposition, e.g. linear for ws_linear)\n",
    "  k=(Value, e.g. 004 for 0.04)\n",
    "```\n",
    "For any existing superpositon model name string and any value for the wake growth parameter `k`, the model can be created according to the stated model name template `Jensen_<superposition>_k<k>`. For example, selecting quadratic superposition and `k = 0.075`:"
   ]
  },
  {
   "cell_type": "code",
   "execution_count": 3,
   "metadata": {
    "execution": {
     "iopub.execute_input": "2024-05-24T08:51:43.106543Z",
     "iopub.status.busy": "2024-05-24T08:51:43.106023Z",
     "iopub.status.idle": "2024-05-24T08:51:43.111346Z",
     "shell.execute_reply": "2024-05-24T08:51:43.110837Z"
    }
   },
   "outputs": [
    {
     "data": {
      "text/plain": [
       "JensenWake(ws_quadratic, induction=Betz, k=0.075)"
      ]
     },
     "execution_count": 3,
     "metadata": {},
     "output_type": "execute_result"
    }
   ],
   "source": [
    "mbook.wake_models[\"Jensen_quadratic_k0075\"]"
   ]
  },
  {
   "cell_type": "markdown",
   "metadata": {},
   "source": [
    "You can simply add a model by storing the model object under the new model name, for example:"
   ]
  },
  {
   "cell_type": "code",
   "execution_count": 4,
   "metadata": {
    "execution": {
     "iopub.execute_input": "2024-05-24T08:51:43.113389Z",
     "iopub.status.busy": "2024-05-24T08:51:43.113225Z",
     "iopub.status.idle": "2024-05-24T08:51:43.116399Z",
     "shell.execute_reply": "2024-05-24T08:51:43.115681Z"
    }
   },
   "outputs": [],
   "source": [
    "mbook.wake_models[\"my_Jensen\"] = foxes.models.wake_models.wind.JensenWake(\n",
    "    k=0.042, superposition=\"ws_linear_lim\"\n",
    ")"
   ]
  },
  {
   "cell_type": "code",
   "execution_count": 5,
   "metadata": {
    "execution": {
     "iopub.execute_input": "2024-05-24T08:51:43.118928Z",
     "iopub.status.busy": "2024-05-24T08:51:43.118747Z",
     "iopub.status.idle": "2024-05-24T08:51:43.122123Z",
     "shell.execute_reply": "2024-05-24T08:51:43.121585Z"
    }
   },
   "outputs": [
    {
     "name": "stdout",
     "output_type": "stream",
     "text": [
      "wake_models\n",
      "-----------\n",
      "Jensen_quadratic_k0075: JensenWake(ws_quadratic, induction=Betz, k=0.075)\n",
      "my_Jensen: JensenWake(ws_linear_lim, induction=Betz, k=0.042)\n",
      "\n",
      "Jensen_<superposition>_k<k>: JensenWake with\n",
      "  superposition=(Superposition, e.g. linear for ws_linear)\n",
      "  k=(Value, e.g. 004 for 0.04)\n",
      "\n",
      "Jensen_<superposition>: JensenWake with\n",
      "  superposition=(Superposition, e.g. linear for ws_linear)\n",
      "\n"
     ]
    }
   ],
   "source": [
    "mbook.print_toc(subset=\"wake_models\", search=\"Jensen\")"
   ]
  },
  {
   "attachments": {},
   "cell_type": "markdown",
   "metadata": {},
   "source": [
    "Our freshly created model can now be found in the model book and is ready to use for calculations. Similarly, all other types of models can be added to the corresponding sections of the model book."
   ]
  }
 ],
 "metadata": {
  "kernelspec": {
   "display_name": "foxescf",
   "language": "python",
   "name": "python3"
  },
  "language_info": {
   "codemirror_mode": {
    "name": "ipython",
    "version": 3
   },
   "file_extension": ".py",
   "mimetype": "text/x-python",
   "name": "python",
   "nbconvert_exporter": "python",
   "pygments_lexer": "ipython3",
   "version": "3.11.9"
  },
  "vscode": {
   "interpreter": {
    "hash": "49e77450ac3b792529b8ec53c4156102ea20ff425b704a19d2a6ff376cdbc220"
   }
  }
 },
 "nbformat": 4,
 "nbformat_minor": 2
}
