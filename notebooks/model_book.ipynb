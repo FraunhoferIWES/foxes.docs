{
 "cells": [
  {
   "cell_type": "markdown",
   "metadata": {},
   "source": [
    "# The model book"
   ]
  },
  {
   "cell_type": "markdown",
   "metadata": {},
   "source": [
    "This example only requires the `foxes` package:"
   ]
  },
  {
   "cell_type": "code",
   "execution_count": 1,
   "metadata": {
    "execution": {
     "iopub.execute_input": "2022-10-27T07:52:26.716176Z",
     "iopub.status.busy": "2022-10-27T07:52:26.714950Z",
     "iopub.status.idle": "2022-10-27T07:52:27.932940Z",
     "shell.execute_reply": "2022-10-27T07:52:27.932277Z"
    }
   },
   "outputs": [],
   "source": [
    "import foxes"
   ]
  },
  {
   "cell_type": "markdown",
   "metadata": {},
   "source": [
    "The `model book` contains all models that are selectable during a `foxes` run. They are organized according to their model type and stored under a `str` type key, i.e., the model name. The default constructor of the `ModelBook` class provides a number of default models, and the complete list can be printed using the `print_toc` function:"
   ]
  },
  {
   "cell_type": "code",
   "execution_count": 2,
   "metadata": {
    "execution": {
     "iopub.execute_input": "2022-10-27T07:52:27.935968Z",
     "iopub.status.busy": "2022-10-27T07:52:27.935515Z",
     "iopub.status.idle": "2022-10-27T07:52:27.940462Z",
     "shell.execute_reply": "2022-10-27T07:52:27.939767Z"
    }
   },
   "outputs": [
    {
     "name": "stdout",
     "output_type": "stream",
     "text": [
      "farm_controllers\n",
      "----------------\n",
      "basic_ctrl: basic_ctrl (BasicFarmController)\n",
      "\n",
      "farm_models\n",
      "-----------\n",
      "farm_kTI: Turbine2FarmModel(kTI(kTI=None, ti=TI))\n",
      "farm_kTI_02: Turbine2FarmModel(kTI_02 (kTI)(kTI=0.2, ti=TI))\n",
      "farm_kTI_04: Turbine2FarmModel(kTI_04 (kTI)(kTI=0.4, ti=TI))\n",
      "farm_kTI_amb: Turbine2FarmModel(kTI_amb (kTI)(kTI=None, ti=AMB_TI))\n",
      "farm_kTI_amb_02: Turbine2FarmModel(kTI_amb_02 (kTI)(kTI=0.2, ti=AMB_TI))\n",
      "farm_kTI_amb_04: Turbine2FarmModel(kTI_amb_04 (kTI)(kTI=0.4, ti=AMB_TI))\n",
      "farm_thrust2ct: Turbine2FarmModel(thrust2ct (Thrust2Ct))\n",
      "\n",
      "partial_wakes\n",
      "-------------\n",
      "auto: auto (Mapped)\n",
      "axiwake10: axiwake10 (PartialAxiwake)(n=10)\n",
      "axiwake2: axiwake2 (PartialAxiwake)(n=2)\n",
      "axiwake20: axiwake20 (PartialAxiwake)(n=20)\n",
      "axiwake3: axiwake3 (PartialAxiwake)(n=3)\n",
      "axiwake4: axiwake4 (PartialAxiwake)(n=4)\n",
      "axiwake5: axiwake5 (PartialAxiwake)(n=5)\n",
      "axiwake6: axiwake6 (PartialAxiwake)(n=6)\n",
      "axiwake7: axiwake7 (PartialAxiwake)(n=7)\n",
      "axiwake8: axiwake8 (PartialAxiwake)(n=8)\n",
      "axiwake9: axiwake9 (PartialAxiwake)(n=9)\n",
      "distsliced: distsliced (PartialDistSlicedWake)\n",
      "distsliced100: distsliced100 (PartialDistSlicedWake)(n=10)\n",
      "distsliced16: distsliced16 (PartialDistSlicedWake)(n=4)\n",
      "distsliced25: distsliced25 (PartialDistSlicedWake)(n=5)\n",
      "distsliced36: distsliced36 (PartialDistSlicedWake)(n=6)\n",
      "distsliced4: distsliced4 (PartialDistSlicedWake)(n=2)\n",
      "distsliced400: distsliced400 (PartialDistSlicedWake)(n=20)\n",
      "distsliced49: distsliced49 (PartialDistSlicedWake)(n=7)\n",
      "distsliced64: distsliced64 (PartialDistSlicedWake)(n=8)\n",
      "distsliced81: distsliced81 (PartialDistSlicedWake)(n=9)\n",
      "distsliced9: distsliced9 (PartialDistSlicedWake)(n=3)\n",
      "grid100: grid100 (PartialGrid)(n=10)\n",
      "grid16: grid16 (PartialGrid)(n=4)\n",
      "grid25: grid25 (PartialGrid)(n=5)\n",
      "grid36: grid36 (PartialGrid)(n=6)\n",
      "grid4: grid4 (PartialGrid)(n=2)\n",
      "grid400: grid400 (PartialGrid)(n=20)\n",
      "grid49: grid49 (PartialGrid)(n=7)\n",
      "grid64: grid64 (PartialGrid)(n=8)\n",
      "grid81: grid81 (PartialGrid)(n=9)\n",
      "grid9: grid9 (PartialGrid)(n=3)\n",
      "rotor_points: rotor_points (RotorPoints)\n",
      "top_hat: top_hat (PartialTopHat)\n",
      "\n",
      "point_models\n",
      "------------\n",
      "(none)\n",
      "\n",
      "rotor_models\n",
      "------------\n",
      "centre: centre (CentreRotor)\n",
      "grid100: grid100 (GridRotor)(n=10)\n",
      "grid16: grid16 (GridRotor)(n=4)\n",
      "grid25: grid25 (GridRotor)(n=5)\n",
      "grid36: grid36 (GridRotor)(n=6)\n",
      "grid4: grid4 (GridRotor)(n=2)\n",
      "grid400: grid400 (GridRotor)(n=20)\n",
      "grid49: grid49 (GridRotor)(n=7)\n",
      "grid64: grid64 (GridRotor)(n=8)\n",
      "grid81: grid81 (GridRotor)(n=9)\n",
      "grid9: grid9 (GridRotor)(n=3)\n",
      "\n",
      "turbine_models\n",
      "--------------\n",
      "kTI: kTI(kTI=None, ti=TI)\n",
      "kTI_02: kTI_02 (kTI)(kTI=0.2, ti=TI)\n",
      "kTI_04: kTI_04 (kTI)(kTI=0.4, ti=TI)\n",
      "kTI_amb: kTI_amb (kTI)(kTI=None, ti=AMB_TI)\n",
      "kTI_amb_02: kTI_amb_02 (kTI)(kTI=0.2, ti=AMB_TI)\n",
      "kTI_amb_04: kTI_amb_04 (kTI)(kTI=0.4, ti=AMB_TI)\n",
      "thrust2ct: thrust2ct (Thrust2Ct)\n",
      "\n",
      "turbine_types\n",
      "-------------\n",
      "null_type: null_type (NullType)\n",
      "\n",
      "wake_frames\n",
      "-----------\n",
      "rotor_wd: rotor_wd (RotorWD)\n",
      "streamlines_100: streamlines_100 (Streamlines)(step=100)\n",
      "\n",
      "wake_models\n",
      "-----------\n",
      "Bastankhah_linear: Bastankhah_linear (BastankhahWake)(k=None, sp=linear)\n",
      "Bastankhah_linear_amb: Bastankhah_linear_amb (BastankhahWake)(k=None, sp=linear_amb)\n",
      "Bastankhah_linear_amb_k002: Bastankhah_linear_amb_k002 (BastankhahWake)(k=0.02, sp=linear_amb)\n",
      "Bastankhah_linear_k002: Bastankhah_linear_k002 (BastankhahWake)(k=0.02, sp=linear)\n",
      "Bastankhah_max: Bastankhah_max (BastankhahWake)(k=None, sp=max)\n",
      "Bastankhah_max_amb: Bastankhah_max_amb (BastankhahWake)(k=None, sp=max_amb)\n",
      "Bastankhah_max_amb_k002: Bastankhah_max_amb_k002 (BastankhahWake)(k=0.02, sp=max_amb)\n",
      "Bastankhah_max_k002: Bastankhah_max_k002 (BastankhahWake)(k=0.02, sp=max)\n",
      "Bastankhah_quadratic: Bastankhah_quadratic (BastankhahWake)(k=None, sp=quadratic)\n",
      "Bastankhah_quadratic_amb: Bastankhah_quadratic_amb (BastankhahWake)(k=None, sp=quadratic_amb)\n",
      "Bastankhah_quadratic_amb_k002: Bastankhah_quadratic_amb_k002 (BastankhahWake)(k=0.02, sp=quadratic_amb)\n",
      "Bastankhah_quadratic_k002: Bastankhah_quadratic_k002 (BastankhahWake)(k=0.02, sp=quadratic)\n",
      "CrespoHernandez_linear: CrespoHernandez_linear (CrespoHernandezTIWake)(k=None, sp=ti_linear)\n",
      "CrespoHernandez_linear_k002: CrespoHernandez_linear_k002 (CrespoHernandezTIWake)(k=0.02, sp=ti_linear)\n",
      "CrespoHernandez_max: CrespoHernandez_max (CrespoHernandezTIWake)(k=None, sp=ti_max)\n",
      "CrespoHernandez_max_k002: CrespoHernandez_max_k002 (CrespoHernandezTIWake)(k=0.02, sp=ti_max)\n",
      "CrespoHernandez_quadratic: CrespoHernandez_quadratic (CrespoHernandezTIWake)(k=None, sp=ti_quadratic)\n",
      "CrespoHernandez_quadratic_k002: CrespoHernandez_quadratic_k002 (CrespoHernandezTIWake)(k=0.02, sp=ti_quadratic)\n",
      "IECTI2005_linear: IECTI2005_linear (IECTIWake)(k=0.19076020221856677, sp=ti_linear)\n",
      "IECTI2005_max: IECTI2005_max (IECTIWake)(k=0.19076020221856677, sp=ti_max)\n",
      "IECTI2005_quadratic: IECTI2005_quadratic (IECTIWake)(k=0.19076020221856677, sp=ti_quadratic)\n",
      "IECTI2019_linear: IECTI2019_linear (IECTIWake)(k=0.19076020221856677, sp=ti_linear)\n",
      "IECTI2019_max: IECTI2019_max (IECTIWake)(k=0.19076020221856677, sp=ti_max)\n",
      "IECTI2019_quadratic: IECTI2019_quadratic (IECTIWake)(k=0.19076020221856677, sp=ti_quadratic)\n",
      "Jensen_linear: Jensen_linear (JensenWake)(k=None, sp=linear)\n",
      "Jensen_linear_amb: Jensen_linear_amb (JensenWake)(k=None, sp=linear_amb)\n",
      "Jensen_linear_amb_k007: Jensen_linear_amb_k007 (JensenWake)(k=0.07, sp=linear_amb)\n",
      "Jensen_linear_k007: Jensen_linear_k007 (JensenWake)(k=0.07, sp=linear)\n",
      "Jensen_max: Jensen_max (JensenWake)(k=None, sp=max)\n",
      "Jensen_max_amb: Jensen_max_amb (JensenWake)(k=None, sp=max_amb)\n",
      "Jensen_max_amb_k007: Jensen_max_amb_k007 (JensenWake)(k=0.07, sp=max_amb)\n",
      "Jensen_max_k007: Jensen_max_k007 (JensenWake)(k=0.07, sp=max)\n",
      "Jensen_quadratic: Jensen_quadratic (JensenWake)(k=None, sp=quadratic)\n",
      "Jensen_quadratic_amb: Jensen_quadratic_amb (JensenWake)(k=None, sp=quadratic_amb)\n",
      "Jensen_quadratic_amb_k007: Jensen_quadratic_amb_k007 (JensenWake)(k=0.07, sp=quadratic_amb)\n",
      "Jensen_quadratic_k007: Jensen_quadratic_k007 (JensenWake)(k=0.07, sp=quadratic)\n",
      "TurbOPark_linear: TurbOPark_linear (TurbOParkWake)(k=None, sp=linear)\n",
      "TurbOPark_linear_amb: TurbOPark_linear_amb (TurbOParkWake)(k=None, sp=linear_amb)\n",
      "TurbOPark_linear_amb_k004: TurbOPark_linear_amb_k004 (TurbOParkWake)(k=0.04, sp=linear_amb)\n",
      "TurbOPark_linear_k004: TurbOPark_linear_k004 (TurbOParkWake)(k=0.04, sp=linear)\n",
      "TurbOPark_max: TurbOPark_max (TurbOParkWake)(k=None, sp=max)\n",
      "TurbOPark_max_amb: TurbOPark_max_amb (TurbOParkWake)(k=None, sp=max_amb)\n",
      "TurbOPark_max_amb_k004: TurbOPark_max_amb_k004 (TurbOParkWake)(k=0.04, sp=max_amb)\n",
      "TurbOPark_max_k004: TurbOPark_max_k004 (TurbOParkWake)(k=0.04, sp=max)\n",
      "TurbOPark_quadratic: TurbOPark_quadratic (TurbOParkWake)(k=None, sp=quadratic)\n",
      "TurbOPark_quadratic_amb: TurbOPark_quadratic_amb (TurbOParkWake)(k=None, sp=quadratic_amb)\n",
      "TurbOPark_quadratic_amb_k004: TurbOPark_quadratic_amb_k004 (TurbOParkWake)(k=0.04, sp=quadratic_amb)\n",
      "TurbOPark_quadratic_k004: TurbOPark_quadratic_k004 (TurbOParkWake)(k=0.04, sp=quadratic)\n",
      "\n",
      "wake_superpositions\n",
      "-------------------\n",
      "linear: linear (LinearSuperposition)\n",
      "linear_amb: linear_amb (LinearSuperposition)\n",
      "max: max (MaxSuperposition)\n",
      "max_amb: max_amb (MaxSuperposition)\n",
      "quadratic: quadratic (QuadraticSuperposition)\n",
      "quadratic_amb: quadratic_amb (QuadraticSuperposition)\n",
      "ti_linear: ti_linear (TISuperposition)\n",
      "ti_max: ti_max (TISuperposition)\n",
      "ti_quadratic: ti_quadratic (TISuperposition)\n",
      "\n"
     ]
    }
   ],
   "source": [
    "mbook = foxes.models.ModelBook()\n",
    "mbook.print_toc()"
   ]
  },
  {
   "cell_type": "markdown",
   "metadata": {},
   "source": [
    "You can simply add a model by storing the model object under the new model name, for example:"
   ]
  },
  {
   "cell_type": "code",
   "execution_count": 3,
   "metadata": {
    "execution": {
     "iopub.execute_input": "2022-10-27T07:52:27.942992Z",
     "iopub.status.busy": "2022-10-27T07:52:27.942794Z",
     "iopub.status.idle": "2022-10-27T07:52:27.945987Z",
     "shell.execute_reply": "2022-10-27T07:52:27.945424Z"
    }
   },
   "outputs": [],
   "source": [
    "mbook.wake_models[\"Jensen_linear_k004\"] = foxes.models.wake_models.wind.JensenWake(\n",
    "    k=0.04, superposition=\"linear\"\n",
    ")"
   ]
  },
  {
   "cell_type": "code",
   "execution_count": 4,
   "metadata": {
    "execution": {
     "iopub.execute_input": "2022-10-27T07:52:27.948282Z",
     "iopub.status.busy": "2022-10-27T07:52:27.948094Z",
     "iopub.status.idle": "2022-10-27T07:52:27.951534Z",
     "shell.execute_reply": "2022-10-27T07:52:27.950955Z"
    }
   },
   "outputs": [
    {
     "name": "stdout",
     "output_type": "stream",
     "text": [
      "wake_models\n",
      "-----------\n",
      "Jensen_linear: Jensen_linear (JensenWake)(k=None, sp=linear)\n",
      "Jensen_linear_amb: Jensen_linear_amb (JensenWake)(k=None, sp=linear_amb)\n",
      "Jensen_linear_amb_k007: Jensen_linear_amb_k007 (JensenWake)(k=0.07, sp=linear_amb)\n",
      "Jensen_linear_k004: JensenWake(k=0.04, sp=linear)\n",
      "Jensen_linear_k007: Jensen_linear_k007 (JensenWake)(k=0.07, sp=linear)\n",
      "Jensen_max: Jensen_max (JensenWake)(k=None, sp=max)\n",
      "Jensen_max_amb: Jensen_max_amb (JensenWake)(k=None, sp=max_amb)\n",
      "Jensen_max_amb_k007: Jensen_max_amb_k007 (JensenWake)(k=0.07, sp=max_amb)\n",
      "Jensen_max_k007: Jensen_max_k007 (JensenWake)(k=0.07, sp=max)\n",
      "Jensen_quadratic: Jensen_quadratic (JensenWake)(k=None, sp=quadratic)\n",
      "Jensen_quadratic_amb: Jensen_quadratic_amb (JensenWake)(k=None, sp=quadratic_amb)\n",
      "Jensen_quadratic_amb_k007: Jensen_quadratic_amb_k007 (JensenWake)(k=0.07, sp=quadratic_amb)\n",
      "Jensen_quadratic_k007: Jensen_quadratic_k007 (JensenWake)(k=0.07, sp=quadratic)\n",
      "\n"
     ]
    }
   ],
   "source": [
    "mbook.print_toc(subset=\"wake_models\", search=\"Jensen\")"
   ]
  }
 ],
 "metadata": {
  "kernelspec": {
   "display_name": "Python 3.8.10 ('foxes')",
   "language": "python",
   "name": "python3"
  },
  "language_info": {
   "codemirror_mode": {
    "name": "ipython",
    "version": 3
   },
   "file_extension": ".py",
   "mimetype": "text/x-python",
   "name": "python",
   "nbconvert_exporter": "python",
   "pygments_lexer": "ipython3",
   "version": "3.8.10"
  },
  "vscode": {
   "interpreter": {
    "hash": "bf4a074b666afd0c34fcf4a3f6dfe4d0dd717bc317d9d9cf4935c66389b29031"
   }
  }
 },
 "nbformat": 4,
 "nbformat_minor": 2
}
