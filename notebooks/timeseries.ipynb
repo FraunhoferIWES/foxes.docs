{
 "cells": [
  {
   "attachments": {},
   "cell_type": "markdown",
   "metadata": {},
   "source": [
    "# Timeseries data"
   ]
  },
  {
   "attachments": {},
   "cell_type": "markdown",
   "metadata": {},
   "source": [
    "In this example we calculate the data of a wind farm with 67 turbines in a time series containing 8000 uniform inflow states.\n",
    "\n",
    "The required imports are:"
   ]
  },
  {
   "cell_type": "code",
   "execution_count": 1,
   "metadata": {
    "execution": {
     "iopub.execute_input": "2024-01-22T10:40:41.163431Z",
     "iopub.status.busy": "2024-01-22T10:40:41.163239Z",
     "iopub.status.idle": "2024-01-22T10:40:42.238292Z",
     "shell.execute_reply": "2024-01-22T10:40:42.237351Z"
    }
   },
   "outputs": [],
   "source": [
    "%matplotlib inline\n",
    "import matplotlib.pyplot as plt\n",
    "\n",
    "import foxes\n",
    "import foxes.variables as FV\n",
    "import foxes.constants as FC\n",
    "from foxes.utils.runners import DaskRunner"
   ]
  },
  {
   "attachments": {},
   "cell_type": "markdown",
   "metadata": {},
   "source": [
    "First, we create the `model book`, making sure it contains the desired turbine type model:"
   ]
  },
  {
   "cell_type": "code",
   "execution_count": 2,
   "metadata": {
    "execution": {
     "iopub.execute_input": "2024-01-22T10:40:42.241516Z",
     "iopub.status.busy": "2024-01-22T10:40:42.240960Z",
     "iopub.status.idle": "2024-01-22T10:40:42.246253Z",
     "shell.execute_reply": "2024-01-22T10:40:42.245478Z"
    }
   },
   "outputs": [],
   "source": [
    "# we are only using models that are provided by default, hence\n",
    "# no addition to the model book is required.\n",
    "mbook = foxes.ModelBook()\n",
    "\n",
    "# if you wish to add a model based on a specific file, do as follows:\n",
    "#mbook.turbine_types[\"NREL5\"] = foxes.models.turbine_types.PCtFile(\n",
    "#    \"NREL-5MW-D126-H90.csv\"\n",
    "#)"
   ]
  },
  {
   "attachments": {},
   "cell_type": "markdown",
   "metadata": {},
   "source": [
    "Next, we create the `states`. The `data_source` can be any csv-type file (or `pandas` readable equivalent), or a `pandas.DataFrame` object. If it is a file path, then it will first be searched in the file system, and if not found, in the static data. If it is also not found there, an error showing the available static data file names is displayed.\n",
    "\n",
    "In this example the static data file `timeseries_8000.csv.gz` will be used, with content\n",
    "```\n",
    "Time,ws,wd,ti\n",
    "2017-01-01 00:00:00,15.62,244.06,0.0504\n",
    "2017-01-01 00:30:00,15.99,243.03,0.0514\n",
    "2017-01-01 01:00:00,16.31,243.01,0.0522\n",
    "2017-01-01 01:30:00,16.33,241.26,0.0523\n",
    "...\n",
    "```\n",
    "Notice the column names, and how they appear in the `Timeseries` constructor:"
   ]
  },
  {
   "cell_type": "code",
   "execution_count": 3,
   "metadata": {
    "execution": {
     "iopub.execute_input": "2024-01-22T10:40:42.248370Z",
     "iopub.status.busy": "2024-01-22T10:40:42.248204Z",
     "iopub.status.idle": "2024-01-22T10:40:42.251808Z",
     "shell.execute_reply": "2024-01-22T10:40:42.251048Z"
    }
   },
   "outputs": [],
   "source": [
    "states = foxes.input.states.Timeseries(\n",
    "    data_source=\"timeseries_8000.csv.gz\",\n",
    "    output_vars=[FV.WS, FV.WD, FV.TI, FV.RHO],\n",
    "    var2col={FV.WS: \"ws\", FV.WD: \"wd\", FV.TI: \"ti\"},\n",
    "    fixed_vars={FV.RHO: 1.225},\n",
    ")"
   ]
  },
  {
   "attachments": {},
   "cell_type": "markdown",
   "metadata": {},
   "source": [
    "We can visualize the wind distribution via the `StatesRosePlotOutput`. Here we display the ambient wind speed in a wind rose with 16 wind direction sectors and 5 wind speed bins: "
   ]
  },
  {
   "cell_type": "code",
   "execution_count": 4,
   "metadata": {
    "execution": {
     "iopub.execute_input": "2024-01-22T10:40:42.254185Z",
     "iopub.status.busy": "2024-01-22T10:40:42.253735Z",
     "iopub.status.idle": "2024-01-22T10:40:42.970787Z",
     "shell.execute_reply": "2024-01-22T10:40:42.969682Z"
    }
   },
   "outputs": [
    {
     "data": {
      "image/svg+xml": [
       "<svg class=\"main-svg\" xmlns=\"http://www.w3.org/2000/svg\" xmlns:xlink=\"http://www.w3.org/1999/xlink\" width=\"500\" height=\"400\" style=\"\" viewBox=\"0 0 500 400\"><rect x=\"0\" y=\"0\" width=\"500\" height=\"400\" style=\"fill: rgb(255, 255, 255); fill-opacity: 1;\"/><defs id=\"defs-4dd276\"><g class=\"clips\"><clipPath id=\"clip4dd276polar-for-traces\"><path d=\"M150,0A150,150 0,1,0 -150,-1.8369701987210297e-14A150,150 0,1,0 150,3.6739403974420595e-14Z\" transform=\"translate(150,150)\"/></clipPath></g><g class=\"gradients\"/><g class=\"patterns\"/></defs><g class=\"bglayer\"/><g class=\"layer-below\"><g class=\"imagelayer\"/><g class=\"shapelayer\"/></g><g class=\"cartesianlayer\"/><g class=\"polarlayer\"><g class=\"polar\"><g class=\"polarsublayer draglayer\"/><g class=\"polarsublayer plotbg\"><path d=\"M150,0A150,150 0,1,0 -150,-1.8369701987210297e-14A150,150 0,1,0 150,3.6739403974420595e-14Z\" transform=\"translate(208,200)\" style=\"fill: rgb(229, 236, 246); fill-opacity: 1;\"/></g><g class=\"polarsublayer backplot\"><g class=\"maplayer\"/></g><g class=\"polarsublayer angular-grid\" style=\"fill: none;\"><path class=\"angularaxisgrid\" d=\"M208,200L208,50\" style=\"stroke: rgb(255, 255, 255); stroke-opacity: 1; stroke-width: 1px;\"/><path class=\"angularaxisgrid\" d=\"M208,200L314.06601717798213,93.93398282201788\" style=\"stroke: rgb(255, 255, 255); stroke-opacity: 1; stroke-width: 1px;\"/><path class=\"angularaxisgrid\" d=\"M208,200L358,200\" style=\"stroke: rgb(255, 255, 255); stroke-opacity: 1; stroke-width: 1px;\"/><path class=\"angularaxisgrid\" d=\"M208,200L314.06601717798213,306.06601717798213\" style=\"stroke: rgb(255, 255, 255); stroke-opacity: 1; stroke-width: 1px;\"/><path class=\"angularaxisgrid\" d=\"M208,200L208,350\" style=\"stroke: rgb(255, 255, 255); stroke-opacity: 1; stroke-width: 1px;\"/><path class=\"angularaxisgrid\" d=\"M208,200L101.93398282201788,306.06601717798213\" style=\"stroke: rgb(255, 255, 255); stroke-opacity: 1; stroke-width: 1px;\"/><path class=\"angularaxisgrid\" d=\"M208,200L58,200.00000000000003\" style=\"stroke: rgb(255, 255, 255); stroke-opacity: 1; stroke-width: 1px;\"/><path class=\"angularaxisgrid\" d=\"M208,200L101.93398282201785,93.93398282201788\" style=\"stroke: rgb(255, 255, 255); stroke-opacity: 1; stroke-width: 1px;\"/></g><g class=\"polarsublayer radial-grid\" transform=\"translate(208,200)\" style=\"fill: none;\"><path class=\"xgrid\" d=\"M24.86,0A24.86,24.86 0,1,0 -24.86,-3.04447194268032e-15A24.86,24.86 0,1,0 24.86,6.08894388536064e-15Z\" style=\"stroke: rgb(255, 255, 255); stroke-opacity: 1; stroke-width: 1px;\"/><path class=\"xgrid\" d=\"M49.73,0A49.73,49.73 0,1,0 -49.73,-6.090168532159787e-15A49.73,49.73 0,1,0 49.73,1.2180337064319574e-14Z\" style=\"stroke: rgb(255, 255, 255); stroke-opacity: 1; stroke-width: 1px;\"/><path class=\"xgrid\" d=\"M74.59,0A74.59,74.59 0,1,0 -74.59,-9.134640474840109e-15A74.59,74.59 0,1,0 74.59,1.8269280949680217e-14Z\" style=\"stroke: rgb(255, 255, 255); stroke-opacity: 1; stroke-width: 1px;\"/><path class=\"xgrid\" d=\"M99.45,0A99.45,99.45 0,1,0 -99.45,-1.2179112417520428e-14A99.45,99.45 0,1,0 99.45,2.4358224835040855e-14Z\" style=\"stroke: rgb(255, 255, 255); stroke-opacity: 1; stroke-width: 1px;\"/><path class=\"xgrid\" d=\"M124.32,0A124.32,124.32 0,1,0 -124.32,-1.5224809006999893e-14A124.32,124.32 0,1,0 124.32,3.0449618013999787e-14Z\" style=\"stroke: rgb(255, 255, 255); stroke-opacity: 1; stroke-width: 1px;\"/></g><g class=\"polarsublayer frontplot\" transform=\"translate(58,50)\" clip-path=\"url(#clip4dd276polar-for-traces)\"><g class=\"barlayer\"><g class=\"trace bars\" style=\"opacity: 1;\"><g class=\"points\"><g class=\"point\" style=\"vector-effect: none; stroke-miterlimit: 2;\"><path d=\"M150,150L150.62832312702818,146.48150700445515A3.5741548527808074,3.5741548527808074 0,0,0 149.37167687297182,146.48150700445515L150,150A0,0 0,0,1 150,150Z\" style=\"opacity: 1; stroke-width: 0.5px; fill: rgb(48, 18, 59); fill-opacity: 1; stroke: rgb(229, 236, 246); stroke-opacity: 1;\"/></g><g class=\"point\" style=\"vector-effect: none; stroke-miterlimit: 2;\"><path d=\"M150,150L151.84318281605889,147.1206640919296A3.418756815703381,3.418756815703381 0,0,0 150.73267087770876,146.66067498588774L150,150A0,0 0,0,1 150,150Z\" style=\"opacity: 1; stroke-width: 0.5px; fill: rgb(48, 18, 59); fill-opacity: 1; stroke: rgb(229, 236, 246); stroke-opacity: 1;\"/></g><g class=\"point\" style=\"vector-effect: none; stroke-miterlimit: 2;\"><path d=\"M150,150L153.05973057454446,147.86748656054695A3.7295528898582337,3.7295528898582337 0,0,0 152.13251343945305,146.94026942545557L150,150A0,0 0,0,1 150,150Z\" style=\"opacity: 1; stroke-width: 0.5px; fill: rgb(48, 18, 59); fill-opacity: 1; stroke: rgb(229, 236, 246); stroke-opacity: 1;\"/></g><g class=\"point\" style=\"vector-effect: none; stroke-miterlimit: 2;\"><path d=\"M150,150L156.6786500282245,148.5346582445825A6.837513631406762,6.837513631406762 0,0,0 155.7586718161408,146.31363436788226L150,150A0,0 0,0,1 150,150Z\" style=\"opacity: 1; stroke-width: 0.5px; fill: rgb(48, 18, 59); fill-opacity: 1; stroke: rgb(229, 236, 246); stroke-opacity: 1;\"/></g><g class=\"point\" style=\"vector-effect: none; stroke-miterlimit: 2;\"><path d=\"M150,150L157.0369859910897,151.25664625405636A7.148309705561615,7.148309705561615 0,0,0 157.0369859910897,148.74335374594364L150,150A0,0 0,0,1 150,150Z\" style=\"opacity: 1; stroke-width: 0.5px; fill: rgb(48, 18, 59); fill-opacity: 1; stroke: rgb(229, 236, 246); stroke-opacity: 1;\"/></g><g class=\"point\" style=\"vector-effect: none; stroke-miterlimit: 2;\"><path d=\"M150,150L154.97339838666707,153.18367940955622A5.905125408942203,5.905125408942203 0,0,0 155.7679250243757,151.26552242513333L150,150A0,0 0,0,1 150,150Z\" style=\"opacity: 1; stroke-width: 0.5px; fill: rgb(48, 18, 59); fill-opacity: 1; stroke: rgb(229, 236, 246); stroke-opacity: 1;\"/></g><g class=\"point\" style=\"vector-effect: none; stroke-miterlimit: 2;\"><path d=\"M150,150L152.75449652596018,153.95215199211992A4.817339149400218,4.817339149400218 0,0,0 153.9521519921199,152.75449652596018L150,150A0,0 0,0,1 150,150Z\" style=\"opacity: 1; stroke-width: 0.5px; fill: rgb(48, 18, 59); fill-opacity: 1; stroke: rgb(229, 236, 246); stroke-opacity: 1;\"/></g><g class=\"point\" style=\"vector-effect: none; stroke-miterlimit: 2;\"><path d=\"M150,150L150.66606443428068,153.0357500128293A3.1079607415485277,3.1079607415485277 0,0,0 151.6756207418717,152.61757809824581L150,150A0,0 0,0,1 150,150Z\" style=\"opacity: 1; stroke-width: 0.5px; fill: rgb(48, 18, 59); fill-opacity: 1; stroke: rgb(229, 236, 246); stroke-opacity: 1;\"/></g><g class=\"point\" style=\"vector-effect: none; stroke-miterlimit: 2;\"><path d=\"M150,150L149.04385611104405,155.3542284714813A5.438931297709924,5.438931297709924 0,0,0 150.95614388895592,155.3542284714813L150,150A0,0 0,0,1 150,150Z\" style=\"opacity: 1; stroke-width: 0.5px; fill: rgb(48, 18, 59); fill-opacity: 1; stroke: rgb(229, 236, 246); stroke-opacity: 1;\"/></g><g class=\"point\" style=\"vector-effect: none; stroke-miterlimit: 2;\"><path d=\"M150,150L146.81632059044375,154.97339838666704A5.905125408942203,5.905125408942203 0,0,0 148.73447757486667,155.7679250243757L150,150A0,0 0,0,1 150,150Z\" style=\"opacity: 1; stroke-width: 0.5px; fill: rgb(48, 18, 59); fill-opacity: 1; stroke: rgb(229, 236, 246); stroke-opacity: 1;\"/></g><g class=\"point\" style=\"vector-effect: none; stroke-miterlimit: 2;\"><path d=\"M150,150L146.17533678181945,152.6656417993163A4.661941112322792,4.661941112322792 0,0,0 147.3343582006837,153.82466321818055L150,150A0,0 0,0,1 150,150Z\" style=\"opacity: 1; stroke-width: 0.5px; fill: rgb(48, 18, 59); fill-opacity: 1; stroke: rgb(229, 236, 246); stroke-opacity: 1;\"/></g><g class=\"point\" style=\"vector-effect: none; stroke-miterlimit: 2;\"><path d=\"M150,150L145.1427999794731,151.0657030948491A4.972737186477644,4.972737186477644 0,0,0 145.8118750428067,152.68099318699473L150,150A0,0 0,0,1 150,150Z\" style=\"opacity: 1; stroke-width: 0.5px; fill: rgb(48, 18, 59); fill-opacity: 1; stroke: rgb(229, 236, 246); stroke-opacity: 1;\"/></g><g class=\"point\" style=\"vector-effect: none; stroke-miterlimit: 2;\"><path d=\"M150,150L144.03385970320656,148.93458252373483A6.06052344601963,6.06052344601963 0,0,0 144.03385970320656,151.0654174762652L150,150A0,0 0,0,1 150,150Z\" style=\"opacity: 1; stroke-width: 0.5px; fill: rgb(48, 18, 59); fill-opacity: 1; stroke: rgb(229, 236, 246); stroke-opacity: 1;\"/></g><g class=\"point\" style=\"vector-effect: none; stroke-miterlimit: 2;\"><path d=\"M150,150L144.1104492789469,146.22985333078867A6.992911668484187,6.992911668484187 0,0,0 143.16956247113404,148.50135502286844L150,150A0,0 0,0,1 150,150Z\" style=\"opacity: 1; stroke-width: 0.5px; fill: rgb(48, 18, 59); fill-opacity: 1; stroke: rgb(229, 236, 246); stroke-opacity: 1;\"/></g><g class=\"point\" style=\"vector-effect: none; stroke-miterlimit: 2;\"><path d=\"M150,150L144.6687164013674,142.35067356363888A9.323882224645583,9.323882224645583 0,0,0 142.35067356363888,144.66871640136742L150,150A0,0 0,0,1 150,150Z\" style=\"opacity: 1; stroke-width: 0.5px; fill: rgb(48, 18, 59); fill-opacity: 1; stroke: rgb(229, 236, 246); stroke-opacity: 1;\"/></g><g class=\"point\" style=\"vector-effect: none; stroke-miterlimit: 2;\"><path d=\"M150,150L148.90099368343684,144.99101247883164A5.128135223555071,5.128135223555071 0,0,0 147.2352257759117,145.6809961378944L150,150A0,0 0,0,1 150,150Z\" style=\"opacity: 1; stroke-width: 0.5px; fill: rgb(48, 18, 59); fill-opacity: 1; stroke: rgb(229, 236, 246); stroke-opacity: 1;\"/></g></g></g><g class=\"trace bars\" style=\"opacity: 1;\"><g class=\"points\"><g class=\"point\" style=\"vector-effect: none; stroke-miterlimit: 2;\"><path d=\"M150.62832312702818,146.48150700445515L151.50251182550218,141.586212401958A8.546892039258452,8.546892039258452 0,0,0 148.49748817449782,141.586212401958L149.37167687297182,146.48150700445515A3.5741548527808074,3.5741548527808074 0,0,1 150.62832312702818,146.48150700445515Z\" style=\"opacity: 1; stroke-width: 0.5px; fill: rgb(65, 69, 171); fill-opacity: 1; stroke: rgb(229, 236, 246); stroke-opacity: 1;\"/></g><g class=\"point\" style=\"vector-effect: none; stroke-miterlimit: 2;\"><path d=\"M151.84318281605889,147.1206640919296L155.69711052236377,141.1002344659642A10.567066521264996,10.567066521264996 0,0,0 152.26461907655437,139.67844995638032L150.73267087770876,146.66067498588774A3.418756815703381,3.418756815703381 0,0,1 151.84318281605889,147.1206640919296Z\" style=\"opacity: 1; stroke-width: 0.5px; fill: rgb(65, 69, 171); fill-opacity: 1; stroke: rgb(229, 236, 246); stroke-opacity: 1;\"/></g><g class=\"point\" style=\"vector-effect: none; stroke-miterlimit: 2;\"><path d=\"M153.05973057454446,147.86748656054695L159.8166355933301,143.1581860484215A11.965648854961833,11.965648854961833 0,0,0 156.8418139515785,140.1833644066699L152.13251343945305,146.94026942545557A3.7295528898582337,3.7295528898582337 0,0,1 153.05973057454446,147.86748656054695Z\" style=\"opacity: 1; stroke-width: 0.5px; fill: rgb(65, 69, 171); fill-opacity: 1; stroke: rgb(229, 236, 246); stroke-opacity: 1;\"/></g><g class=\"point\" style=\"vector-effect: none; stroke-miterlimit: 2;\"><path d=\"M156.6786500282245,148.5346582445825L161.23227504746848,147.53556159316145A11.499454743729553,11.499454743729553 0,0,0 159.68503896350953,143.8002032550747L155.7586718161408,146.31363436788226A6.837513631406762,6.837513631406762 0,0,1 156.6786500282245,148.5346582445825Z\" style=\"opacity: 1; stroke-width: 0.5px; fill: rgb(65, 69, 171); fill-opacity: 1; stroke: rgb(229, 236, 246); stroke-opacity: 1;\"/></g><g class=\"point\" style=\"vector-effect: none; stroke-miterlimit: 2;\"><path d=\"M157.0369859910897,151.25664625405636L162.0852585499149,152.1581533493577A12.276444929116686,12.276444929116686 0,0,0 162.0852585499149,147.8418466506423L157.0369859910897,148.74335374594364A7.148309705561615,7.148309705561615 0,0,1 157.0369859910897,151.25664625405636Z\" style=\"opacity: 1; stroke-width: 0.5px; fill: rgb(65, 69, 171); fill-opacity: 1; stroke: rgb(229, 236, 246); stroke-opacity: 1;\"/></g><g class=\"point\" style=\"vector-effect: none; stroke-miterlimit: 2;\"><path d=\"M154.97339838666707,153.18367940955622L160.86294910772017,156.95382607876755A12.898037077426391,12.898037077426391 0,0,0 162.59836255324169,152.76416740226486L155.7679250243757,151.26552242513333A5.905125408942203,5.905125408942203 0,0,1 154.97339838666707,153.18367940955622Z\" style=\"opacity: 1; stroke-width: 0.5px; fill: rgb(65, 69, 171); fill-opacity: 1; stroke: rgb(229, 236, 246); stroke-opacity: 1;\"/></g><g class=\"point\" style=\"vector-effect: none; stroke-miterlimit: 2;\"><path d=\"M152.75449652596018,153.95215199211992L156.8418139515785,159.8166355933301A11.965648854961833,11.965648854961833 0,0,0 159.8166355933301,156.8418139515785L153.9521519921199,152.75449652596018A4.817339149400218,4.817339149400218 0,0,1 152.75449652596018,153.95215199211992Z\" style=\"opacity: 1; stroke-width: 0.5px; fill: rgb(65, 69, 171); fill-opacity: 1; stroke: rgb(229, 236, 246); stroke-opacity: 1;\"/></g><g class=\"point\" style=\"vector-effect: none; stroke-miterlimit: 2;\"><path d=\"M150.66606443428068,153.0357500128293L151.7317675291298,157.89295003335624A8.080697928026172,8.080697928026172 0,0,0 154.3566139288664,156.80570305543912L151.6756207418717,152.61757809824581A3.1079607415485277,3.1079607415485277 0,0,1 150.66606443428068,153.0357500128293Z\" style=\"opacity: 1; stroke-width: 0.5px; fill: rgb(65, 69, 171); fill-opacity: 1; stroke: rgb(229, 236, 246); stroke-opacity: 1;\"/></g><g class=\"point\" style=\"vector-effect: none; stroke-miterlimit: 2;\"><path d=\"M149.04385611104405,155.3542284714813L147.5959810791965,163.4620601568672A13.675027262813524,13.675027262813524 0,0,0 152.40401892080348,163.4620601568672L150.95614388895592,155.3542284714813A5.438931297709924,5.438931297709924 0,0,1 149.04385611104405,155.3542284714813Z\" style=\"opacity: 1; stroke-width: 0.5px; fill: rgb(65, 69, 171); fill-opacity: 1; stroke: rgb(229, 236, 246); stroke-opacity: 1;\"/></g><g class=\"point\" style=\"vector-effect: none; stroke-miterlimit: 2;\"><path d=\"M146.81632059044375,154.97339838666704L141.37055317936074,163.48052720596598A16.00599781897492,16.00599781897492 0,0,0 146.56976816345443,165.634112566071L148.73447757486667,155.7679250243757A5.905125408942203,5.905125408942203 0,0,1 146.81632059044375,154.97339838666704Z\" style=\"opacity: 1; stroke-width: 0.5px; fill: rgb(65, 69, 171); fill-opacity: 1; stroke: rgb(229, 236, 246); stroke-opacity: 1;\"/></g><g class=\"point\" style=\"vector-effect: none; stroke-miterlimit: 2;\"><path d=\"M146.17533678181945,152.6656417993163L140.31085318060926,156.7529592249346A11.810250817884405,11.810250817884405 0,0,0 143.2470407750654,159.68914681939074L147.3343582006837,153.82466321818055A4.661941112322792,4.661941112322792 0,0,1 146.17533678181945,152.6656417993163Z\" style=\"opacity: 1; stroke-width: 0.5px; fill: rgb(65, 69, 171); fill-opacity: 1; stroke: rgb(229, 236, 246); stroke-opacity: 1;\"/></g><g class=\"point\" style=\"vector-effect: none; stroke-miterlimit: 2;\"><path d=\"M145.1427999794731,151.0657030948491L138.3123624506071,152.56434807198067A11.965648854961833,11.965648854961833 0,0,0 139.9223243217536,156.45113985620605L145.8118750428067,152.68099318699473A4.972737186477644,4.972737186477644 0,0,1 145.1427999794731,151.0657030948491Z\" style=\"opacity: 1; stroke-width: 0.5px; fill: rgb(65, 69, 171); fill-opacity: 1; stroke: rgb(229, 236, 246); stroke-opacity: 1;\"/></g><g class=\"point\" style=\"vector-effect: none; stroke-miterlimit: 2;\"><path d=\"M144.03385970320656,148.93458252373483L132.71349093493185,146.91302115851371A17.559978189749184,17.559978189749184 0,0,0 132.71349093493185,153.0869788414863L144.03385970320656,151.0654174762652A6.06052344601963,6.06052344601963 0,0,1 144.03385970320656,148.93458252373483Z\" style=\"opacity: 1; stroke-width: 0.5px; fill: rgb(65, 69, 171); fill-opacity: 1; stroke: rgb(229, 236, 246); stroke-opacity: 1;\"/></g><g class=\"point\" style=\"vector-effect: none; stroke-miterlimit: 2;\"><path d=\"M144.1104492789469,146.22985333078867L135.4724415547357,140.70030488261207A17.24918211559433,17.24918211559433 0,0,0 133.15158742879728,146.30334238974217L143.16956247113404,148.50135502286844A6.992911668484187,6.992911668484187 0,0,1 144.1104492789469,146.22985333078867Z\" style=\"opacity: 1; stroke-width: 0.5px; fill: rgb(65, 69, 171); fill-opacity: 1; stroke: rgb(229, 236, 246); stroke-opacity: 1;\"/></g><g class=\"point\" style=\"vector-effect: none; stroke-miterlimit: 2;\"><path d=\"M144.6687164013674,142.35067356363888L135.33897010376035,128.96435230000696A25.640676117775353,25.640676117775353 0,0,0 128.96435230000694,135.33897010376037L142.35067356363888,144.66871640136742A9.323882224645583,9.323882224645583 0,0,1 144.6687164013674,142.35067356363888Z\" style=\"opacity: 1; stroke-width: 0.5px; fill: rgb(65, 69, 171); fill-opacity: 1; stroke: rgb(229, 236, 246); stroke-opacity: 1;\"/></g><g class=\"point\" style=\"vector-effect: none; stroke-miterlimit: 2;\"><path d=\"M148.90099368343684,144.99101247883164L147.16922615430704,137.0980624454754A13.208833151581242,13.208833151581242 0,0,0 142.87861184704525,138.87529308245527L147.2352257759117,145.6809961378944A5.128135223555071,5.128135223555071 0,0,1 148.90099368343684,144.99101247883164Z\" style=\"opacity: 1; stroke-width: 0.5px; fill: rgb(65, 69, 171); fill-opacity: 1; stroke: rgb(229, 236, 246); stroke-opacity: 1;\"/></g></g></g><g class=\"trace bars\" style=\"opacity: 1;\"><g class=\"points\"><g class=\"point\" style=\"vector-effect: none; stroke-miterlimit: 2;\"><path d=\"M151.50251182550218,141.586212401958L153.22357082562286,131.9486011532917A18.336968375136316,18.336968375136316 0,0,0 146.77642917437714,131.9486011532917L148.49748817449782,141.586212401958A8.546892039258452,8.546892039258452 0,0,1 151.50251182550218,141.586212401958Z\" style=\"opacity: 1; stroke-width: 0.5px; fill: rgb(70, 117, 237); fill-opacity: 1; stroke: rgb(229, 236, 246); stroke-opacity: 1;\"/></g><g class=\"point\" style=\"vector-effect: none; stroke-miterlimit: 2;\"><path d=\"M155.69711052236377,141.1002344659642L158.62944682063926,136.51947279403402A16.00599781897492,16.00599781897492 0,0,0 153.43023183654557,134.365887433929L152.26461907655437,139.67844995638032A10.567066521264996,10.567066521264996 0,0,1 155.69711052236377,141.1002344659642Z\" style=\"opacity: 1; stroke-width: 0.5px; fill: rgb(70, 117, 237); fill-opacity: 1; stroke: rgb(229, 236, 246); stroke-opacity: 1;\"/></g><g class=\"point\" style=\"vector-effect: none; stroke-miterlimit: 2;\"><path d=\"M159.8166355933301,143.1581860484215L165.80860796847963,138.98201389615932A19.269356597600876,19.269356597600876 0,0,0 161.01798610384068,134.19139203152037L156.8418139515785,140.1833644066699A11.965648854961833,11.965648854961833 0,0,1 159.8166355933301,143.1581860484215Z\" style=\"opacity: 1; stroke-width: 0.5px; fill: rgb(70, 117, 237); fill-opacity: 1; stroke: rgb(229, 236, 246); stroke-opacity: 1;\"/></g><g class=\"point\" style=\"vector-effect: none; stroke-miterlimit: 2;\"><path d=\"M161.23227504746848,147.53556159316145L171.25025008980523,145.33754896003515A21.755725190839694,21.755725190839694 0,0,0 168.32304668772073,138.27065480689808L159.68503896350953,143.8002032550747A11.499454743729553,11.499454743729553 0,0,1 161.23227504746848,147.53556159316145Z\" style=\"opacity: 1; stroke-width: 0.5px; fill: rgb(70, 117, 237); fill-opacity: 1; stroke: rgb(229, 236, 246); stroke-opacity: 1;\"/></g><g class=\"point\" style=\"vector-effect: none; stroke-miterlimit: 2;\"><path d=\"M162.0852585499149,152.1581533493577L185.1849299554484,156.28323127028185A35.74154852780807,35.74154852780807 0,0,0 185.1849299554484,143.71676872971813L162.0852585499149,147.8418466506423A12.276444929116686,12.276444929116686 0,0,1 162.0852585499149,152.1581533493577Z\" style=\"opacity: 1; stroke-width: 0.5px; fill: rgb(70, 117, 237); fill-opacity: 1; stroke: rgb(229, 236, 246); stroke-opacity: 1;\"/></g><g class=\"point\" style=\"vector-effect: none; stroke-miterlimit: 2;\"><path d=\"M160.86294910772017,156.95382607876755L169.76271464175593,162.65093660113135A23.465103598691385,23.465103598691385 0,0,0 172.91991259686137,155.02878647881923L162.59836255324169,152.76416740226486A12.898037077426391,12.898037077426391 0,0,1 160.86294910772017,156.95382607876755Z\" style=\"opacity: 1; stroke-width: 0.5px; fill: rgb(70, 117, 237); fill-opacity: 1; stroke: rgb(229, 236, 246); stroke-opacity: 1;\"/></g><g class=\"point\" style=\"vector-effect: none; stroke-miterlimit: 2;\"><path d=\"M156.8418139515785,159.8166355933301L169.9923134948722,178.68497413635419A34.964558342420936,34.964558342420936 0,0,0 178.68497413635419,169.99231349487223L159.8166355933301,156.8418139515785A11.965648854961833,11.965648854961833 0,0,1 156.8418139515785,159.8166355933301Z\" style=\"opacity: 1; stroke-width: 0.5px; fill: rgb(70, 117, 237); fill-opacity: 1; stroke: rgb(229, 236, 246); stroke-opacity: 1;\"/></g><g class=\"point\" style=\"vector-effect: none; stroke-miterlimit: 2;\"><path d=\"M151.7317675291298,157.89295003335624L155.6948509130999,175.95566260969068A26.573064340239913,26.573064340239913 0,0,0 164.32655734300303,172.38029274000178L154.3566139288664,156.80570305543912A8.080697928026172,8.080697928026172 0,0,1 151.7317675291298,157.89295003335624Z\" style=\"opacity: 1; stroke-width: 0.5px; fill: rgb(70, 117, 237); fill-opacity: 1; stroke: rgb(229, 236, 246); stroke-opacity: 1;\"/></g><g class=\"point\" style=\"vector-effect: none; stroke-miterlimit: 2;\"><path d=\"M147.5959810791965,163.4620601568672L143.71676872971813,185.1849299554484A35.74154852780807,35.74154852780807 0,0,0 156.28323127028185,185.1849299554484L152.40401892080348,163.4620601568672A13.675027262813524,13.675027262813524 0,0,1 147.5959810791965,163.4620601568672Z\" style=\"opacity: 1; stroke-width: 0.5px; fill: rgb(70, 117, 237); fill-opacity: 1; stroke: rgb(229, 236, 246); stroke-opacity: 1;\"/></g><g class=\"point\" style=\"vector-effect: none; stroke-miterlimit: 2;\"><path d=\"M141.37055317936074,163.48052720596598L121.09554220271315,195.15322219474038A53.6123227917121,53.6123227917121 0,0,0 138.51038850865805,202.36668772130577L146.56976816345443,165.634112566071A16.00599781897492,16.00599781897492 0,0,1 141.37055317936074,163.48052720596598Z\" style=\"opacity: 1; stroke-width: 0.5px; fill: rgb(70, 117, 237); fill-opacity: 1; stroke: rgb(229, 236, 246); stroke-opacity: 1;\"/></g><g class=\"point\" style=\"vector-effect: none; stroke-miterlimit: 2;\"><path d=\"M140.31085318060926,156.7529592249346L104.74148525153008,181.54342795857616A55.166303162486365,55.166303162486365 0,0,0 118.45657204142384,195.2585147484699L143.2470407750654,159.68914681939074A11.810250817884405,11.810250817884405 0,0,1 140.31085318060926,156.7529592249346Z\" style=\"opacity: 1; stroke-width: 0.5px; fill: rgb(70, 117, 237); fill-opacity: 1; stroke: rgb(229, 236, 246); stroke-opacity: 1;\"/></g><g class=\"point\" style=\"vector-effect: none; stroke-miterlimit: 2;\"><path d=\"M138.3123624506071,152.56434807198067L91.1064497511112,162.9216500250455A60.29443838604144,60.29443838604144 0,0,0 99.21898489403111,182.50704239231106L139.9223243217536,156.45113985620605A11.965648854961833,11.965648854961833 0,0,1 138.3123624506071,152.56434807198067Z\" style=\"opacity: 1; stroke-width: 0.5px; fill: rgb(70, 117, 237); fill-opacity: 1; stroke: rgb(229, 236, 246); stroke-opacity: 1;\"/></g><g class=\"point\" style=\"vector-effect: none; stroke-miterlimit: 2;\"><path d=\"M132.71349093493185,146.91302115851371L92.48028842065824,139.72828279293057A58.42966194111232,58.42966194111232 0,0,0 92.48028842065824,160.27171720706949L132.71349093493185,153.0869788414863A17.559978189749184,17.559978189749184 0,0,1 132.71349093493185,146.91302115851371Z\" style=\"opacity: 1; stroke-width: 0.5px; fill: rgb(70, 117, 237); fill-opacity: 1; stroke: rgb(229, 236, 246); stroke-opacity: 1;\"/></g><g class=\"point\" style=\"vector-effect: none; stroke-miterlimit: 2;\"><path d=\"M135.4724415547357,140.70030488261207L106.28644575929479,122.01713361074259A51.90294438386042,51.90294438386042 0,0,0 99.30297478575035,138.87672394751243L133.15158742879728,146.30334238974217A17.24918211559433,17.24918211559433 0,0,1 135.4724415547357,140.70030488261207Z\" style=\"opacity: 1; stroke-width: 0.5px; fill: rgb(70, 117, 237); fill-opacity: 1; stroke: rgb(229, 236, 246); stroke-opacity: 1;\"/></g><g class=\"point\" style=\"vector-effect: none; stroke-miterlimit: 2;\"><path d=\"M135.33897010376035,128.96435230000696L110.19308246354328,92.88502927517038A69.61832061068702,69.61832061068702 0,0,0 92.88502927517034,110.19308246354335L128.96435230000694,135.33897010376037A25.640676117775353,25.640676117775353 0,0,1 135.33897010376035,128.96435230000696Z\" style=\"opacity: 1; stroke-width: 0.5px; fill: rgb(70, 117, 237); fill-opacity: 1; stroke: rgb(229, 236, 246); stroke-opacity: 1;\"/></g><g class=\"point\" style=\"vector-effect: none; stroke-miterlimit: 2;\"><path d=\"M147.16922615430704,137.0980624454754L140.84161402864044,108.25843732359687A42.734460196292254,42.734460196292254 0,0,0 126.96021479926408,114.00830114912L142.87861184704525,138.87529308245527A13.208833151581242,13.208833151581242 0,0,1 147.16922615430704,137.0980624454754Z\" style=\"opacity: 1; stroke-width: 0.5px; fill: rgb(70, 117, 237); fill-opacity: 1; stroke: rgb(229, 236, 246); stroke-opacity: 1;\"/></g></g></g><g class=\"trace bars\" style=\"opacity: 1;\"><g class=\"points\"><g class=\"point\" style=\"vector-effect: none; stroke-miterlimit: 2;\"><path d=\"M153.22357082562286,131.9486011532917L154.42558028602463,125.21757107485806A25.17448200654308,25.17448200654308 0,0,0 145.57441971397537,125.21757107485806L146.77642917437714,131.9486011532917A18.336968375136316,18.336968375136316 0,0,1 153.22357082562286,131.9486011532917Z\" style=\"opacity: 1; stroke-width: 0.5px; fill: rgb(57, 162, 252); fill-opacity: 1; stroke: rgb(229, 236, 246); stroke-opacity: 1;\"/></g><g class=\"point\" style=\"vector-effect: none; stroke-miterlimit: 2;\"><path d=\"M158.62944682063926,136.51947279403402L162.9022797124121,129.84464864350718A23.931297709923665,23.931297709923665 0,0,0 155.12869614396132,126.62472490121424L153.43023183654557,134.365887433929A16.00599781897492,16.00599781897492 0,0,1 158.62944682063926,136.51947279403402Z\" style=\"opacity: 1; stroke-width: 0.5px; fill: rgb(57, 162, 252); fill-opacity: 1; stroke: rgb(229, 236, 246); stroke-opacity: 1;\"/></g><g class=\"point\" style=\"vector-effect: none; stroke-miterlimit: 2;\"><path d=\"M165.80860796847963,138.98201389615932L175.7527323357491,132.05134521793696A31.390403489640136,31.390403489640136 0,0,0 167.94865478206307,124.24726766425091L161.01798610384068,134.19139203152037A19.269356597600876,19.269356597600876 0,0,1 165.80860796847963,138.98201389615932Z\" style=\"opacity: 1; stroke-width: 0.5px; fill: rgb(57, 162, 252); fill-opacity: 1; stroke: rgb(229, 236, 246); stroke-opacity: 1;\"/></g><g class=\"point\" style=\"vector-effect: none; stroke-miterlimit: 2;\"><path d=\"M171.25025008980523,145.33754896003515L183.545037641764,142.63998800119833A34.342966194111234,34.342966194111234 0,0,0 178.92423798561632,131.4843908023177L168.32304668772073,138.27065480689808A21.755725190839694,21.755725190839694 0,0,1 171.25025008980523,145.33754896003515Z\" style=\"opacity: 1; stroke-width: 0.5px; fill: rgb(57, 162, 252); fill-opacity: 1; stroke: rgb(229, 236, 246); stroke-opacity: 1;\"/></g><g class=\"point\" style=\"vector-effect: none; stroke-miterlimit: 2;\"><path d=\"M185.1849299554484,156.28323127028185L214.7096755267595,161.55568185795315A65.73336968375136,65.73336968375136 0,0,0 214.7096755267595,138.44431814204685L185.1849299554484,143.71676872971813A35.74154852780807,35.74154852780807 0,0,1 185.1849299554484,156.28323127028185Z\" style=\"opacity: 1; stroke-width: 0.5px; fill: rgb(57, 162, 252); fill-opacity: 1; stroke: rgb(229, 236, 246); stroke-opacity: 1;\"/></g><g class=\"point\" style=\"vector-effect: none; stroke-miterlimit: 2;\"><path d=\"M169.76271464175593,162.65093660113135L191.35773395228398,176.4748077215729A49.10577971646674,49.10577971646674 0,0,0 197.96485020270325,160.52381806163493L172.91991259686137,155.02878647881923A23.465103598691385,23.465103598691385 0,0,1 169.76271464175593,162.65093660113135Z\" style=\"opacity: 1; stroke-width: 0.5px; fill: rgb(57, 162, 252); fill-opacity: 1; stroke: rgb(229, 236, 246); stroke-opacity: 1;\"/></g><g class=\"point\" style=\"vector-effect: none; stroke-miterlimit: 2;\"><path d=\"M169.9923134948722,178.68497413635419L183.94250557796082,198.70071164483244A59.36205016357688,59.36205016357688 0,0,0 198.7007116448324,183.94250557796084L178.68497413635419,169.99231349487223A34.964558342420936,34.964558342420936 0,0,1 169.9923134948722,178.68497413635419Z\" style=\"opacity: 1; stroke-width: 0.5px; fill: rgb(57, 162, 252); fill-opacity: 1; stroke: rgb(229, 236, 246); stroke-opacity: 1;\"/></g><g class=\"point\" style=\"vector-effect: none; stroke-miterlimit: 2;\"><path d=\"M155.6948509130999,175.95566260969068L161.22318571762966,201.15238771617405A52.3691384950927,52.3691384950927 0,0,0 178.23420950053816,194.1061909554421L164.32655734300303,172.38029274000178A26.573064340239913,26.573064340239913 0,0,1 155.6948509130999,175.95566260969068Z\" style=\"opacity: 1; stroke-width: 0.5px; fill: rgb(57, 162, 252); fill-opacity: 1; stroke: rgb(229, 236, 246); stroke-opacity: 1;\"/></g><g class=\"point\" style=\"vector-effect: none; stroke-miterlimit: 2;\"><path d=\"M143.71676872971813,185.1849299554484L139.81023798341246,207.06077771035763A57.96346782988004,57.96346782988004 0,0,0 160.18976201658754,207.06077771035766L156.28323127028185,185.1849299554484A35.74154852780807,35.74154852780807 0,0,1 143.71676872971813,185.1849299554484Z\" style=\"opacity: 1; stroke-width: 0.5px; fill: rgb(57, 162, 252); fill-opacity: 1; stroke: rgb(229, 236, 246); stroke-opacity: 1;\"/></g><g class=\"point\" style=\"vector-effect: none; stroke-miterlimit: 2;\"><path d=\"M121.09554220271315,195.15322219474038L103.33396233887309,222.89955003614608A86.55670665212651,86.55670665212651 0,0,0 131.4501055052827,234.54563785729658L138.51038850865805,202.36668772130577A53.6123227917121,53.6123227917121 0,0,1 121.09554220271315,195.15322219474038Z\" style=\"opacity: 1; stroke-width: 0.5px; fill: rgb(57, 162, 252); fill-opacity: 1; stroke: rgb(229, 236, 246); stroke-opacity: 1;\"/></g><g class=\"point\" style=\"vector-effect: none; stroke-miterlimit: 2;\"><path d=\"M104.74148525153008,181.54342795857616L70.19202751396571,205.6230588790667A97.27917121046892,97.27917121046892 0,0,0 94.3769411209333,229.80797248603426L118.45657204142384,195.2585147484699A55.166303162486365,55.166303162486365 0,0,1 104.74148525153008,181.54342795857616Z\" style=\"opacity: 1; stroke-width: 0.5px; fill: rgb(57, 162, 252); fill-opacity: 1; stroke: rgb(229, 236, 246); stroke-opacity: 1;\"/></g><g class=\"point\" style=\"vector-effect: none; stroke-miterlimit: 2;\"><path d=\"M91.1064497511112,162.9216500250455L34.641499512485865,175.31044850266645A118.10250817884406,118.10250817884406 0,0,0 50.53203226665889,213.67358819112474L99.21898489403111,182.50704239231106A60.29443838604144,60.29443838604144 0,0,1 91.1064497511112,162.9216500250455Z\" style=\"opacity: 1; stroke-width: 0.5px; fill: rgb(57, 162, 252); fill-opacity: 1; stroke: rgb(229, 236, 246); stroke-opacity: 1;\"/></g><g class=\"point\" style=\"vector-effect: none; stroke-miterlimit: 2;\"><path d=\"M92.48028842065824,139.72828279293057L49.187526779823855,131.9971764908012A102.407306434024,102.407306434024 0,0,0 49.187526779823884,168.00282350919892L92.48028842065824,160.27171720706949A58.42966194111232,58.42966194111232 0,0,1 92.48028842065824,139.72828279293057Z\" style=\"opacity: 1; stroke-width: 0.5px; fill: rgb(57, 162, 252); fill-opacity: 1; stroke: rgb(229, 236, 246); stroke-opacity: 1;\"/></g><g class=\"point\" style=\"vector-effect: none; stroke-miterlimit: 2;\"><path d=\"M106.28644575929479,122.01713361074259L58.253887656484,91.2694929973969A108.93402399127591,108.93402399127591 0,0,0 43.59696205033234,126.65444157846173L99.30297478575035,138.87672394751243A51.90294438386042,51.90294438386042 0,0,1 106.28644575929479,122.01713361074259Z\" style=\"opacity: 1; stroke-width: 0.5px; fill: rgb(57, 162, 252); fill-opacity: 1; stroke: rgb(229, 236, 246); stroke-opacity: 1;\"/></g><g class=\"point\" style=\"vector-effect: none; stroke-miterlimit: 2;\"><path d=\"M110.19308246354328,92.88502927517038L92.77755604134344,67.89722958305742A100.0763358778626,100.0763358778626 0,0,0 67.89722958305735,92.77755604134356L92.88502927517034,110.19308246354335A69.61832061068702,69.61832061068702 0,0,1 110.19308246354328,92.88502927517038Z\" style=\"opacity: 1; stroke-width: 0.5px; fill: rgb(57, 162, 252); fill-opacity: 1; stroke: rgb(229, 236, 246); stroke-opacity: 1;\"/></g><g class=\"point\" style=\"vector-effect: none; stroke-miterlimit: 2;\"><path d=\"M140.84161402864044,108.25843732359687L136.04595010181941,86.40103723122576A65.11177753544166,65.11177753544166 0,0,0 114.8957454577878,95.1617388417501L126.96021479926408,114.00830114912A42.734460196292254,42.734460196292254 0,0,1 140.84161402864044,108.25843732359687Z\" style=\"opacity: 1; stroke-width: 0.5px; fill: rgb(57, 162, 252); fill-opacity: 1; stroke: rgb(229, 236, 246); stroke-opacity: 1;\"/></g></g></g><g class=\"trace bars\" style=\"opacity: 1;\"><g class=\"points\"><g class=\"point\" style=\"vector-effect: none; stroke-miterlimit: 2;\"><path d=\"M154.42558028602463,125.21757107485806L155.10854020670743,121.39312216665715A29.05943293347874,29.05943293347874 0,0,0 144.89145979329257,121.39312216665715L145.57441971397537,125.21757107485806A25.17448200654308,25.17448200654308 0,0,1 154.42558028602463,125.21757107485806Z\" style=\"opacity: 1; stroke-width: 0.5px; fill: rgb(27, 207, 212); fill-opacity: 1; stroke: rgb(229, 236, 246); stroke-opacity: 1;\"/></g><g class=\"point\" style=\"vector-effect: none; stroke-miterlimit: 2;\"><path d=\"M162.9022797124121,129.84464864350718L163.90765215753513,128.2741017845597A25.796074154852782,25.796074154852782 0,0,0 155.52833480452975,124.80327489351664L155.12869614396132,126.62472490121424A23.931297709923665,23.931297709923665 0,0,1 162.9022797124121,129.84464864350718Z\" style=\"opacity: 1; stroke-width: 0.5px; fill: rgb(27, 207, 212); fill-opacity: 1; stroke: rgb(229, 236, 246); stroke-opacity: 1;\"/></g><g class=\"point\" style=\"vector-effect: none; stroke-miterlimit: 2;\"><path d=\"M175.7527323357491,132.05134521793696L178.04753026665742,130.45196013834718A34.18756815703381,34.18756815703381 0,0,0 169.54803986165285,121.95246973334258L167.94865478206307,124.24726766425091A31.390403489640136,31.390403489640136 0,0,1 175.7527323357491,132.05134521793696Z\" style=\"opacity: 1; stroke-width: 0.5px; fill: rgb(27, 207, 212); fill-opacity: 1; stroke: rgb(229, 236, 246); stroke-opacity: 1;\"/></g><g class=\"point\" style=\"vector-effect: none; stroke-miterlimit: 2;\"><path d=\"M183.545037641764,142.63998800119833L198.2684252039862,139.40957549493697A49.4165757906216,49.4165757906216 0,0,0 191.61949176210854,123.35763020423994L178.92423798561632,131.4843908023177A34.342966194111234,34.342966194111234 0,0,1 183.545037641764,142.63998800119833Z\" style=\"opacity: 1; stroke-width: 0.5px; fill: rgb(27, 207, 212); fill-opacity: 1; stroke: rgb(229, 236, 246); stroke-opacity: 1;\"/></g><g class=\"point\" style=\"vector-effect: none; stroke-miterlimit: 2;\"><path d=\"M214.7096755267595,161.55568185795315L215.47456530839966,161.69227384208972A66.51035986913848,66.51035986913848 0,0,0 215.47456530839966,138.30772615791028L214.7096755267595,138.44431814204685A65.73336968375136,65.73336968375136 0,0,1 214.7096755267595,161.55568185795315Z\" style=\"opacity: 1; stroke-width: 0.5px; fill: rgb(27, 207, 212); fill-opacity: 1; stroke: rgb(229, 236, 246); stroke-opacity: 1;\"/></g><g class=\"point\" style=\"vector-effect: none; stroke-miterlimit: 2;\"><path d=\"M191.35773395228398,176.4748077215729L200.65013620105663,182.42326135521742A60.139040348964016,60.139040348964016 0,0,0 208.74176274824734,162.8883468033314L197.96485020270325,160.52381806163493A49.10577971646674,49.10577971646674 0,0,1 191.35773395228398,176.4748077215729Z\" style=\"opacity: 1; stroke-width: 0.5px; fill: rgb(27, 207, 212); fill-opacity: 1; stroke: rgb(229, 236, 246); stroke-opacity: 1;\"/></g><g class=\"point\" style=\"vector-effect: none; stroke-miterlimit: 2;\"><path d=\"M183.94250557796082,198.70071164483244L185.27532647761896,200.6130432539227A61.69302071973828,61.69302071973828 0,0,0 200.61304325392268,185.275326477619L198.7007116448324,183.94250557796084A59.36205016357688,59.36205016357688 0,0,1 183.94250557796082,198.70071164483244Z\" style=\"opacity: 1; stroke-width: 0.5px; fill: rgb(27, 207, 212); fill-opacity: 1; stroke: rgb(229, 236, 246); stroke-opacity: 1;\"/></g><g class=\"point\" style=\"vector-effect: none; stroke-miterlimit: 2;\"><path d=\"M161.22318571762966,201.15238771617405L162.08906948219456,205.09886273285215A56.40948745910578,56.40948745910578 0,0,0 180.41251646497136,197.50904248316164L178.23420950053816,194.1061909554421A52.3691384950927,52.3691384950927 0,0,1 161.22318571762966,201.15238771617405Z\" style=\"opacity: 1; stroke-width: 0.5px; fill: rgb(27, 207, 212); fill-opacity: 1; stroke: rgb(229, 236, 246); stroke-opacity: 1;\"/></g><g class=\"point\" style=\"vector-effect: none; stroke-miterlimit: 2;\"><path d=\"M139.81023798341246,207.06077771035763L139.15459645955696,210.73224866223052A61.69302071973827,61.69302071973827 0,0,0 160.84540354044302,210.73224866223052L160.18976201658754,207.06077771035766A57.96346782988004,57.96346782988004 0,0,1 139.81023798341246,207.06077771035763Z\" style=\"opacity: 1; stroke-width: 0.5px; fill: rgb(27, 207, 212); fill-opacity: 1; stroke: rgb(229, 236, 246); stroke-opacity: 1;\"/></g><g class=\"point\" style=\"vector-effect: none; stroke-miterlimit: 2;\"><path d=\"M103.33396233887309,222.89955003614608L99.64759670675535,228.65822185228689A93.39422028353326,93.39422028353326 0,0,0 129.98476374986518,241.22428788552105L131.4501055052827,234.54563785729658A86.55670665212651,86.55670665212651 0,0,1 103.33396233887309,222.89955003614608Z\" style=\"opacity: 1; stroke-width: 0.5px; fill: rgb(27, 207, 212); fill-opacity: 1; stroke: rgb(229, 236, 246); stroke-opacity: 1;\"/></g><g class=\"point\" style=\"vector-effect: none; stroke-miterlimit: 2;\"><path d=\"M70.19202751396571,205.6230588790667L61.77776843396849,211.48747083756254A107.53544165757907,107.53544165757907 0,0,0 88.51252916243743,238.2222315660315L94.3769411209333,229.80797248603426A97.27917121046892,97.27917121046892 0,0,1 70.19202751396571,205.6230588790667Z\" style=\"opacity: 1; stroke-width: 0.5px; fill: rgb(27, 207, 212); fill-opacity: 1; stroke: rgb(229, 236, 246); stroke-opacity: 1;\"/></g><g class=\"point\" style=\"vector-effect: none; stroke-miterlimit: 2;\"><path d=\"M34.641499512485865,175.31044850266645L10.810861911775703,180.53905431176992A142.5,142.5 0,0,0 29.98404419542922,226.82721101481764L50.53203226665889,213.67358819112474A118.10250817884406,118.10250817884406 0,0,1 34.641499512485865,175.31044850266645Z\" style=\"opacity: 1; stroke-width: 0.5px; fill: rgb(27, 207, 212); fill-opacity: 1; stroke: rgb(229, 236, 246); stroke-opacity: 1;\"/></g><g class=\"point\" style=\"vector-effect: none; stroke-miterlimit: 2;\"><path d=\"M49.187526779823855,131.9971764908012L18.13300164523241,126.45154193485678A133.95310796074156,133.95310796074156 0,0,0 18.13300164523244,173.54845806514336L49.187526779823884,168.00282350919892A102.407306434024,102.407306434024 0,0,1 49.187526779823855,131.9971764908012Z\" style=\"opacity: 1; stroke-width: 0.5px; fill: rgb(27, 207, 212); fill-opacity: 1; stroke: rgb(229, 236, 246); stroke-opacity: 1;\"/></g><g class=\"point\" style=\"vector-effect: none; stroke-miterlimit: 2;\"><path d=\"M58.253887656484,91.2694929973969L47.52181745367612,84.3994479557229A121.67666303162488,121.67666303162488 0,0,0 31.150386997732113,123.92357739791088L43.59696205033234,126.65444157846173A108.93402399127591,108.93402399127591 0,0,1 58.253887656484,91.2694929973969Z\" style=\"opacity: 1; stroke-width: 0.5px; fill: rgb(27, 207, 212); fill-opacity: 1; stroke: rgb(229, 236, 246); stroke-opacity: 1;\"/></g><g class=\"point\" style=\"vector-effect: none; stroke-miterlimit: 2;\"><path d=\"M92.77755604134344,67.89722958305742L92.33328240812406,67.25978571336067A100.85332606324974,100.85332606324974 0,0,0 67.25978571336059,92.33328240812418L67.89722958305735,92.77755604134356A100.0763358778626,100.0763358778626 0,0,1 92.77755604134344,67.89722958305742Z\" style=\"opacity: 1; stroke-width: 0.5px; fill: rgb(27, 207, 212); fill-opacity: 1; stroke: rgb(229, 236, 246); stroke-opacity: 1;\"/></g><g class=\"point\" style=\"vector-effect: none; stroke-miterlimit: 2;\"><path d=\"M136.04595010181941,86.40103723122576L134.91364056354223,81.24026220941592A70.39531079607416,70.39531079607416 0,0,0 112.04719019660591,90.7118560747322L114.8957454577878,95.1617388417501A65.11177753544166,65.11177753544166 0,0,1 136.04595010181941,86.40103723122576Z\" style=\"opacity: 1; stroke-width: 0.5px; fill: rgb(27, 207, 212); fill-opacity: 1; stroke: rgb(229, 236, 246); stroke-opacity: 1;\"/></g></g></g></g><g class=\"scatterlayer\"/></g><g class=\"polarsublayer angular-line\"><path d=\"M150,0A150,150 0,1,0 -150,-1.8369701987210297e-14A150,150 0,1,0 150,3.6739403974420595e-14Z\" transform=\"translate(208,200)\" stroke-width=\"1\" style=\"fill: none; stroke: rgb(255, 255, 255); stroke-opacity: 1;\"/></g><g class=\"polarsublayer radial-line\"><line x1=\"0\" y1=\"0\" x2=\"150\" y2=\"0\" transform=\"translate(208,200)\" stroke-width=\"1\" style=\"fill: none; stroke: rgb(255, 255, 255); stroke-opacity: 1;\"/></g><g class=\"polarsublayer angular-axis\"><g class=\"angularaxistick\"><text text-anchor=\"middle\" x=\"1.7757378587636624e-16\" y=\"-5.300000000000001\" transform=\"translate(208,50)\" style=\"font-family: 'Open Sans', verdana, arial, sans-serif; font-size: 12px; fill: rgb(42, 63, 95); fill-opacity: 1; white-space: pre; opacity: 1;\">0°</text></g><g class=\"angularaxistick\"><text text-anchor=\"start\" x=\"2.050609665440988\" y=\"-0.7778174593052025\" transform=\"translate(314.06601717798213,93.93398282201788)\" style=\"font-family: 'Open Sans', verdana, arial, sans-serif; font-size: 12px; fill: rgb(42, 63, 95); fill-opacity: 1; white-space: pre; opacity: 1;\">45°</text></g><g class=\"angularaxistick\"><text text-anchor=\"start\" x=\"2.9000000000000004\" y=\"4.199999999999999\" transform=\"translate(358,200)\" style=\"font-family: 'Open Sans', verdana, arial, sans-serif; font-size: 12px; fill: rgb(42, 63, 95); fill-opacity: 1; white-space: pre; opacity: 1;\">90°</text></g><g class=\"angularaxistick\"><text text-anchor=\"start\" x=\"2.050609665440988\" y=\"13.505739520663056\" transform=\"translate(314.06601717798213,306.06601717798213)\" style=\"font-family: 'Open Sans', verdana, arial, sans-serif; font-size: 12px; fill: rgb(42, 63, 95); fill-opacity: 1; white-space: pre; opacity: 1;\">135°</text></g><g class=\"angularaxistick\"><text text-anchor=\"middle\" x=\"1.7757378587636624e-16\" y=\"14.9\" transform=\"translate(208,350)\" style=\"font-family: 'Open Sans', verdana, arial, sans-serif; font-size: 12px; fill: rgb(42, 63, 95); fill-opacity: 1; white-space: pre; opacity: 1;\">180°</text></g><g class=\"angularaxistick\"><text text-anchor=\"end\" x=\"-2.0506096654409878\" y=\"13.505739520663058\" transform=\"translate(101.93398282201788,306.06601717798213)\" style=\"font-family: 'Open Sans', verdana, arial, sans-serif; font-size: 12px; fill: rgb(42, 63, 95); fill-opacity: 1; white-space: pre; opacity: 1;\">225°</text></g><g class=\"angularaxistick\"><text text-anchor=\"end\" x=\"-2.9000000000000004\" y=\"4.200000000000001\" transform=\"translate(58,200.00000000000003)\" style=\"font-family: 'Open Sans', verdana, arial, sans-serif; font-size: 12px; fill: rgb(42, 63, 95); fill-opacity: 1; white-space: pre; opacity: 1;\">270°</text></g><g class=\"angularaxistick\"><text text-anchor=\"end\" x=\"-2.0506096654409887\" y=\"-0.7778174593052021\" transform=\"translate(101.93398282201785,93.93398282201788)\" style=\"font-family: 'Open Sans', verdana, arial, sans-serif; font-size: 12px; fill: rgb(42, 63, 95); fill-opacity: 1; white-space: pre; opacity: 1;\">315°</text></g></g><g class=\"polarsublayer radial-axis\" transform=\"translate(208,200)\"><g class=\"xtick\"><text text-anchor=\"middle\" x=\"0\" y=\"14.9\" transform=\"\" style=\"font-family: 'Open Sans', verdana, arial, sans-serif; font-size: 12px; fill: rgb(42, 63, 95); fill-opacity: 1; white-space: pre; opacity: 1;\">0</text></g><g class=\"xtick\"><text text-anchor=\"middle\" x=\"0\" y=\"14.9\" transform=\"translate(24.86,0)\" style=\"font-family: 'Open Sans', verdana, arial, sans-serif; font-size: 12px; fill: rgb(42, 63, 95); fill-opacity: 1; white-space: pre; opacity: 1;\">2</text></g><g class=\"xtick\"><text text-anchor=\"middle\" x=\"0\" y=\"14.9\" transform=\"translate(49.73,0)\" style=\"font-family: 'Open Sans', verdana, arial, sans-serif; font-size: 12px; fill: rgb(42, 63, 95); fill-opacity: 1; white-space: pre; opacity: 1;\">4</text></g><g class=\"xtick\"><text text-anchor=\"middle\" x=\"0\" y=\"14.9\" transform=\"translate(74.59,0)\" style=\"font-family: 'Open Sans', verdana, arial, sans-serif; font-size: 12px; fill: rgb(42, 63, 95); fill-opacity: 1; white-space: pre; opacity: 1;\">6</text></g><g class=\"xtick\"><text text-anchor=\"middle\" x=\"0\" y=\"14.9\" transform=\"translate(99.45,0)\" style=\"font-family: 'Open Sans', verdana, arial, sans-serif; font-size: 12px; fill: rgb(42, 63, 95); fill-opacity: 1; white-space: pre; opacity: 1;\">8</text></g><g class=\"xtick\"><text text-anchor=\"middle\" x=\"0\" y=\"14.9\" transform=\"translate(124.32,0)\" style=\"font-family: 'Open Sans', verdana, arial, sans-serif; font-size: 12px; fill: rgb(42, 63, 95); fill-opacity: 1; white-space: pre; opacity: 1;\">10</text></g><g class=\"xtick\"><text text-anchor=\"middle\" x=\"0\" y=\"14.9\" transform=\"translate(149.18,0)\" style=\"font-family: 'Open Sans', verdana, arial, sans-serif; font-size: 12px; fill: rgb(42, 63, 95); fill-opacity: 1; white-space: pre; opacity: 1;\">12</text></g></g></g></g><g class=\"smithlayer\"/><g class=\"ternarylayer\"/><g class=\"geolayer\"/><g class=\"funnelarealayer\"/><g class=\"pielayer\"/><g class=\"iciclelayer\"/><g class=\"treemaplayer\"/><g class=\"sunburstlayer\"/><g class=\"glimages\"/><defs id=\"topdefs-4dd276\"><g class=\"clips\"/><clipPath id=\"legend4dd276\"><rect width=\"116\" height=\"124\" x=\"0\" y=\"0\"/></clipPath></defs><g class=\"layer-above\"><g class=\"imagelayer\"/><g class=\"shapelayer\"/></g><g class=\"infolayer\"><g class=\"legend\" pointer-events=\"all\" transform=\"translate(372.32,50)\"><rect class=\"bg\" shape-rendering=\"crispEdges\" style=\"stroke: rgb(68, 68, 68); stroke-opacity: 1; fill: rgb(255, 255, 255); fill-opacity: 1; stroke-width: 0px;\" width=\"116\" height=\"124\" x=\"0\" y=\"0\"/><g class=\"scrollbox\" transform=\"\" clip-path=\"url(#legend4dd276)\"><text class=\"legendtitletext\" text-anchor=\"start\" x=\"2\" y=\"18.2\" style=\"font-family: 'Open Sans', verdana, arial, sans-serif; font-size: 14px; fill: rgb(42, 63, 95); fill-opacity: 1; white-space: pre;\">AMB_WS [m/s]</text><g class=\"groups\" transform=\"\"><g class=\"traces\" transform=\"translate(0,32.7)\" style=\"opacity: 1;\"><text class=\"legendtext\" text-anchor=\"start\" x=\"40\" y=\"4.680000000000001\" style=\"font-family: 'Open Sans', verdana, arial, sans-serif; font-size: 12px; fill: rgb(42, 63, 95); fill-opacity: 1; white-space: pre;\">[0.0, 3.5)</text><g class=\"layers\" style=\"opacity: 1;\"><g class=\"legendfill\"/><g class=\"legendlines\"/><g class=\"legendsymbols\"><g class=\"legendpoints\"><path class=\"legendundefined\" d=\"M6,6H-6V-6H6Z\" transform=\"translate(20,0)\" style=\"stroke-width: 0.5px; fill: rgb(48, 18, 59); fill-opacity: 1; stroke: rgb(229, 236, 246); stroke-opacity: 1;\"/></g></g></g><rect class=\"legendtoggle\" x=\"0\" y=\"-9.5\" width=\"110.4375\" height=\"19\" style=\"fill: rgb(0, 0, 0); fill-opacity: 0;\"/></g></g><g class=\"groups\" transform=\"\"><g class=\"traces\" transform=\"translate(0,51.7)\" style=\"opacity: 1;\"><text class=\"legendtext\" text-anchor=\"start\" x=\"40\" y=\"4.680000000000001\" style=\"font-family: 'Open Sans', verdana, arial, sans-serif; font-size: 12px; fill: rgb(42, 63, 95); fill-opacity: 1; white-space: pre;\">[3.5, 6.0)</text><g class=\"layers\" style=\"opacity: 1;\"><g class=\"legendfill\"/><g class=\"legendlines\"/><g class=\"legendsymbols\"><g class=\"legendpoints\"><path class=\"legendundefined\" d=\"M6,6H-6V-6H6Z\" transform=\"translate(20,0)\" style=\"stroke-width: 0.5px; fill: rgb(65, 69, 171); fill-opacity: 1; stroke: rgb(229, 236, 246); stroke-opacity: 1;\"/></g></g></g><rect class=\"legendtoggle\" x=\"0\" y=\"-9.5\" width=\"110.4375\" height=\"19\" style=\"fill: rgb(0, 0, 0); fill-opacity: 0;\"/></g></g><g class=\"groups\" transform=\"\"><g class=\"traces\" transform=\"translate(0,70.7)\" style=\"opacity: 1;\"><text class=\"legendtext\" text-anchor=\"start\" x=\"40\" y=\"4.680000000000001\" style=\"font-family: 'Open Sans', verdana, arial, sans-serif; font-size: 12px; fill: rgb(42, 63, 95); fill-opacity: 1; white-space: pre;\">[6.0, 10.0)</text><g class=\"layers\" style=\"opacity: 1;\"><g class=\"legendfill\"/><g class=\"legendlines\"/><g class=\"legendsymbols\"><g class=\"legendpoints\"><path class=\"legendundefined\" d=\"M6,6H-6V-6H6Z\" transform=\"translate(20,0)\" style=\"stroke-width: 0.5px; fill: rgb(70, 117, 237); fill-opacity: 1; stroke: rgb(229, 236, 246); stroke-opacity: 1;\"/></g></g></g><rect class=\"legendtoggle\" x=\"0\" y=\"-9.5\" width=\"110.4375\" height=\"19\" style=\"fill: rgb(0, 0, 0); fill-opacity: 0;\"/></g></g><g class=\"groups\" transform=\"\"><g class=\"traces\" transform=\"translate(0,89.7)\" style=\"opacity: 1;\"><text class=\"legendtext\" text-anchor=\"start\" x=\"40\" y=\"4.680000000000001\" style=\"font-family: 'Open Sans', verdana, arial, sans-serif; font-size: 12px; fill: rgb(42, 63, 95); fill-opacity: 1; white-space: pre;\">[10.0, 15.0)</text><g class=\"layers\" style=\"opacity: 1;\"><g class=\"legendfill\"/><g class=\"legendlines\"/><g class=\"legendsymbols\"><g class=\"legendpoints\"><path class=\"legendundefined\" d=\"M6,6H-6V-6H6Z\" transform=\"translate(20,0)\" style=\"stroke-width: 0.5px; fill: rgb(57, 162, 252); fill-opacity: 1; stroke: rgb(229, 236, 246); stroke-opacity: 1;\"/></g></g></g><rect class=\"legendtoggle\" x=\"0\" y=\"-9.5\" width=\"110.4375\" height=\"19\" style=\"fill: rgb(0, 0, 0); fill-opacity: 0;\"/></g></g><g class=\"groups\" transform=\"\"><g class=\"traces\" transform=\"translate(0,108.7)\" style=\"opacity: 1;\"><text class=\"legendtext\" text-anchor=\"start\" x=\"40\" y=\"4.680000000000001\" style=\"font-family: 'Open Sans', verdana, arial, sans-serif; font-size: 12px; fill: rgb(42, 63, 95); fill-opacity: 1; white-space: pre;\">[15.0, 20.0)</text><g class=\"layers\" style=\"opacity: 1;\"><g class=\"legendfill\"/><g class=\"legendlines\"/><g class=\"legendsymbols\"><g class=\"legendpoints\"><path class=\"legendundefined\" d=\"M6,6H-6V-6H6Z\" transform=\"translate(20,0)\" style=\"stroke-width: 0.5px; fill: rgb(27, 207, 212); fill-opacity: 1; stroke: rgb(229, 236, 246); stroke-opacity: 1;\"/></g></g></g><rect class=\"legendtoggle\" x=\"0\" y=\"-9.5\" width=\"110.4375\" height=\"19\" style=\"fill: rgb(0, 0, 0); fill-opacity: 0;\"/></g></g></g><rect class=\"scrollbar\" rx=\"20\" ry=\"3\" width=\"0\" height=\"0\" style=\"fill: rgb(128, 139, 164); fill-opacity: 1;\" x=\"0\" y=\"0\"/></g><g class=\"g-gtitle\"><text class=\"gtitle\" x=\"250\" y=\"12\" text-anchor=\"middle\" dy=\"0.7em\" style=\"font-family: 'Open Sans', verdana, arial, sans-serif; font-size: 17px; fill: rgb(42, 63, 95); opacity: 1; font-weight: normal; white-space: pre;\">Ambient wind speed</text></g><g class=\"g-polartitle\"/></g></svg>"
      ]
     },
     "metadata": {},
     "output_type": "display_data"
    }
   ],
   "source": [
    "o = foxes.output.StatesRosePlotOutput(states, point=[0., 0., 100.])\n",
    "fig = o.get_figure(16, FV.AMB_WS, [0, 3.5, 6, 10, 15, 20])\n",
    "fig.show(\"svg\")"
   ]
  },
  {
   "attachments": {},
   "cell_type": "markdown",
   "metadata": {},
   "source": [
    "For the time series with uniform data, any choice of the `point` argument will produce the same figure.\n",
    "\n",
    "Next, we create the example wind farm with 67 turbines from static data. The file `test_farm_67.csv` has the following structure:\n",
    "```\n",
    "index,label,x,y\n",
    "0,T0,101872.70,1004753.57\n",
    "1,T1,103659.97,1002993.29\n",
    "2,T2,100780.09,1000779.97\n",
    "3,T3,100290.42,1004330.88\n",
    "...\n",
    "```\n",
    "For more options, check the API section `foxes.input.farm_layout`. \n",
    "\n",
    "We consider two turbine models in this example: the wind turbine type `NREL5MW` and the turbine model `kTI_02`, both from the default model book. The latter model adds the variable `k` for each state and turbine, calculated as `k = kTI * TI`, with constant `kTI = 0.2`. The parameter `k` will later be used by the wake model."
   ]
  },
  {
   "cell_type": "code",
   "execution_count": 5,
   "metadata": {
    "execution": {
     "iopub.execute_input": "2024-01-22T10:40:42.973221Z",
     "iopub.status.busy": "2024-01-22T10:40:42.973003Z",
     "iopub.status.idle": "2024-01-22T10:40:42.994617Z",
     "shell.execute_reply": "2024-01-22T10:40:42.993921Z"
    }
   },
   "outputs": [],
   "source": [
    "farm = foxes.WindFarm()\n",
    "foxes.input.farm_layout.add_from_file(\n",
    "    farm, \"test_farm_67.csv\", turbine_models=[\"kTI_02\", \"NREL5MW\"], verbosity=0\n",
    ")"
   ]
  },
  {
   "attachments": {},
   "cell_type": "markdown",
   "metadata": {},
   "source": [
    "Next, we create the `algorithm`, with further model selections. In particular, two wake models are invoked, the model `Bastankhah_quadratic` for wind speed deficits and the model `CrespoHernandez_max` for turbulence intensity:"
   ]
  },
  {
   "cell_type": "code",
   "execution_count": 6,
   "metadata": {
    "execution": {
     "iopub.execute_input": "2024-01-22T10:40:42.996894Z",
     "iopub.status.busy": "2024-01-22T10:40:42.996694Z",
     "iopub.status.idle": "2024-01-22T10:40:43.000951Z",
     "shell.execute_reply": "2024-01-22T10:40:43.000435Z"
    }
   },
   "outputs": [],
   "source": [
    "algo = foxes.algorithms.Downwind(\n",
    "    mbook,\n",
    "    farm,\n",
    "    states=states,\n",
    "    rotor_model=\"centre\",\n",
    "    wake_models=[\"Bastankhah2014_quadratic\", \"CrespoHernandez_max\"],\n",
    "    wake_frame=\"rotor_wd\",\n",
    "    partial_wakes_model=\"auto\",\n",
    "    chunks={FC.STATE: 1000},\n",
    "    verbosity=0,\n",
    ")"
   ]
  },
  {
   "attachments": {},
   "cell_type": "markdown",
   "metadata": {},
   "source": [
    "Also notice the `chunks` parameter, specifying that always 1000 states should be considered in vectorized form during calculations. The progress is automatically visualized when invoking the `DaskRunner`:"
   ]
  },
  {
   "cell_type": "code",
   "execution_count": 7,
   "metadata": {
    "execution": {
     "iopub.execute_input": "2024-01-22T10:40:43.002919Z",
     "iopub.status.busy": "2024-01-22T10:40:43.002693Z",
     "iopub.status.idle": "2024-01-22T10:40:59.144964Z",
     "shell.execute_reply": "2024-01-22T10:40:59.144165Z"
    },
    "scrolled": false
   },
   "outputs": [
    {
     "name": "stdout",
     "output_type": "stream",
     "text": [
      "\r",
      "[                                        ] | 0% Completed | 166.46 us"
     ]
    },
    {
     "name": "stdout",
     "output_type": "stream",
     "text": [
      "\r",
      "[########################################] | 100% Completed | 102.12 ms"
     ]
    },
    {
     "name": "stdout",
     "output_type": "stream",
     "text": [
      "\n"
     ]
    },
    {
     "name": "stdout",
     "output_type": "stream",
     "text": [
      "\r",
      "[                                        ] | 0% Completed | 186.66 us"
     ]
    },
    {
     "name": "stdout",
     "output_type": "stream",
     "text": [
      "\r",
      "[##                                      ] | 6% Completed | 101.63 ms"
     ]
    },
    {
     "name": "stdout",
     "output_type": "stream",
     "text": [
      "\r",
      "[##                                      ] | 6% Completed | 204.90 ms"
     ]
    },
    {
     "name": "stdout",
     "output_type": "stream",
     "text": [
      "\r",
      "[##                                      ] | 6% Completed | 306.50 ms"
     ]
    },
    {
     "name": "stdout",
     "output_type": "stream",
     "text": [
      "\r",
      "[##                                      ] | 6% Completed | 409.07 ms"
     ]
    },
    {
     "name": "stdout",
     "output_type": "stream",
     "text": [
      "\r",
      "[##                                      ] | 6% Completed | 510.42 ms"
     ]
    },
    {
     "name": "stdout",
     "output_type": "stream",
     "text": [
      "\r",
      "[##                                      ] | 6% Completed | 614.96 ms"
     ]
    },
    {
     "name": "stdout",
     "output_type": "stream",
     "text": [
      "\r",
      "[##                                      ] | 6% Completed | 721.63 ms"
     ]
    },
    {
     "name": "stdout",
     "output_type": "stream",
     "text": [
      "\r",
      "[##                                      ] | 6% Completed | 823.84 ms"
     ]
    },
    {
     "name": "stdout",
     "output_type": "stream",
     "text": [
      "\r",
      "[##                                      ] | 6% Completed | 928.18 ms"
     ]
    },
    {
     "name": "stdout",
     "output_type": "stream",
     "text": [
      "\r",
      "[##                                      ] | 6% Completed | 1.03 s"
     ]
    },
    {
     "name": "stdout",
     "output_type": "stream",
     "text": [
      "\r",
      "[##                                      ] | 6% Completed | 1.13 s"
     ]
    },
    {
     "name": "stdout",
     "output_type": "stream",
     "text": [
      "\r",
      "[##                                      ] | 6% Completed | 1.24 s"
     ]
    },
    {
     "name": "stdout",
     "output_type": "stream",
     "text": [
      "\r",
      "[##                                      ] | 6% Completed | 1.34 s"
     ]
    },
    {
     "name": "stdout",
     "output_type": "stream",
     "text": [
      "\r",
      "[##                                      ] | 6% Completed | 1.44 s"
     ]
    },
    {
     "name": "stdout",
     "output_type": "stream",
     "text": [
      "\r",
      "[##                                      ] | 6% Completed | 1.54 s"
     ]
    },
    {
     "name": "stdout",
     "output_type": "stream",
     "text": [
      "\r",
      "[##                                      ] | 6% Completed | 1.65 s"
     ]
    },
    {
     "name": "stdout",
     "output_type": "stream",
     "text": [
      "\r",
      "[##                                      ] | 6% Completed | 1.75 s"
     ]
    },
    {
     "name": "stdout",
     "output_type": "stream",
     "text": [
      "\r",
      "[##                                      ] | 6% Completed | 1.86 s"
     ]
    },
    {
     "name": "stdout",
     "output_type": "stream",
     "text": [
      "\r",
      "[##                                      ] | 6% Completed | 1.96 s"
     ]
    },
    {
     "name": "stdout",
     "output_type": "stream",
     "text": [
      "\r",
      "[##                                      ] | 6% Completed | 2.07 s"
     ]
    },
    {
     "name": "stdout",
     "output_type": "stream",
     "text": [
      "\r",
      "[##                                      ] | 6% Completed | 2.17 s"
     ]
    },
    {
     "name": "stdout",
     "output_type": "stream",
     "text": [
      "\r",
      "[##                                      ] | 6% Completed | 2.27 s"
     ]
    },
    {
     "name": "stdout",
     "output_type": "stream",
     "text": [
      "\r",
      "[##                                      ] | 6% Completed | 2.38 s"
     ]
    },
    {
     "name": "stdout",
     "output_type": "stream",
     "text": [
      "\r",
      "[##                                      ] | 6% Completed | 2.48 s"
     ]
    },
    {
     "name": "stdout",
     "output_type": "stream",
     "text": [
      "\r",
      "[##                                      ] | 6% Completed | 2.58 s"
     ]
    },
    {
     "name": "stdout",
     "output_type": "stream",
     "text": [
      "\r",
      "[##                                      ] | 6% Completed | 2.68 s"
     ]
    },
    {
     "name": "stdout",
     "output_type": "stream",
     "text": [
      "\r",
      "[##                                      ] | 6% Completed | 2.79 s"
     ]
    },
    {
     "name": "stdout",
     "output_type": "stream",
     "text": [
      "\r",
      "[##                                      ] | 6% Completed | 2.89 s"
     ]
    },
    {
     "name": "stdout",
     "output_type": "stream",
     "text": [
      "\r",
      "[##                                      ] | 6% Completed | 3.00 s"
     ]
    },
    {
     "name": "stdout",
     "output_type": "stream",
     "text": [
      "\r",
      "[##                                      ] | 6% Completed | 3.10 s"
     ]
    },
    {
     "name": "stdout",
     "output_type": "stream",
     "text": [
      "\r",
      "[##                                      ] | 6% Completed | 3.20 s"
     ]
    },
    {
     "name": "stdout",
     "output_type": "stream",
     "text": [
      "\r",
      "[##                                      ] | 6% Completed | 3.31 s"
     ]
    },
    {
     "name": "stdout",
     "output_type": "stream",
     "text": [
      "\r",
      "[##                                      ] | 6% Completed | 3.41 s"
     ]
    },
    {
     "name": "stdout",
     "output_type": "stream",
     "text": [
      "\r",
      "[##                                      ] | 6% Completed | 3.51 s"
     ]
    },
    {
     "name": "stdout",
     "output_type": "stream",
     "text": [
      "\r",
      "[##                                      ] | 6% Completed | 3.62 s"
     ]
    },
    {
     "name": "stdout",
     "output_type": "stream",
     "text": [
      "\r",
      "[##                                      ] | 6% Completed | 3.72 s"
     ]
    },
    {
     "name": "stdout",
     "output_type": "stream",
     "text": [
      "\r",
      "[##                                      ] | 6% Completed | 3.82 s"
     ]
    },
    {
     "name": "stdout",
     "output_type": "stream",
     "text": [
      "\r",
      "[##                                      ] | 6% Completed | 3.93 s"
     ]
    },
    {
     "name": "stdout",
     "output_type": "stream",
     "text": [
      "\r",
      "[##                                      ] | 6% Completed | 4.03 s"
     ]
    },
    {
     "name": "stdout",
     "output_type": "stream",
     "text": [
      "\r",
      "[##                                      ] | 6% Completed | 4.14 s"
     ]
    },
    {
     "name": "stdout",
     "output_type": "stream",
     "text": [
      "\r",
      "[##                                      ] | 6% Completed | 4.24 s"
     ]
    },
    {
     "name": "stdout",
     "output_type": "stream",
     "text": [
      "\r",
      "[##                                      ] | 6% Completed | 4.35 s"
     ]
    },
    {
     "name": "stdout",
     "output_type": "stream",
     "text": [
      "\r",
      "[##                                      ] | 6% Completed | 4.45 s"
     ]
    },
    {
     "name": "stdout",
     "output_type": "stream",
     "text": [
      "\r",
      "[##                                      ] | 6% Completed | 4.55 s"
     ]
    },
    {
     "name": "stdout",
     "output_type": "stream",
     "text": [
      "\r",
      "[##                                      ] | 6% Completed | 4.65 s"
     ]
    },
    {
     "name": "stdout",
     "output_type": "stream",
     "text": [
      "\r",
      "[##                                      ] | 6% Completed | 4.75 s"
     ]
    },
    {
     "name": "stdout",
     "output_type": "stream",
     "text": [
      "\r",
      "[##                                      ] | 6% Completed | 4.86 s"
     ]
    },
    {
     "name": "stdout",
     "output_type": "stream",
     "text": [
      "\r",
      "[##                                      ] | 6% Completed | 4.96 s"
     ]
    },
    {
     "name": "stdout",
     "output_type": "stream",
     "text": [
      "\r",
      "[##                                      ] | 6% Completed | 5.07 s"
     ]
    },
    {
     "name": "stdout",
     "output_type": "stream",
     "text": [
      "\r",
      "[##                                      ] | 6% Completed | 5.17 s"
     ]
    },
    {
     "name": "stdout",
     "output_type": "stream",
     "text": [
      "\r",
      "[##                                      ] | 6% Completed | 5.27 s"
     ]
    },
    {
     "name": "stdout",
     "output_type": "stream",
     "text": [
      "\r",
      "[##                                      ] | 6% Completed | 5.38 s"
     ]
    },
    {
     "name": "stdout",
     "output_type": "stream",
     "text": [
      "\r",
      "[##                                      ] | 6% Completed | 5.48 s"
     ]
    },
    {
     "name": "stdout",
     "output_type": "stream",
     "text": [
      "\r",
      "[##                                      ] | 6% Completed | 5.59 s"
     ]
    },
    {
     "name": "stdout",
     "output_type": "stream",
     "text": [
      "\r",
      "[##                                      ] | 6% Completed | 5.69 s"
     ]
    },
    {
     "name": "stdout",
     "output_type": "stream",
     "text": [
      "\r",
      "[##                                      ] | 6% Completed | 5.79 s"
     ]
    },
    {
     "name": "stdout",
     "output_type": "stream",
     "text": [
      "\r",
      "[##                                      ] | 6% Completed | 5.90 s"
     ]
    },
    {
     "name": "stdout",
     "output_type": "stream",
     "text": [
      "\r",
      "[##                                      ] | 6% Completed | 6.00 s"
     ]
    },
    {
     "name": "stdout",
     "output_type": "stream",
     "text": [
      "\r",
      "[##                                      ] | 6% Completed | 6.10 s"
     ]
    },
    {
     "name": "stdout",
     "output_type": "stream",
     "text": [
      "\r",
      "[##                                      ] | 6% Completed | 6.21 s"
     ]
    },
    {
     "name": "stdout",
     "output_type": "stream",
     "text": [
      "\r",
      "[##                                      ] | 6% Completed | 6.31 s"
     ]
    },
    {
     "name": "stdout",
     "output_type": "stream",
     "text": [
      "\r",
      "[##                                      ] | 6% Completed | 6.41 s"
     ]
    },
    {
     "name": "stdout",
     "output_type": "stream",
     "text": [
      "\r",
      "[##                                      ] | 6% Completed | 6.51 s"
     ]
    },
    {
     "name": "stdout",
     "output_type": "stream",
     "text": [
      "\r",
      "[##                                      ] | 6% Completed | 6.62 s"
     ]
    },
    {
     "name": "stdout",
     "output_type": "stream",
     "text": [
      "\r",
      "[##                                      ] | 6% Completed | 6.72 s"
     ]
    },
    {
     "name": "stdout",
     "output_type": "stream",
     "text": [
      "\r",
      "[##                                      ] | 6% Completed | 6.82 s"
     ]
    },
    {
     "name": "stdout",
     "output_type": "stream",
     "text": [
      "\r",
      "[##                                      ] | 6% Completed | 6.92 s"
     ]
    },
    {
     "name": "stdout",
     "output_type": "stream",
     "text": [
      "\r",
      "[##                                      ] | 6% Completed | 7.03 s"
     ]
    },
    {
     "name": "stdout",
     "output_type": "stream",
     "text": [
      "\r",
      "[##                                      ] | 6% Completed | 7.13 s"
     ]
    },
    {
     "name": "stdout",
     "output_type": "stream",
     "text": [
      "\r",
      "[##                                      ] | 6% Completed | 7.24 s"
     ]
    },
    {
     "name": "stdout",
     "output_type": "stream",
     "text": [
      "\r",
      "[##                                      ] | 6% Completed | 7.34 s"
     ]
    },
    {
     "name": "stdout",
     "output_type": "stream",
     "text": [
      "\r",
      "[##                                      ] | 6% Completed | 7.44 s"
     ]
    },
    {
     "name": "stdout",
     "output_type": "stream",
     "text": [
      "\r",
      "[##                                      ] | 6% Completed | 7.55 s"
     ]
    },
    {
     "name": "stdout",
     "output_type": "stream",
     "text": [
      "\r",
      "[##                                      ] | 6% Completed | 7.65 s"
     ]
    },
    {
     "name": "stdout",
     "output_type": "stream",
     "text": [
      "\r",
      "[##                                      ] | 6% Completed | 7.75 s"
     ]
    },
    {
     "name": "stdout",
     "output_type": "stream",
     "text": [
      "\r",
      "[##                                      ] | 6% Completed | 7.85 s"
     ]
    },
    {
     "name": "stdout",
     "output_type": "stream",
     "text": [
      "\r",
      "[##                                      ] | 6% Completed | 7.96 s"
     ]
    },
    {
     "name": "stdout",
     "output_type": "stream",
     "text": [
      "\r",
      "[##                                      ] | 6% Completed | 8.06 s"
     ]
    },
    {
     "name": "stdout",
     "output_type": "stream",
     "text": [
      "\r",
      "[##                                      ] | 6% Completed | 8.16 s"
     ]
    },
    {
     "name": "stdout",
     "output_type": "stream",
     "text": [
      "\r",
      "[##                                      ] | 6% Completed | 8.27 s"
     ]
    },
    {
     "name": "stdout",
     "output_type": "stream",
     "text": [
      "\r",
      "[##                                      ] | 6% Completed | 8.37 s"
     ]
    },
    {
     "name": "stdout",
     "output_type": "stream",
     "text": [
      "\r",
      "[##                                      ] | 6% Completed | 8.48 s"
     ]
    },
    {
     "name": "stdout",
     "output_type": "stream",
     "text": [
      "\r",
      "[##                                      ] | 6% Completed | 8.58 s"
     ]
    },
    {
     "name": "stdout",
     "output_type": "stream",
     "text": [
      "\r",
      "[##                                      ] | 6% Completed | 8.68 s"
     ]
    },
    {
     "name": "stdout",
     "output_type": "stream",
     "text": [
      "\r",
      "[##                                      ] | 6% Completed | 8.79 s"
     ]
    },
    {
     "name": "stdout",
     "output_type": "stream",
     "text": [
      "\r",
      "[##                                      ] | 6% Completed | 8.89 s"
     ]
    },
    {
     "name": "stdout",
     "output_type": "stream",
     "text": [
      "\r",
      "[##                                      ] | 6% Completed | 8.99 s"
     ]
    },
    {
     "name": "stdout",
     "output_type": "stream",
     "text": [
      "\r",
      "[##                                      ] | 6% Completed | 9.09 s"
     ]
    },
    {
     "name": "stdout",
     "output_type": "stream",
     "text": [
      "\r",
      "[##                                      ] | 6% Completed | 9.20 s"
     ]
    },
    {
     "name": "stdout",
     "output_type": "stream",
     "text": [
      "\r",
      "[##                                      ] | 6% Completed | 9.30 s"
     ]
    },
    {
     "name": "stdout",
     "output_type": "stream",
     "text": [
      "\r",
      "[##                                      ] | 6% Completed | 9.40 s"
     ]
    },
    {
     "name": "stdout",
     "output_type": "stream",
     "text": [
      "\r",
      "[##                                      ] | 6% Completed | 9.50 s"
     ]
    },
    {
     "name": "stdout",
     "output_type": "stream",
     "text": [
      "\r",
      "[##                                      ] | 6% Completed | 9.61 s"
     ]
    },
    {
     "name": "stdout",
     "output_type": "stream",
     "text": [
      "\r",
      "[##                                      ] | 6% Completed | 9.71 s"
     ]
    },
    {
     "name": "stdout",
     "output_type": "stream",
     "text": [
      "\r",
      "[##                                      ] | 6% Completed | 9.81 s"
     ]
    },
    {
     "name": "stdout",
     "output_type": "stream",
     "text": [
      "\r",
      "[##                                      ] | 6% Completed | 9.92 s"
     ]
    },
    {
     "name": "stdout",
     "output_type": "stream",
     "text": [
      "\r",
      "[##                                      ] | 6% Completed | 10.02 s"
     ]
    },
    {
     "name": "stdout",
     "output_type": "stream",
     "text": [
      "\r",
      "[##                                      ] | 6% Completed | 10.12 s"
     ]
    },
    {
     "name": "stdout",
     "output_type": "stream",
     "text": [
      "\r",
      "[##                                      ] | 6% Completed | 10.23 s"
     ]
    },
    {
     "name": "stdout",
     "output_type": "stream",
     "text": [
      "\r",
      "[##                                      ] | 6% Completed | 10.33 s"
     ]
    },
    {
     "name": "stdout",
     "output_type": "stream",
     "text": [
      "\r",
      "[##                                      ] | 6% Completed | 10.43 s"
     ]
    },
    {
     "name": "stdout",
     "output_type": "stream",
     "text": [
      "\r",
      "[##                                      ] | 6% Completed | 10.53 s"
     ]
    },
    {
     "name": "stdout",
     "output_type": "stream",
     "text": [
      "\r",
      "[##                                      ] | 6% Completed | 10.64 s"
     ]
    },
    {
     "name": "stdout",
     "output_type": "stream",
     "text": [
      "\r",
      "[##                                      ] | 6% Completed | 10.74 s"
     ]
    },
    {
     "name": "stdout",
     "output_type": "stream",
     "text": [
      "\r",
      "[##                                      ] | 6% Completed | 10.84 s"
     ]
    },
    {
     "name": "stdout",
     "output_type": "stream",
     "text": [
      "\r",
      "[##                                      ] | 6% Completed | 10.95 s"
     ]
    },
    {
     "name": "stdout",
     "output_type": "stream",
     "text": [
      "\r",
      "[##                                      ] | 6% Completed | 11.05 s"
     ]
    },
    {
     "name": "stdout",
     "output_type": "stream",
     "text": [
      "\r",
      "[##                                      ] | 6% Completed | 11.15 s"
     ]
    },
    {
     "name": "stdout",
     "output_type": "stream",
     "text": [
      "\r",
      "[##                                      ] | 6% Completed | 11.26 s"
     ]
    },
    {
     "name": "stdout",
     "output_type": "stream",
     "text": [
      "\r",
      "[##                                      ] | 6% Completed | 11.36 s"
     ]
    },
    {
     "name": "stdout",
     "output_type": "stream",
     "text": [
      "\r",
      "[##                                      ] | 6% Completed | 11.46 s"
     ]
    },
    {
     "name": "stdout",
     "output_type": "stream",
     "text": [
      "\r",
      "[##                                      ] | 6% Completed | 11.57 s"
     ]
    },
    {
     "name": "stdout",
     "output_type": "stream",
     "text": [
      "\r",
      "[##                                      ] | 6% Completed | 11.67 s"
     ]
    },
    {
     "name": "stdout",
     "output_type": "stream",
     "text": [
      "\r",
      "[##                                      ] | 6% Completed | 11.77 s"
     ]
    },
    {
     "name": "stdout",
     "output_type": "stream",
     "text": [
      "\r",
      "[##                                      ] | 6% Completed | 11.88 s"
     ]
    },
    {
     "name": "stdout",
     "output_type": "stream",
     "text": [
      "\r",
      "[##                                      ] | 6% Completed | 11.98 s"
     ]
    },
    {
     "name": "stdout",
     "output_type": "stream",
     "text": [
      "\r",
      "[##                                      ] | 6% Completed | 12.08 s"
     ]
    },
    {
     "name": "stdout",
     "output_type": "stream",
     "text": [
      "\r",
      "[##                                      ] | 6% Completed | 12.19 s"
     ]
    },
    {
     "name": "stdout",
     "output_type": "stream",
     "text": [
      "\r",
      "[##                                      ] | 6% Completed | 12.29 s"
     ]
    },
    {
     "name": "stdout",
     "output_type": "stream",
     "text": [
      "\r",
      "[##                                      ] | 6% Completed | 12.39 s"
     ]
    },
    {
     "name": "stdout",
     "output_type": "stream",
     "text": [
      "\r",
      "[##                                      ] | 6% Completed | 12.49 s"
     ]
    },
    {
     "name": "stdout",
     "output_type": "stream",
     "text": [
      "\r",
      "[##                                      ] | 6% Completed | 12.60 s"
     ]
    },
    {
     "name": "stdout",
     "output_type": "stream",
     "text": [
      "\r",
      "[##                                      ] | 6% Completed | 12.70 s"
     ]
    },
    {
     "name": "stdout",
     "output_type": "stream",
     "text": [
      "\r",
      "[##                                      ] | 6% Completed | 12.81 s"
     ]
    },
    {
     "name": "stdout",
     "output_type": "stream",
     "text": [
      "\r",
      "[##                                      ] | 6% Completed | 12.91 s"
     ]
    },
    {
     "name": "stdout",
     "output_type": "stream",
     "text": [
      "\r",
      "[##                                      ] | 6% Completed | 13.01 s"
     ]
    },
    {
     "name": "stdout",
     "output_type": "stream",
     "text": [
      "\r",
      "[##                                      ] | 6% Completed | 13.12 s"
     ]
    },
    {
     "name": "stdout",
     "output_type": "stream",
     "text": [
      "\r",
      "[##                                      ] | 6% Completed | 13.22 s"
     ]
    },
    {
     "name": "stdout",
     "output_type": "stream",
     "text": [
      "\r",
      "[##                                      ] | 6% Completed | 13.32 s"
     ]
    },
    {
     "name": "stdout",
     "output_type": "stream",
     "text": [
      "\r",
      "[##                                      ] | 6% Completed | 13.42 s"
     ]
    },
    {
     "name": "stdout",
     "output_type": "stream",
     "text": [
      "\r",
      "[##                                      ] | 6% Completed | 13.53 s"
     ]
    },
    {
     "name": "stdout",
     "output_type": "stream",
     "text": [
      "\r",
      "[##                                      ] | 6% Completed | 13.63 s"
     ]
    },
    {
     "name": "stdout",
     "output_type": "stream",
     "text": [
      "\r",
      "[##                                      ] | 6% Completed | 13.74 s"
     ]
    },
    {
     "name": "stdout",
     "output_type": "stream",
     "text": [
      "\r",
      "[##                                      ] | 6% Completed | 13.84 s"
     ]
    },
    {
     "name": "stdout",
     "output_type": "stream",
     "text": [
      "\r",
      "[##                                      ] | 6% Completed | 13.94 s"
     ]
    },
    {
     "name": "stdout",
     "output_type": "stream",
     "text": [
      "\r",
      "[##                                      ] | 6% Completed | 14.05 s"
     ]
    },
    {
     "name": "stdout",
     "output_type": "stream",
     "text": [
      "\r",
      "[##                                      ] | 6% Completed | 14.15 s"
     ]
    },
    {
     "name": "stdout",
     "output_type": "stream",
     "text": [
      "\r",
      "[##                                      ] | 6% Completed | 14.25 s"
     ]
    },
    {
     "name": "stdout",
     "output_type": "stream",
     "text": [
      "\r",
      "[##                                      ] | 6% Completed | 14.35 s"
     ]
    },
    {
     "name": "stdout",
     "output_type": "stream",
     "text": [
      "\r",
      "[##                                      ] | 6% Completed | 14.46 s"
     ]
    },
    {
     "name": "stdout",
     "output_type": "stream",
     "text": [
      "\r",
      "[##                                      ] | 6% Completed | 14.56 s"
     ]
    },
    {
     "name": "stdout",
     "output_type": "stream",
     "text": [
      "\r",
      "[##                                      ] | 6% Completed | 14.66 s"
     ]
    },
    {
     "name": "stdout",
     "output_type": "stream",
     "text": [
      "\r",
      "[##                                      ] | 6% Completed | 14.76 s"
     ]
    },
    {
     "name": "stdout",
     "output_type": "stream",
     "text": [
      "\r",
      "[##                                      ] | 6% Completed | 14.87 s"
     ]
    },
    {
     "name": "stdout",
     "output_type": "stream",
     "text": [
      "\r",
      "[##                                      ] | 6% Completed | 14.97 s"
     ]
    },
    {
     "name": "stdout",
     "output_type": "stream",
     "text": [
      "\r",
      "[##                                      ] | 6% Completed | 15.07 s"
     ]
    },
    {
     "name": "stdout",
     "output_type": "stream",
     "text": [
      "\r",
      "[##                                      ] | 6% Completed | 15.18 s"
     ]
    },
    {
     "name": "stdout",
     "output_type": "stream",
     "text": [
      "\r",
      "[##                                      ] | 6% Completed | 15.28 s"
     ]
    },
    {
     "name": "stdout",
     "output_type": "stream",
     "text": [
      "\r",
      "[##                                      ] | 6% Completed | 15.38 s"
     ]
    },
    {
     "name": "stdout",
     "output_type": "stream",
     "text": [
      "\r",
      "[#######                                 ] | 19% Completed | 15.48 s"
     ]
    },
    {
     "name": "stdout",
     "output_type": "stream",
     "text": [
      "\r",
      "[############                            ] | 31% Completed | 15.59 s"
     ]
    },
    {
     "name": "stdout",
     "output_type": "stream",
     "text": [
      "\r",
      "[####################                    ] | 50% Completed | 15.69 s"
     ]
    },
    {
     "name": "stdout",
     "output_type": "stream",
     "text": [
      "\r",
      "[########################################] | 100% Completed | 15.79 s"
     ]
    },
    {
     "name": "stdout",
     "output_type": "stream",
     "text": [
      "\n"
     ]
    },
    {
     "name": "stdout",
     "output_type": "stream",
     "text": [
      "\n",
      "                                  WD  AMB_REWS       REWS    AMB_P            P\n",
      "state               turbine                                                   \n",
      "2017-01-01 00:00:00 0        244.06     15.62  15.610430  5000.00  5000.000000\n",
      "                    1        244.06     15.62  14.037491  5000.00  5000.000000\n",
      "                    2        244.06     15.62  15.023759  5000.00  5000.000000\n",
      "                    3        244.06     15.62  15.560745  5000.00  5000.000000\n",
      "                    4        244.06     15.62  14.570882  5000.00  5000.000000\n",
      "...                             ...       ...        ...      ...          ...\n",
      "2017-06-16 15:30:00 62       299.19     11.70   7.289612  4868.75  1356.304229\n",
      "                    63       299.19     11.70  11.493032  4868.75  4778.201384\n",
      "                    64       299.19     11.70  11.700000  4868.75  4868.750000\n",
      "                    65       299.19     11.70  11.644560  4868.75  4844.495115\n",
      "                    66       299.19     11.70   9.471659  4868.75  2957.148794\n",
      "\n",
      "[536000 rows x 5 columns]\n"
     ]
    }
   ],
   "source": [
    "with DaskRunner() as runner:\n",
    "    farm_results = runner.run(algo.calc_farm)\n",
    "\n",
    "fr = farm_results.to_dataframe()\n",
    "print(\"\\n\", fr[[FV.WD, FV.AMB_REWS, FV.REWS, FV.AMB_P, FV.P]])"
   ]
  },
  {
   "attachments": {},
   "cell_type": "markdown",
   "metadata": {},
   "source": [
    "Let's evaluate the results:"
   ]
  },
  {
   "cell_type": "code",
   "execution_count": 8,
   "metadata": {
    "execution": {
     "iopub.execute_input": "2024-01-22T10:40:59.147299Z",
     "iopub.status.busy": "2024-01-22T10:40:59.147121Z",
     "iopub.status.idle": "2024-01-22T10:40:59.176661Z",
     "shell.execute_reply": "2024-01-22T10:40:59.175937Z"
    }
   },
   "outputs": [
    {
     "name": "stdout",
     "output_type": "stream",
     "text": [
      "Capacity added to farm results\n",
      "Ambient capacity added to farm results\n",
      "Efficiency added to farm results\n"
     ]
    },
    {
     "name": "stdout",
     "output_type": "stream",
     "text": [
      "\n",
      "Results by turbine:\n",
      "\n",
      "               AMB_P            P   AMB_CAP       CAP       EFF    AMB_YLD  \\\n",
      "turbine                                                                      \n",
      "0        3067.723397  2728.991919  0.613545  0.545798  0.808868  26.873257   \n",
      "1        3067.723397  2398.311835  0.613545  0.479662  0.670987  26.873257   \n",
      "2        3067.723397  2596.445954  0.613545  0.519289  0.745148  26.873257   \n",
      "3        3067.723397  2667.532914  0.613545  0.533507  0.781630  26.873257   \n",
      "4        3067.723397  2484.022894  0.613545  0.496805  0.702529  26.873257   \n",
      "...              ...          ...       ...       ...       ...        ...   \n",
      "62       3067.723397  2515.222829  0.613545  0.503045  0.712086  26.873257   \n",
      "63       3067.723397  2460.983189  0.613545  0.492197  0.686209  26.873257   \n",
      "64       3067.723397  2817.961461  0.613545  0.563592  0.847236  26.873257   \n",
      "65       3067.723397  2438.698886  0.613545  0.487740  0.682123  26.873257   \n",
      "66       3067.723397  2543.360076  0.613545  0.508672  0.725121  26.873257   \n",
      "\n",
      "               YLD  \n",
      "turbine             \n",
      "0        23.905969  \n",
      "1        21.009212  \n",
      "2        22.744867  \n",
      "3        23.367588  \n",
      "4        21.760041  \n",
      "...            ...  \n",
      "62       22.033352  \n",
      "63       21.558213  \n",
      "64       24.685342  \n",
      "65       21.363002  \n",
      "66       22.279834  \n",
      "\n",
      "[67 rows x 7 columns]\n",
      "\n",
      "Farm power        : 171.3 MW\n",
      "Farm ambient power: 205.5 MW\n",
      "Farm efficiency   : 0.83\n",
      "Annual farm yield : 1500.53 GWh\n"
     ]
    }
   ],
   "source": [
    "# add capacity and efficiency to farm_results:\n",
    "o = foxes.output.FarmResultsEval(farm_results)\n",
    "o.add_capacity(algo)\n",
    "o.add_capacity(algo, ambient=True)\n",
    "o.add_efficiency()\n",
    "\n",
    "# print results by turbine:\n",
    "turbine_results = o.reduce_states(\n",
    "    {\n",
    "        FV.AMB_P: \"mean\",\n",
    "        FV.P: \"mean\",\n",
    "        FV.AMB_CAP: \"mean\",\n",
    "        FV.CAP: \"mean\",\n",
    "        FV.EFF: \"mean\",\n",
    "    }\n",
    ")\n",
    "turbine_results[FV.AMB_YLD] = o.calc_turbine_yield(algo=algo, annual=True, ambient=True)\n",
    "turbine_results[FV.YLD] = o.calc_turbine_yield(algo=algo, annual=True)\n",
    "print(\"\\nResults by turbine:\\n\")\n",
    "print(turbine_results)\n",
    "\n",
    "# print power results:\n",
    "P0 = o.calc_mean_farm_power(ambient=True)\n",
    "P = o.calc_mean_farm_power()\n",
    "print(f\"\\nFarm power        : {P/1000:.1f} MW\")\n",
    "print(f\"Farm ambient power: {P0/1000:.1f} MW\")\n",
    "print(f\"Farm efficiency   : {o.calc_farm_efficiency():.2f}\")\n",
    "print(f\"Annual farm yield : {turbine_results[FV.YLD].sum():.2f} GWh\")"
   ]
  },
  {
   "attachments": {},
   "cell_type": "markdown",
   "metadata": {},
   "source": [
    "We can visualize the mean rotor equivalent wind speed as seen by each turbine and also the mean efficiency with respect to the time series data as colored layout plots:"
   ]
  },
  {
   "cell_type": "code",
   "execution_count": 9,
   "metadata": {
    "execution": {
     "iopub.execute_input": "2024-01-22T10:40:59.179070Z",
     "iopub.status.busy": "2024-01-22T10:40:59.178913Z",
     "iopub.status.idle": "2024-01-22T10:40:59.558193Z",
     "shell.execute_reply": "2024-01-22T10:40:59.557102Z"
    }
   },
   "outputs": [
    {
     "data": {
      "image/png": "[encoded data removed]",
      "text/plain": [
       "<Figure size 1400x500 with 4 Axes>"
      ]
     },
     "metadata": {},
     "output_type": "display_data"
    }
   ],
   "source": [
    "fig, axs = plt.subplots(1,2,figsize=(14,5))\n",
    "o = foxes.output.FarmLayoutOutput(farm, farm_results)\n",
    "o.get_figure(fig=fig, ax=axs[0], color_by=\"mean_REWS\", title=\"Mean REWS [m/s]\", s=150, annotate=0)\n",
    "o.get_figure(fig=fig, ax=axs[1], color_by=\"mean_EFF\", title=\"Mean efficiency [%]\", s=150, annotate=0)\n",
    "plt.show()"
   ]
  },
  {
   "attachments": {},
   "cell_type": "markdown",
   "metadata": {},
   "source": [
    "For the fun of it, we can also run this example in parallel, on a local cluster. Depending on the system and the problem size, this is not neccessarily faster than the above implicitely used default dask scheduler, and it comes with overhead. But for complex calculations it is extremely useful and can really save the day. Read the [docs](https://docs.dask.org/en/stable/deploying.html) for more details and parameters. The following invokes the default settings for the local cluster:"
   ]
  },
  {
   "cell_type": "code",
   "execution_count": 10,
   "metadata": {
    "execution": {
     "iopub.execute_input": "2024-01-22T10:40:59.561308Z",
     "iopub.status.busy": "2024-01-22T10:40:59.561091Z",
     "iopub.status.idle": "2024-01-22T10:41:14.464050Z",
     "shell.execute_reply": "2024-01-22T10:41:14.463150Z"
    }
   },
   "outputs": [
    {
     "name": "stdout",
     "output_type": "stream",
     "text": [
      "Launching local dask cluster..\n"
     ]
    },
    {
     "name": "stdout",
     "output_type": "stream",
     "text": [
      "LocalCluster(0688d607, 'tcp://127.0.0.1:34429', workers=4, threads=16, memory=7.38 GiB)\n",
      "Dashboard: http://127.0.0.1:8787/status\n",
      "\n"
     ]
    },
    {
     "name": "stdout",
     "output_type": "stream",
     "text": [
      "\n",
      "\n",
      "Shutting down dask cluster\n"
     ]
    },
    {
     "name": "stdout",
     "output_type": "stream",
     "text": [
      "\n",
      "                                  WD  AMB_REWS       REWS    AMB_P            P\n",
      "state               turbine                                                   \n",
      "2017-01-01 00:00:00 0        244.06     15.62  15.610430  5000.00  5000.000000\n",
      "                    1        244.06     15.62  14.037491  5000.00  5000.000000\n",
      "                    2        244.06     15.62  15.023759  5000.00  5000.000000\n",
      "                    3        244.06     15.62  15.560745  5000.00  5000.000000\n",
      "                    4        244.06     15.62  14.570882  5000.00  5000.000000\n",
      "...                             ...       ...        ...      ...          ...\n",
      "2017-06-16 15:30:00 62       299.19     11.70   7.289612  4868.75  1356.304229\n",
      "                    63       299.19     11.70  11.493032  4868.75  4778.201384\n",
      "                    64       299.19     11.70  11.700000  4868.75  4868.750000\n",
      "                    65       299.19     11.70  11.644560  4868.75  4844.495115\n",
      "                    66       299.19     11.70   9.471659  4868.75  2957.148794\n",
      "\n",
      "[536000 rows x 5 columns]\n",
      "\n",
      "Mean farm power: 171.3 MW, Efficiency = 83.34 %\n"
     ]
    }
   ],
   "source": [
    "with DaskRunner(scheduler=\"distributed\") as runner:\n",
    "    farm_results = runner.run(algo.calc_farm)\n",
    "\n",
    "fr = farm_results.to_dataframe()\n",
    "print(\"\\n\", fr[[FV.WD, FV.AMB_REWS, FV.REWS, FV.AMB_P, FV.P]])\n",
    "\n",
    "o = foxes.output.FarmResultsEval(farm_results)\n",
    "P0 = o.calc_mean_farm_power(ambient=True)\n",
    "P = o.calc_mean_farm_power()\n",
    "print(f\"\\nMean farm power: {P/1000:.1f} MW, Efficiency = {P/P0*100:.2f} %\")"
   ]
  },
  {
   "attachments": {},
   "cell_type": "markdown",
   "metadata": {},
   "source": [
    "Notice the `Dashboard` link, which is only valid during runtime and in this case is a `localhost` address. The dashboard gives plenty of information of the progress during the run and is a very useful tool provided by dask."
   ]
  }
 ],
 "metadata": {
  "kernelspec": {
   "display_name": "foxescf",
   "language": "python",
   "name": "python3"
  },
  "language_info": {
   "codemirror_mode": {
    "name": "ipython",
    "version": 3
   },
   "file_extension": ".py",
   "mimetype": "text/x-python",
   "name": "python",
   "nbconvert_exporter": "python",
   "pygments_lexer": "ipython3",
   "version": "3.8.10"
  },
  "vscode": {
   "interpreter": {
    "hash": "49e77450ac3b792529b8ec53c4156102ea20ff425b704a19d2a6ff376cdbc220"
   }
  },
  "widgets": {
   "application/vnd.jupyter.widget-state+json": {
    "state": {
     "4fbe23ed7eaa4aa9b56403e5b4b6b7e2": {
      "model_module": "@jupyter-widgets/base",
      "model_module_version": "2.0.0",
      "model_name": "LayoutModel",
      "state": {
       "_model_module": "@jupyter-widgets/base",
       "_model_module_version": "2.0.0",
       "_model_name": "LayoutModel",
       "_view_count": null,
       "_view_module": "@jupyter-widgets/base",
       "_view_module_version": "2.0.0",
       "_view_name": "LayoutView",
       "align_content": null,
       "align_items": null,
       "align_self": null,
       "border_bottom": null,
       "border_left": null,
       "border_right": null,
       "border_top": null,
       "bottom": null,
       "display": null,
       "flex": null,
       "flex_flow": null,
       "grid_area": null,
       "grid_auto_columns": null,
       "grid_auto_flow": null,
       "grid_auto_rows": null,
       "grid_column": null,
       "grid_gap": null,
       "grid_row": null,
       "grid_template_areas": null,
       "grid_template_columns": null,
       "grid_template_rows": null,
       "height": null,
       "justify_content": null,
       "justify_items": null,
       "left": null,
       "margin": null,
       "max_height": null,
       "max_width": null,
       "min_height": null,
       "min_width": null,
       "object_fit": null,
       "object_position": null,
       "order": null,
       "overflow": null,
       "padding": null,
       "right": null,
       "top": null,
       "visibility": null,
       "width": null
      }
     },
     "97294521c7db4fa0b970f226ea2c6297": {
      "model_module": "@jupyter-widgets/controls",
      "model_module_version": "2.0.0",
      "model_name": "VBoxModel",
      "state": {
       "_dom_classes": [],
       "_model_module": "@jupyter-widgets/controls",
       "_model_module_version": "2.0.0",
       "_model_name": "VBoxModel",
       "_view_count": null,
       "_view_module": "@jupyter-widgets/controls",
       "_view_module_version": "2.0.0",
       "_view_name": "VBoxView",
       "box_style": "",
       "children": [],
       "layout": "IPY_MODEL_4fbe23ed7eaa4aa9b56403e5b4b6b7e2",
       "tabbable": null,
       "tooltip": null
      }
     }
    },
    "version_major": 2,
    "version_minor": 0
   }
  }
 },
 "nbformat": 4,
 "nbformat_minor": 2
}
