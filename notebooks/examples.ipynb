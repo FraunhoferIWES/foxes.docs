{
 "cells": [
  {
   "cell_type": "markdown",
   "metadata": {},
   "source": [
    "# Examples"
   ]
  },
  {
   "cell_type": "markdown",
   "metadata": {},
   "source": [
    "## The model book"
   ]
  },
  {
   "cell_type": "markdown",
   "metadata": {},
   "source": [
    "This example only requires the `foxes` package:"
   ]
  },
  {
   "cell_type": "code",
   "execution_count": 1,
   "metadata": {
    "execution": {
     "iopub.execute_input": "2022-07-18T08:06:42.383464Z",
     "iopub.status.busy": "2022-07-18T08:06:42.382572Z",
     "iopub.status.idle": "2022-07-18T08:06:43.745255Z",
     "shell.execute_reply": "2022-07-18T08:06:43.744563Z"
    }
   },
   "outputs": [],
   "source": [
    "import foxes"
   ]
  },
  {
   "cell_type": "markdown",
   "metadata": {},
   "source": [
    "The `model book` contains all models that are selectable during a `foxes` run. They are organized according to their model type and stored under a `str` type key, i.e., the model name. The default constructor of the `ModelBook` class provides a number of default models, and the complete list can be printed using the `print_toc` function:"
   ]
  },
  {
   "cell_type": "code",
   "execution_count": 2,
   "metadata": {
    "execution": {
     "iopub.execute_input": "2022-07-18T08:06:43.748156Z",
     "iopub.status.busy": "2022-07-18T08:06:43.747815Z",
     "iopub.status.idle": "2022-07-18T08:06:43.752358Z",
     "shell.execute_reply": "2022-07-18T08:06:43.751790Z"
    }
   },
   "outputs": [
    {
     "name": "stdout",
     "output_type": "stream",
     "text": [
      "farm_controllers\n",
      "----------------\n",
      "basic_ctrl: basic_ctrl (BasicFarmController)\n",
      "\n",
      "farm_models\n",
      "-----------\n",
      "farm_kTI: Turbine2FarmModel(kTI(kTI=None, ti=TI))\n",
      "farm_kTI_02: Turbine2FarmModel(kTI_02 (kTI)(kTI=0.2, ti=TI))\n",
      "farm_kTI_04: Turbine2FarmModel(kTI_04 (kTI)(kTI=0.4, ti=TI))\n",
      "farm_kTI_amb: Turbine2FarmModel(kTI_amb (kTI)(kTI=None, ti=AMB_TI))\n",
      "farm_kTI_amb_02: Turbine2FarmModel(kTI_amb_02 (kTI)(kTI=0.2, ti=AMB_TI))\n",
      "farm_kTI_amb_04: Turbine2FarmModel(kTI_amb_04 (kTI)(kTI=0.4, ti=AMB_TI))\n",
      "\n",
      "partial_wakes\n",
      "-------------\n",
      "auto: auto (Mapped)\n",
      "axiwake10: axiwake10 (PartialAxiwake)(n=10)\n",
      "axiwake2: axiwake2 (PartialAxiwake)(n=2)\n",
      "axiwake20: axiwake20 (PartialAxiwake)(n=20)\n",
      "axiwake3: axiwake3 (PartialAxiwake)(n=3)\n",
      "axiwake4: axiwake4 (PartialAxiwake)(n=4)\n",
      "axiwake5: axiwake5 (PartialAxiwake)(n=5)\n",
      "axiwake6: axiwake6 (PartialAxiwake)(n=6)\n",
      "axiwake7: axiwake7 (PartialAxiwake)(n=7)\n",
      "axiwake8: axiwake8 (PartialAxiwake)(n=8)\n",
      "axiwake9: axiwake9 (PartialAxiwake)(n=9)\n",
      "distsliced: distsliced (PartialDistSlicedWake)\n",
      "distsliced100: distsliced100 (PartialDistSlicedWake)(n=10)\n",
      "distsliced16: distsliced16 (PartialDistSlicedWake)(n=4)\n",
      "distsliced25: distsliced25 (PartialDistSlicedWake)(n=5)\n",
      "distsliced36: distsliced36 (PartialDistSlicedWake)(n=6)\n",
      "distsliced4: distsliced4 (PartialDistSlicedWake)(n=2)\n",
      "distsliced400: distsliced400 (PartialDistSlicedWake)(n=20)\n",
      "distsliced49: distsliced49 (PartialDistSlicedWake)(n=7)\n",
      "distsliced64: distsliced64 (PartialDistSlicedWake)(n=8)\n",
      "distsliced81: distsliced81 (PartialDistSlicedWake)(n=9)\n",
      "distsliced9: distsliced9 (PartialDistSlicedWake)(n=3)\n",
      "grid100: grid100 (PartialGrid)(n=10)\n",
      "grid16: grid16 (PartialGrid)(n=4)\n",
      "grid25: grid25 (PartialGrid)(n=5)\n",
      "grid36: grid36 (PartialGrid)(n=6)\n",
      "grid4: grid4 (PartialGrid)(n=2)\n",
      "grid400: grid400 (PartialGrid)(n=20)\n",
      "grid49: grid49 (PartialGrid)(n=7)\n",
      "grid64: grid64 (PartialGrid)(n=8)\n",
      "grid81: grid81 (PartialGrid)(n=9)\n",
      "grid9: grid9 (PartialGrid)(n=3)\n",
      "rotor_points: rotor_points (RotorPoints)\n",
      "top_hat: top_hat (PartialTopHat)\n",
      "\n",
      "point_models\n",
      "------------\n",
      "(none)\n",
      "\n",
      "rotor_models\n",
      "------------\n",
      "centre: centre (CentreRotor)\n",
      "grid100: grid100 (GridRotor)(n=10)\n",
      "grid16: grid16 (GridRotor)(n=4)\n",
      "grid25: grid25 (GridRotor)(n=5)\n",
      "grid36: grid36 (GridRotor)(n=6)\n",
      "grid4: grid4 (GridRotor)(n=2)\n",
      "grid400: grid400 (GridRotor)(n=20)\n",
      "grid49: grid49 (GridRotor)(n=7)\n",
      "grid64: grid64 (GridRotor)(n=8)\n",
      "grid81: grid81 (GridRotor)(n=9)\n",
      "grid9: grid9 (GridRotor)(n=3)\n",
      "\n",
      "turbine_models\n",
      "--------------\n",
      "kTI: kTI(kTI=None, ti=TI)\n",
      "kTI_02: kTI_02 (kTI)(kTI=0.2, ti=TI)\n",
      "kTI_04: kTI_04 (kTI)(kTI=0.4, ti=TI)\n",
      "kTI_amb: kTI_amb (kTI)(kTI=None, ti=AMB_TI)\n",
      "kTI_amb_02: kTI_amb_02 (kTI)(kTI=0.2, ti=AMB_TI)\n",
      "kTI_amb_04: kTI_amb_04 (kTI)(kTI=0.4, ti=AMB_TI)\n",
      "\n",
      "turbine_types\n",
      "-------------\n",
      "(none)\n",
      "\n",
      "wake_frames\n",
      "-----------\n",
      "rotor_wd: rotor_wd (RotorWD)\n",
      "streamlines_100: streamlines_100 (Streamlines)(step=100)\n",
      "\n",
      "wake_models\n",
      "-----------\n",
      "Bastankhah_linear: Bastankhah_linear (BastankhahWake)(k=None, sp=linear)\n",
      "Bastankhah_linear_amb: Bastankhah_linear_amb (BastankhahWake)(k=None, sp=linear_amb)\n",
      "Bastankhah_linear_amb_k002: Bastankhah_linear_amb_k002 (BastankhahWake)(k=0.02, sp=linear_amb)\n",
      "Bastankhah_linear_k002: Bastankhah_linear_k002 (BastankhahWake)(k=0.02, sp=linear)\n",
      "Bastankhah_max: Bastankhah_max (BastankhahWake)(k=None, sp=max)\n",
      "Bastankhah_max_amb: Bastankhah_max_amb (BastankhahWake)(k=None, sp=max_amb)\n",
      "Bastankhah_max_amb_k002: Bastankhah_max_amb_k002 (BastankhahWake)(k=0.02, sp=max_amb)\n",
      "Bastankhah_max_k002: Bastankhah_max_k002 (BastankhahWake)(k=0.02, sp=max)\n",
      "Bastankhah_quadratic: Bastankhah_quadratic (BastankhahWake)(k=None, sp=quadratic)\n",
      "Bastankhah_quadratic_amb: Bastankhah_quadratic_amb (BastankhahWake)(k=None, sp=quadratic_amb)\n",
      "Bastankhah_quadratic_amb_k002: Bastankhah_quadratic_amb_k002 (BastankhahWake)(k=0.02, sp=quadratic_amb)\n",
      "Bastankhah_quadratic_k002: Bastankhah_quadratic_k002 (BastankhahWake)(k=0.02, sp=quadratic)\n",
      "CrespoHernandez_linear: CrespoHernandez_linear (CrespoHernandezTIWake)(k=None, sp=ti_linear)\n",
      "CrespoHernandez_linear_k002: CrespoHernandez_linear_k002 (CrespoHernandezTIWake)(k=0.02, sp=ti_linear)\n",
      "CrespoHernandez_max: CrespoHernandez_max (CrespoHernandezTIWake)(k=None, sp=ti_max)\n",
      "CrespoHernandez_max_k002: CrespoHernandez_max_k002 (CrespoHernandezTIWake)(k=0.02, sp=ti_max)\n",
      "CrespoHernandez_quadratic: CrespoHernandez_quadratic (CrespoHernandezTIWake)(k=None, sp=ti_quadratic)\n",
      "CrespoHernandez_quadratic_k002: CrespoHernandez_quadratic_k002 (CrespoHernandezTIWake)(k=0.02, sp=ti_quadratic)\n",
      "Jensen_linear: Jensen_linear (JensenWake)(k=None, sp=linear)\n",
      "Jensen_linear_amb: Jensen_linear_amb (JensenWake)(k=None, sp=linear_amb)\n",
      "Jensen_linear_amb_k007: Jensen_linear_amb_k007 (JensenWake)(k=0.07, sp=linear_amb)\n",
      "Jensen_linear_k007: Jensen_linear_k007 (JensenWake)(k=0.07, sp=linear)\n",
      "Jensen_max: Jensen_max (JensenWake)(k=None, sp=max)\n",
      "Jensen_max_amb: Jensen_max_amb (JensenWake)(k=None, sp=max_amb)\n",
      "Jensen_max_amb_k007: Jensen_max_amb_k007 (JensenWake)(k=0.07, sp=max_amb)\n",
      "Jensen_max_k007: Jensen_max_k007 (JensenWake)(k=0.07, sp=max)\n",
      "Jensen_quadratic: Jensen_quadratic (JensenWake)(k=None, sp=quadratic)\n",
      "Jensen_quadratic_amb: Jensen_quadratic_amb (JensenWake)(k=None, sp=quadratic_amb)\n",
      "Jensen_quadratic_amb_k007: Jensen_quadratic_amb_k007 (JensenWake)(k=0.07, sp=quadratic_amb)\n",
      "Jensen_quadratic_k007: Jensen_quadratic_k007 (JensenWake)(k=0.07, sp=quadratic)\n",
      "\n",
      "wake_superpositions\n",
      "-------------------\n",
      "linear: linear (LinearSuperposition)\n",
      "linear_amb: linear_amb (LinearSuperposition)\n",
      "max: max (MaxSuperposition)\n",
      "max_amb: max_amb (MaxSuperposition)\n",
      "quadratic: quadratic (QuadraticSuperposition)\n",
      "quadratic_amb: quadratic_amb (QuadraticSuperposition)\n",
      "ti_linear: ti_linear (TISuperposition)\n",
      "ti_max: ti_max (TISuperposition)\n",
      "ti_quadratic: ti_quadratic (TISuperposition)\n",
      "\n"
     ]
    }
   ],
   "source": [
    "mbook = foxes.models.ModelBook()\n",
    "mbook.print_toc()"
   ]
  },
  {
   "cell_type": "markdown",
   "metadata": {},
   "source": [
    "You can simply add a model by storing the model object under the new model name, for example:"
   ]
  },
  {
   "cell_type": "code",
   "execution_count": 3,
   "metadata": {
    "execution": {
     "iopub.execute_input": "2022-07-18T08:06:43.774437Z",
     "iopub.status.busy": "2022-07-18T08:06:43.774209Z",
     "iopub.status.idle": "2022-07-18T08:06:43.777431Z",
     "shell.execute_reply": "2022-07-18T08:06:43.776862Z"
    }
   },
   "outputs": [],
   "source": [
    "mbook.wake_models[\"Jensen_linear_k004\"] = foxes.models.wake_models.top_hat.JensenWake(\n",
    "    k=0.04, superposition=\"linear\"\n",
    ")"
   ]
  },
  {
   "cell_type": "code",
   "execution_count": 4,
   "metadata": {
    "execution": {
     "iopub.execute_input": "2022-07-18T08:06:43.779641Z",
     "iopub.status.busy": "2022-07-18T08:06:43.779455Z",
     "iopub.status.idle": "2022-07-18T08:06:43.782717Z",
     "shell.execute_reply": "2022-07-18T08:06:43.782120Z"
    }
   },
   "outputs": [
    {
     "name": "stdout",
     "output_type": "stream",
     "text": [
      "wake_models\n",
      "-----------\n",
      "Jensen_linear: Jensen_linear (JensenWake)(k=None, sp=linear)\n",
      "Jensen_linear_amb: Jensen_linear_amb (JensenWake)(k=None, sp=linear_amb)\n",
      "Jensen_linear_amb_k007: Jensen_linear_amb_k007 (JensenWake)(k=0.07, sp=linear_amb)\n",
      "Jensen_linear_k004: JensenWake(k=0.04, sp=linear)\n",
      "Jensen_linear_k007: Jensen_linear_k007 (JensenWake)(k=0.07, sp=linear)\n",
      "Jensen_max: Jensen_max (JensenWake)(k=None, sp=max)\n",
      "Jensen_max_amb: Jensen_max_amb (JensenWake)(k=None, sp=max_amb)\n",
      "Jensen_max_amb_k007: Jensen_max_amb_k007 (JensenWake)(k=0.07, sp=max_amb)\n",
      "Jensen_max_k007: Jensen_max_k007 (JensenWake)(k=0.07, sp=max)\n",
      "Jensen_quadratic: Jensen_quadratic (JensenWake)(k=None, sp=quadratic)\n",
      "Jensen_quadratic_amb: Jensen_quadratic_amb (JensenWake)(k=None, sp=quadratic_amb)\n",
      "Jensen_quadratic_amb_k007: Jensen_quadratic_amb_k007 (JensenWake)(k=0.07, sp=quadratic_amb)\n",
      "Jensen_quadratic_k007: Jensen_quadratic_k007 (JensenWake)(k=0.07, sp=quadratic)\n",
      "\n"
     ]
    }
   ],
   "source": [
    "mbook.print_toc(subset=\"wake_models\", search=\"Jensen\")"
   ]
  },
  {
   "cell_type": "markdown",
   "metadata": {},
   "source": [
    "## Single row of turbines"
   ]
  },
  {
   "cell_type": "markdown",
   "metadata": {},
   "source": [
    "We start with the imports for this example:"
   ]
  },
  {
   "cell_type": "code",
   "execution_count": 5,
   "metadata": {
    "execution": {
     "iopub.execute_input": "2022-07-18T08:06:43.785189Z",
     "iopub.status.busy": "2022-07-18T08:06:43.784983Z",
     "iopub.status.idle": "2022-07-18T08:06:43.788130Z",
     "shell.execute_reply": "2022-07-18T08:06:43.787500Z"
    }
   },
   "outputs": [],
   "source": [
    "import numpy as np\n",
    "import matplotlib.pyplot as plt\n",
    "\n",
    "import foxes\n",
    "import foxes.variables as FV"
   ]
  },
  {
   "cell_type": "markdown",
   "metadata": {},
   "source": [
    "The `foxes` setup consists of creating: \n",
    "\n",
    "1. The so-called `model book`, which contains all selectable models\n",
    "2. Ambient wind conditions, called `states` in `foxes` terminology\n",
    "3. The `wind farm`, collecting all turbine information\n",
    "4. The `algorithm` with its parameters and model choices\n",
    "\n",
    "Here is a simple example for a single row of turbines along the x axis and a uniform wind speed with wind direction 270°:"
   ]
  },
  {
   "cell_type": "code",
   "execution_count": 6,
   "metadata": {
    "execution": {
     "iopub.execute_input": "2022-07-18T08:06:43.790526Z",
     "iopub.status.busy": "2022-07-18T08:06:43.790331Z",
     "iopub.status.idle": "2022-07-18T08:06:43.796894Z",
     "shell.execute_reply": "2022-07-18T08:06:43.796422Z"
    },
    "scrolled": true
   },
   "outputs": [],
   "source": [
    "# Create model book and add turbine type model:\n",
    "# The csv file will be searched in the file system,\n",
    "# and if not found, taken from static library\n",
    "mbook = foxes.ModelBook()\n",
    "mbook.turbine_types[\"NREL5\"] = foxes.models.turbine_types.PCtFile(\n",
    "    \"NREL-5MW-D126-H90.csv\"\n",
    ")\n",
    "\n",
    "# create ambient wind conditions, a single uniform state:\n",
    "states = foxes.input.states.SingleStateStates(ws=9.0, wd=270.0, ti=0.12, rho=1.225)\n",
    "\n",
    "# create wind farm, a single row of turbines:\n",
    "farm = foxes.WindFarm()\n",
    "foxes.input.farm_layout.add_row(\n",
    "    farm=farm,\n",
    "    xy_base=[0.0, 0.0],\n",
    "    xy_step=[800.0, 0.0],\n",
    "    n_turbines=5,\n",
    "    turbine_models=[\"NREL5\"],\n",
    "    verbosity=0,\n",
    ")\n",
    "\n",
    "# setup the calculation algorithm:\n",
    "algo = foxes.algorithms.Downwind(\n",
    "    mbook, farm, states, verbosity=0, wake_models=[\"Jensen_linear_k007\"]\n",
    ")"
   ]
  },
  {
   "cell_type": "markdown",
   "metadata": {},
   "source": [
    "Now we can ask the `algorithm` object to run the calculation. This returns a `xarray.Dataset` object with results for each state and turbine:"
   ]
  },
  {
   "cell_type": "code",
   "execution_count": 7,
   "metadata": {
    "execution": {
     "iopub.execute_input": "2022-07-18T08:06:43.825431Z",
     "iopub.status.busy": "2022-07-18T08:06:43.824626Z",
     "iopub.status.idle": "2022-07-18T08:06:43.892210Z",
     "shell.execute_reply": "2022-07-18T08:06:43.891646Z"
    },
    "scrolled": true
   },
   "outputs": [
    {
     "name": "stdout",
     "output_type": "stream",
     "text": [
      "\n",
      "Farm results:\n",
      " <xarray.Dataset>\n",
      "Dimensions:    (state: 1, turbine: 5)\n",
      "Dimensions without coordinates: state, turbine\n",
      "Data variables: (12/24)\n",
      "    weight     (state, turbine) float64 1.0 1.0 1.0 1.0 1.0\n",
      "    X          (state, turbine) float64 0.0 800.0 1.6e+03 2.4e+03 3.2e+03\n",
      "    Y          (state, turbine) float64 0.0 0.0 0.0 0.0 0.0\n",
      "    H          (state, turbine) float64 90.0 90.0 90.0 90.0 90.0\n",
      "    D          (state, turbine) float64 126.0 126.0 126.0 126.0 126.0\n",
      "    P          (state, turbine) float64 2.519e+03 1.557e+03 ... 1.107e+03\n",
      "    ...         ...\n",
      "    AMB_REWS3  (state, turbine) float64 9.0 9.0 9.0 9.0 9.0\n",
      "    AMB_TI     (state, turbine) float64 0.12 0.12 0.12 0.12 0.12\n",
      "    AMB_RHO    (state, turbine) float64 1.225 1.225 1.225 1.225 1.225\n",
      "    order      (state, turbine) float64 0.0 1.0 2.0 3.0 4.0\n",
      "    AMB_CT     (state, turbine) float64 0.79 0.79 0.79 0.79 0.79\n",
      "    AMB_P      (state, turbine) float64 2.519e+03 2.519e+03 ... 2.519e+03\n"
     ]
    }
   ],
   "source": [
    "farm_results = algo.calc_farm()\n",
    "print(\"\\nFarm results:\\n\", farm_results)"
   ]
  },
  {
   "cell_type": "markdown",
   "metadata": {},
   "source": [
    "For a convenient summary printout we can easily convert the results into a `pandas.DataFrame`:"
   ]
  },
  {
   "cell_type": "code",
   "execution_count": 8,
   "metadata": {
    "execution": {
     "iopub.execute_input": "2022-07-18T08:06:43.894769Z",
     "iopub.status.busy": "2022-07-18T08:06:43.894562Z",
     "iopub.status.idle": "2022-07-18T08:06:43.903888Z",
     "shell.execute_reply": "2022-07-18T08:06:43.903389Z"
    }
   },
   "outputs": [
    {
     "name": "stdout",
     "output_type": "stream",
     "text": [
      "                  WD  AMB_REWS      REWS    TI   AMB_P            P        CT\n",
      "state turbine                                                                \n",
      "0     0        270.0       9.0  9.000000  0.12  2518.6  2518.600000  0.790000\n",
      "      1        270.0       9.0  7.633459  0.12  2518.6  1557.076947  0.803665\n",
      "      2        270.0       9.0  7.176627  0.12  2518.6  1290.332498  0.808234\n",
      "      3        270.0       9.0  6.955794  0.12  2518.6  1167.325199  0.812210\n",
      "      4        270.0       9.0  6.821354  0.12  2518.6  1106.880886  0.818932\n"
     ]
    }
   ],
   "source": [
    "fr = farm_results.to_dataframe()\n",
    "print(fr[[FV.WD, FV.AMB_REWS, FV.REWS, FV.TI, FV.AMB_P, FV.P, FV.CT]])"
   ]
  },
  {
   "cell_type": "markdown",
   "metadata": {},
   "source": [
    "Once the farm calculation results are ready, we can evaluate the wake corrected flow and all points of interest. For example, we can evaluate the wind speed along the centre line:"
   ]
  },
  {
   "cell_type": "code",
   "execution_count": 9,
   "metadata": {
    "execution": {
     "iopub.execute_input": "2022-07-18T08:06:43.906409Z",
     "iopub.status.busy": "2022-07-18T08:06:43.906210Z",
     "iopub.status.idle": "2022-07-18T08:06:44.073815Z",
     "shell.execute_reply": "2022-07-18T08:06:44.073170Z"
    }
   },
   "outputs": [
    {
     "name": "stdout",
     "output_type": "stream",
     "text": [
      "\n",
      "Point results:\n",
      " <xarray.Dataset>\n",
      "Dimensions:  (state: 1, point: 8000)\n",
      "Dimensions without coordinates: state, point\n",
      "Data variables:\n",
      "    WS       (state, point) float64 9.0 9.0 9.0 9.0 ... 8.916 8.916 8.916 8.916\n",
      "    WD       (state, point) float64 270.0 270.0 270.0 ... 270.0 270.0 270.0\n",
      "    TI       (state, point) float64 0.12 0.12 0.12 0.12 ... 0.12 0.12 0.12 0.12\n",
      "    RHO      (state, point) float64 1.225 1.225 1.225 ... 1.225 1.225 1.225\n",
      "    AMB_WS   (state, point) float64 9.0 9.0 9.0 9.0 9.0 ... 9.0 9.0 9.0 9.0 9.0\n",
      "    AMB_WD   (state, point) float64 270.0 270.0 270.0 ... 270.0 270.0 270.0\n",
      "    AMB_TI   (state, point) float64 0.12 0.12 0.12 0.12 ... 0.12 0.12 0.12 0.12\n",
      "    AMB_RHO  (state, point) float64 1.225 1.225 1.225 ... 1.225 1.225 1.225\n"
     ]
    },
    {
     "data": {
      "image/png": "[encoded data removed]",
      "text/plain": [
       "<Figure size 720x360 with 1 Axes>"
      ]
     },
     "metadata": {
      "needs_background": "light"
     },
     "output_type": "display_data"
    }
   ],
   "source": [
    "# infer hub height from turbine type:\n",
    "H = mbook.turbine_types[\"NREL5\"].H\n",
    "\n",
    "# create points of interest, shape (n_states, n_points, 3):\n",
    "n_points = 8000\n",
    "points = np.zeros((1, n_points, 3))\n",
    "points[:, :, 0] = np.linspace(-100.0, 15000.0, n_points)[None, :]\n",
    "points[:, :, 2] = H\n",
    "\n",
    "# calculate point results:\n",
    "point_results = algo.calc_points(farm_results, points)\n",
    "print(\"\\nPoint results:\\n\", point_results)\n",
    "\n",
    "# create figure:\n",
    "fig, ax = plt.subplots(figsize=(10, 5))\n",
    "ax.plot(points[0, :, 0], point_results[FV.WS][0, :])\n",
    "ax.set_xlabel(\"x [m]\")\n",
    "ax.set_ylabel(\"Wind speed [m/s]\")\n",
    "plt.show()"
   ]
  },
  {
   "cell_type": "markdown",
   "metadata": {},
   "source": [
    "The `foxes.output` package provides a collection of standard outputs. For example, we can visualize the flow field in a horizontal slice at hub height:"
   ]
  },
  {
   "cell_type": "code",
   "execution_count": 10,
   "metadata": {
    "execution": {
     "iopub.execute_input": "2022-07-18T08:06:44.077735Z",
     "iopub.status.busy": "2022-07-18T08:06:44.077462Z",
     "iopub.status.idle": "2022-07-18T08:06:44.308659Z",
     "shell.execute_reply": "2022-07-18T08:06:44.308122Z"
    },
    "scrolled": true
   },
   "outputs": [
    {
     "data": {
      "image/png": "[encoded data removed]",
      "text/plain": [
       "<Figure size 720x360 with 2 Axes>"
      ]
     },
     "metadata": {
      "needs_background": "light"
     },
     "output_type": "display_data"
    }
   ],
   "source": [
    "o = foxes.output.FlowPlots2D(algo, farm_results)\n",
    "g = o.gen_states_fig_horizontal(\"WS\", resolution=10, figsize=(10, 5), verbosity=0)\n",
    "fig = next(g)  # creates the figure for the next state, here there is only state 0\n",
    "plt.show()"
   ]
  },
  {
   "cell_type": "markdown",
   "metadata": {},
   "source": [
    "## Timeseries data"
   ]
  },
  {
   "cell_type": "markdown",
   "metadata": {},
   "source": [
    "In this example we calculate the data of a wind farm with 67 turbines in a time series containing 8000 uniform inflow states.\n",
    "\n",
    "The required imports are:"
   ]
  },
  {
   "cell_type": "code",
   "execution_count": 11,
   "metadata": {
    "execution": {
     "iopub.execute_input": "2022-07-18T08:06:44.313250Z",
     "iopub.status.busy": "2022-07-18T08:06:44.312778Z",
     "iopub.status.idle": "2022-07-18T08:06:44.320062Z",
     "shell.execute_reply": "2022-07-18T08:06:44.319286Z"
    }
   },
   "outputs": [],
   "source": [
    "import dask\n",
    "from dask.distributed import Client, LocalCluster\n",
    "from dask.diagnostics import ProgressBar\n",
    "import matplotlib.pyplot as plt\n",
    "\n",
    "import foxes"
   ]
  },
  {
   "cell_type": "markdown",
   "metadata": {},
   "source": [
    "First, we create the `model book`, adding the turbine type model (see examples above):"
   ]
  },
  {
   "cell_type": "code",
   "execution_count": 12,
   "metadata": {
    "execution": {
     "iopub.execute_input": "2022-07-18T08:06:44.323055Z",
     "iopub.status.busy": "2022-07-18T08:06:44.322830Z",
     "iopub.status.idle": "2022-07-18T08:06:44.326659Z",
     "shell.execute_reply": "2022-07-18T08:06:44.326013Z"
    }
   },
   "outputs": [],
   "source": [
    "mbook = foxes.ModelBook()\n",
    "mbook.turbine_types[\"NREL5\"] = foxes.models.turbine_types.PCtFile(\n",
    "    \"NREL-5MW-D126-H90.csv\"\n",
    ")"
   ]
  },
  {
   "cell_type": "markdown",
   "metadata": {},
   "source": [
    "Next, we create the `states`. The `data_source` can be any csv-type file (or `pandas` readable equivalent), or a `pandas.DataFrame` object. If it is a file path, then it will first be searched in the file system, and if not found, in the static data. If it is also not found there, an error showing the available static data file names is displayed.\n",
    "\n",
    "In this example the static data file `timeseries_8000.csv.gz` will be used, with content\n",
    "```\n",
    "Time,ws,wd,ti\n",
    "2017-01-01 00:00:00,15.62,244.06,0.0504\n",
    "2017-01-01 00:30:00,15.99,243.03,0.0514\n",
    "2017-01-01 01:00:00,16.31,243.01,0.0522\n",
    "2017-01-01 01:30:00,16.33,241.26,0.0523\n",
    "...\n",
    "```\n",
    "Notice the column names, and how they appear in the `foxes.Timeseries` constructor:"
   ]
  },
  {
   "cell_type": "code",
   "execution_count": 13,
   "metadata": {
    "execution": {
     "iopub.execute_input": "2022-07-18T08:06:44.329904Z",
     "iopub.status.busy": "2022-07-18T08:06:44.329578Z",
     "iopub.status.idle": "2022-07-18T08:06:44.333932Z",
     "shell.execute_reply": "2022-07-18T08:06:44.333310Z"
    }
   },
   "outputs": [],
   "source": [
    "states = foxes.input.states.Timeseries(\n",
    "    data_source=\"timeseries_8000.csv.gz\",\n",
    "    output_vars=[FV.WS, FV.WD, FV.TI, FV.RHO],\n",
    "    var2col={FV.WS: \"ws\", FV.WD: \"wd\", FV.TI: \"ti\"},\n",
    "    fixed_vars={FV.RHO: 1.225},\n",
    ")"
   ]
  },
  {
   "cell_type": "markdown",
   "metadata": {},
   "source": [
    "Likewise, we create the example wind farm with 67 turbines from static data. The file `test_farm_67.csv` has the following structure:\n",
    "```\n",
    "index,label,x,y\n",
    "0,T0,101872.70,1004753.57\n",
    "1,T1,103659.97,1002993.29\n",
    "2,T2,100780.09,1000779.97\n",
    "3,T3,100290.42,1004330.88\n",
    "...\n",
    "```\n",
    "For more options, check the API section `foxes.input.farm_layout`. \n",
    "\n",
    "We consider two turbine models in this example: the wind turbine type `NREL5` from above, and the model `kTI_02` from the `model book`. This model adds the variable `k` for each state and turbine, calculated as `k = kTI * TI`, with constant `kTI = 0.2`. The parameter `k` will later be used by the wake model."
   ]
  },
  {
   "cell_type": "code",
   "execution_count": 14,
   "metadata": {
    "execution": {
     "iopub.execute_input": "2022-07-18T08:06:44.337605Z",
     "iopub.status.busy": "2022-07-18T08:06:44.337261Z",
     "iopub.status.idle": "2022-07-18T08:06:44.378809Z",
     "shell.execute_reply": "2022-07-18T08:06:44.378160Z"
    }
   },
   "outputs": [],
   "source": [
    "farm = foxes.WindFarm()\n",
    "foxes.input.farm_layout.add_from_file(\n",
    "    farm, \"test_farm_67.csv\", turbine_models=[\"kTI_02\", \"NREL5\"], verbosity=0\n",
    ")"
   ]
  },
  {
   "cell_type": "markdown",
   "metadata": {},
   "source": [
    "Next, we create the `algorithm`, with further model selections. In particular, two wake models are invoked, the model `Bastankhah_linear` for wind speed deficits and the model `CrespoHernandez_quadratic` for turbulence intensity:"
   ]
  },
  {
   "cell_type": "code",
   "execution_count": 15,
   "metadata": {
    "execution": {
     "iopub.execute_input": "2022-07-18T08:06:44.381446Z",
     "iopub.status.busy": "2022-07-18T08:06:44.381231Z",
     "iopub.status.idle": "2022-07-18T08:06:44.386170Z",
     "shell.execute_reply": "2022-07-18T08:06:44.385558Z"
    }
   },
   "outputs": [],
   "source": [
    "algo = foxes.algorithms.Downwind(\n",
    "    mbook,\n",
    "    farm,\n",
    "    states=states,\n",
    "    rotor_model=\"centre\",\n",
    "    wake_models=[\"Bastankhah_quadratic\", \"CrespoHernandez_max\"],\n",
    "    wake_frame=\"rotor_wd\",\n",
    "    partial_wakes_model=\"auto\",\n",
    "    chunks={FV.STATE: 1000},\n",
    "    verbosity=0,\n",
    ")"
   ]
  },
  {
   "cell_type": "markdown",
   "metadata": {},
   "source": [
    "Also notice the `chunks` parameter, specifying that always 1000 states should be considered in vectorized form during calculations. The progress can be visualized using `dask`'s `ProgressBar`:"
   ]
  },
  {
   "cell_type": "code",
   "execution_count": 16,
   "metadata": {
    "execution": {
     "iopub.execute_input": "2022-07-18T08:06:44.388508Z",
     "iopub.status.busy": "2022-07-18T08:06:44.388317Z",
     "iopub.status.idle": "2022-07-18T08:06:57.890456Z",
     "shell.execute_reply": "2022-07-18T08:06:57.889689Z"
    },
    "scrolled": false
   },
   "outputs": [
    {
     "name": "stdout",
     "output_type": "stream",
     "text": [
      "\r",
      "[                                        ] | 0% Completed |  0.0s"
     ]
    },
    {
     "name": "stdout",
     "output_type": "stream",
     "text": [
      "\r",
      "[########################################] | 100% Completed |  0.1s"
     ]
    },
    {
     "name": "stdout",
     "output_type": "stream",
     "text": [
      "\n"
     ]
    },
    {
     "name": "stdout",
     "output_type": "stream",
     "text": [
      "\r",
      "[                                        ] | 0% Completed |  0.0s"
     ]
    },
    {
     "name": "stdout",
     "output_type": "stream",
     "text": [
      "\r",
      "[##                                      ] | 6% Completed |  0.1s"
     ]
    },
    {
     "name": "stdout",
     "output_type": "stream",
     "text": [
      "\r",
      "[##                                      ] | 6% Completed |  0.2s"
     ]
    },
    {
     "name": "stdout",
     "output_type": "stream",
     "text": [
      "\r",
      "[##                                      ] | 6% Completed |  0.3s"
     ]
    },
    {
     "name": "stdout",
     "output_type": "stream",
     "text": [
      "\r",
      "[##                                      ] | 6% Completed |  0.4s"
     ]
    },
    {
     "name": "stdout",
     "output_type": "stream",
     "text": [
      "\r",
      "[##                                      ] | 6% Completed |  0.5s"
     ]
    },
    {
     "name": "stdout",
     "output_type": "stream",
     "text": [
      "\r",
      "[##                                      ] | 6% Completed |  0.6s"
     ]
    },
    {
     "name": "stdout",
     "output_type": "stream",
     "text": [
      "\r",
      "[##                                      ] | 6% Completed |  0.7s"
     ]
    },
    {
     "name": "stdout",
     "output_type": "stream",
     "text": [
      "\r",
      "[##                                      ] | 6% Completed |  0.8s"
     ]
    },
    {
     "name": "stdout",
     "output_type": "stream",
     "text": [
      "\r",
      "[##                                      ] | 6% Completed |  0.9s"
     ]
    },
    {
     "name": "stdout",
     "output_type": "stream",
     "text": [
      "\r",
      "[##                                      ] | 6% Completed |  1.0s"
     ]
    },
    {
     "name": "stdout",
     "output_type": "stream",
     "text": [
      "\r",
      "[##                                      ] | 6% Completed |  1.1s"
     ]
    },
    {
     "name": "stdout",
     "output_type": "stream",
     "text": [
      "\r",
      "[##                                      ] | 6% Completed |  1.2s"
     ]
    },
    {
     "name": "stdout",
     "output_type": "stream",
     "text": [
      "\r",
      "[##                                      ] | 6% Completed |  1.3s"
     ]
    },
    {
     "name": "stdout",
     "output_type": "stream",
     "text": [
      "\r",
      "[##                                      ] | 6% Completed |  1.4s"
     ]
    },
    {
     "name": "stdout",
     "output_type": "stream",
     "text": [
      "\r",
      "[##                                      ] | 6% Completed |  1.5s"
     ]
    },
    {
     "name": "stdout",
     "output_type": "stream",
     "text": [
      "\r",
      "[##                                      ] | 6% Completed |  1.6s"
     ]
    },
    {
     "name": "stdout",
     "output_type": "stream",
     "text": [
      "\r",
      "[##                                      ] | 6% Completed |  1.7s"
     ]
    },
    {
     "name": "stdout",
     "output_type": "stream",
     "text": [
      "\r",
      "[##                                      ] | 6% Completed |  1.8s"
     ]
    },
    {
     "name": "stdout",
     "output_type": "stream",
     "text": [
      "\r",
      "[##                                      ] | 6% Completed |  1.9s"
     ]
    },
    {
     "name": "stdout",
     "output_type": "stream",
     "text": [
      "\r",
      "[##                                      ] | 6% Completed |  2.0s"
     ]
    },
    {
     "name": "stdout",
     "output_type": "stream",
     "text": [
      "\r",
      "[##                                      ] | 6% Completed |  2.1s"
     ]
    },
    {
     "name": "stdout",
     "output_type": "stream",
     "text": [
      "\r",
      "[##                                      ] | 6% Completed |  2.2s"
     ]
    },
    {
     "name": "stdout",
     "output_type": "stream",
     "text": [
      "\r",
      "[##                                      ] | 6% Completed |  2.3s"
     ]
    },
    {
     "name": "stdout",
     "output_type": "stream",
     "text": [
      "\r",
      "[##                                      ] | 6% Completed |  2.4s"
     ]
    },
    {
     "name": "stdout",
     "output_type": "stream",
     "text": [
      "\r",
      "[##                                      ] | 6% Completed |  2.5s"
     ]
    },
    {
     "name": "stdout",
     "output_type": "stream",
     "text": [
      "\r",
      "[##                                      ] | 6% Completed |  2.7s"
     ]
    },
    {
     "name": "stdout",
     "output_type": "stream",
     "text": [
      "\r",
      "[##                                      ] | 6% Completed |  2.8s"
     ]
    },
    {
     "name": "stdout",
     "output_type": "stream",
     "text": [
      "\r",
      "[##                                      ] | 6% Completed |  2.9s"
     ]
    },
    {
     "name": "stdout",
     "output_type": "stream",
     "text": [
      "\r",
      "[##                                      ] | 6% Completed |  3.0s"
     ]
    },
    {
     "name": "stdout",
     "output_type": "stream",
     "text": [
      "\r",
      "[##                                      ] | 6% Completed |  3.1s"
     ]
    },
    {
     "name": "stdout",
     "output_type": "stream",
     "text": [
      "\r",
      "[##                                      ] | 6% Completed |  3.2s"
     ]
    },
    {
     "name": "stdout",
     "output_type": "stream",
     "text": [
      "\r",
      "[##                                      ] | 6% Completed |  3.3s"
     ]
    },
    {
     "name": "stdout",
     "output_type": "stream",
     "text": [
      "\r",
      "[##                                      ] | 6% Completed |  3.4s"
     ]
    },
    {
     "name": "stdout",
     "output_type": "stream",
     "text": [
      "\r",
      "[##                                      ] | 6% Completed |  3.5s"
     ]
    },
    {
     "name": "stdout",
     "output_type": "stream",
     "text": [
      "\r",
      "[##                                      ] | 6% Completed |  3.6s"
     ]
    },
    {
     "name": "stdout",
     "output_type": "stream",
     "text": [
      "\r",
      "[##                                      ] | 6% Completed |  3.7s"
     ]
    },
    {
     "name": "stdout",
     "output_type": "stream",
     "text": [
      "\r",
      "[##                                      ] | 6% Completed |  3.8s"
     ]
    },
    {
     "name": "stdout",
     "output_type": "stream",
     "text": [
      "\r",
      "[##                                      ] | 6% Completed |  3.9s"
     ]
    },
    {
     "name": "stdout",
     "output_type": "stream",
     "text": [
      "\r",
      "[##                                      ] | 6% Completed |  4.0s"
     ]
    },
    {
     "name": "stdout",
     "output_type": "stream",
     "text": [
      "\r",
      "[##                                      ] | 6% Completed |  4.1s"
     ]
    },
    {
     "name": "stdout",
     "output_type": "stream",
     "text": [
      "\r",
      "[##                                      ] | 6% Completed |  4.2s"
     ]
    },
    {
     "name": "stdout",
     "output_type": "stream",
     "text": [
      "\r",
      "[##                                      ] | 6% Completed |  4.3s"
     ]
    },
    {
     "name": "stdout",
     "output_type": "stream",
     "text": [
      "\r",
      "[##                                      ] | 6% Completed |  4.4s"
     ]
    },
    {
     "name": "stdout",
     "output_type": "stream",
     "text": [
      "\r",
      "[##                                      ] | 6% Completed |  4.5s"
     ]
    },
    {
     "name": "stdout",
     "output_type": "stream",
     "text": [
      "\r",
      "[##                                      ] | 6% Completed |  4.6s"
     ]
    },
    {
     "name": "stdout",
     "output_type": "stream",
     "text": [
      "\r",
      "[##                                      ] | 6% Completed |  4.7s"
     ]
    },
    {
     "name": "stdout",
     "output_type": "stream",
     "text": [
      "\r",
      "[##                                      ] | 6% Completed |  4.8s"
     ]
    },
    {
     "name": "stdout",
     "output_type": "stream",
     "text": [
      "\r",
      "[##                                      ] | 6% Completed |  4.9s"
     ]
    },
    {
     "name": "stdout",
     "output_type": "stream",
     "text": [
      "\r",
      "[##                                      ] | 6% Completed |  5.0s"
     ]
    },
    {
     "name": "stdout",
     "output_type": "stream",
     "text": [
      "\r",
      "[##                                      ] | 6% Completed |  5.1s"
     ]
    },
    {
     "name": "stdout",
     "output_type": "stream",
     "text": [
      "\r",
      "[##                                      ] | 6% Completed |  5.2s"
     ]
    },
    {
     "name": "stdout",
     "output_type": "stream",
     "text": [
      "\r",
      "[##                                      ] | 6% Completed |  5.3s"
     ]
    },
    {
     "name": "stdout",
     "output_type": "stream",
     "text": [
      "\r",
      "[##                                      ] | 6% Completed |  5.4s"
     ]
    },
    {
     "name": "stdout",
     "output_type": "stream",
     "text": [
      "\r",
      "[##                                      ] | 6% Completed |  5.5s"
     ]
    },
    {
     "name": "stdout",
     "output_type": "stream",
     "text": [
      "\r",
      "[##                                      ] | 6% Completed |  5.6s"
     ]
    },
    {
     "name": "stdout",
     "output_type": "stream",
     "text": [
      "\r",
      "[##                                      ] | 6% Completed |  5.7s"
     ]
    },
    {
     "name": "stdout",
     "output_type": "stream",
     "text": [
      "\r",
      "[##                                      ] | 6% Completed |  5.8s"
     ]
    },
    {
     "name": "stdout",
     "output_type": "stream",
     "text": [
      "\r",
      "[##                                      ] | 6% Completed |  5.9s"
     ]
    },
    {
     "name": "stdout",
     "output_type": "stream",
     "text": [
      "\r",
      "[##                                      ] | 6% Completed |  6.0s"
     ]
    },
    {
     "name": "stdout",
     "output_type": "stream",
     "text": [
      "\r",
      "[##                                      ] | 6% Completed |  6.1s"
     ]
    },
    {
     "name": "stdout",
     "output_type": "stream",
     "text": [
      "\r",
      "[##                                      ] | 6% Completed |  6.2s"
     ]
    },
    {
     "name": "stdout",
     "output_type": "stream",
     "text": [
      "\r",
      "[##                                      ] | 6% Completed |  6.3s"
     ]
    },
    {
     "name": "stdout",
     "output_type": "stream",
     "text": [
      "\r",
      "[##                                      ] | 6% Completed |  6.4s"
     ]
    },
    {
     "name": "stdout",
     "output_type": "stream",
     "text": [
      "\r",
      "[##                                      ] | 6% Completed |  6.5s"
     ]
    },
    {
     "name": "stdout",
     "output_type": "stream",
     "text": [
      "\r",
      "[##                                      ] | 6% Completed |  6.6s"
     ]
    },
    {
     "name": "stdout",
     "output_type": "stream",
     "text": [
      "\r",
      "[##                                      ] | 6% Completed |  6.7s"
     ]
    },
    {
     "name": "stdout",
     "output_type": "stream",
     "text": [
      "\r",
      "[##                                      ] | 6% Completed |  6.8s"
     ]
    },
    {
     "name": "stdout",
     "output_type": "stream",
     "text": [
      "\r",
      "[##                                      ] | 6% Completed |  6.9s"
     ]
    },
    {
     "name": "stdout",
     "output_type": "stream",
     "text": [
      "\r",
      "[##                                      ] | 6% Completed |  7.0s"
     ]
    },
    {
     "name": "stdout",
     "output_type": "stream",
     "text": [
      "\r",
      "[##                                      ] | 6% Completed |  7.1s"
     ]
    },
    {
     "name": "stdout",
     "output_type": "stream",
     "text": [
      "\r",
      "[##                                      ] | 6% Completed |  7.2s"
     ]
    },
    {
     "name": "stdout",
     "output_type": "stream",
     "text": [
      "\r",
      "[##                                      ] | 6% Completed |  7.3s"
     ]
    },
    {
     "name": "stdout",
     "output_type": "stream",
     "text": [
      "\r",
      "[##                                      ] | 6% Completed |  7.4s"
     ]
    },
    {
     "name": "stdout",
     "output_type": "stream",
     "text": [
      "\r",
      "[##                                      ] | 6% Completed |  7.5s"
     ]
    },
    {
     "name": "stdout",
     "output_type": "stream",
     "text": [
      "\r",
      "[##                                      ] | 6% Completed |  7.6s"
     ]
    },
    {
     "name": "stdout",
     "output_type": "stream",
     "text": [
      "\r",
      "[##                                      ] | 6% Completed |  7.7s"
     ]
    },
    {
     "name": "stdout",
     "output_type": "stream",
     "text": [
      "\r",
      "[##                                      ] | 6% Completed |  7.8s"
     ]
    },
    {
     "name": "stdout",
     "output_type": "stream",
     "text": [
      "\r",
      "[##                                      ] | 6% Completed |  7.9s"
     ]
    },
    {
     "name": "stdout",
     "output_type": "stream",
     "text": [
      "\r",
      "[##                                      ] | 6% Completed |  8.1s"
     ]
    },
    {
     "name": "stdout",
     "output_type": "stream",
     "text": [
      "\r",
      "[##                                      ] | 6% Completed |  8.2s"
     ]
    },
    {
     "name": "stdout",
     "output_type": "stream",
     "text": [
      "\r",
      "[##                                      ] | 6% Completed |  8.3s"
     ]
    },
    {
     "name": "stdout",
     "output_type": "stream",
     "text": [
      "\r",
      "[##                                      ] | 6% Completed |  8.4s"
     ]
    },
    {
     "name": "stdout",
     "output_type": "stream",
     "text": [
      "\r",
      "[##                                      ] | 6% Completed |  8.5s"
     ]
    },
    {
     "name": "stdout",
     "output_type": "stream",
     "text": [
      "\r",
      "[##                                      ] | 6% Completed |  8.6s"
     ]
    },
    {
     "name": "stdout",
     "output_type": "stream",
     "text": [
      "\r",
      "[##                                      ] | 6% Completed |  8.7s"
     ]
    },
    {
     "name": "stdout",
     "output_type": "stream",
     "text": [
      "\r",
      "[##                                      ] | 6% Completed |  8.8s"
     ]
    },
    {
     "name": "stdout",
     "output_type": "stream",
     "text": [
      "\r",
      "[##                                      ] | 6% Completed |  8.9s"
     ]
    },
    {
     "name": "stdout",
     "output_type": "stream",
     "text": [
      "\r",
      "[##                                      ] | 6% Completed |  9.0s"
     ]
    },
    {
     "name": "stdout",
     "output_type": "stream",
     "text": [
      "\r",
      "[##                                      ] | 6% Completed |  9.1s"
     ]
    },
    {
     "name": "stdout",
     "output_type": "stream",
     "text": [
      "\r",
      "[##                                      ] | 6% Completed |  9.2s"
     ]
    },
    {
     "name": "stdout",
     "output_type": "stream",
     "text": [
      "\r",
      "[##                                      ] | 6% Completed |  9.3s"
     ]
    },
    {
     "name": "stdout",
     "output_type": "stream",
     "text": [
      "\r",
      "[##                                      ] | 6% Completed |  9.4s"
     ]
    },
    {
     "name": "stdout",
     "output_type": "stream",
     "text": [
      "\r",
      "[##                                      ] | 6% Completed |  9.5s"
     ]
    },
    {
     "name": "stdout",
     "output_type": "stream",
     "text": [
      "\r",
      "[##                                      ] | 6% Completed |  9.6s"
     ]
    },
    {
     "name": "stdout",
     "output_type": "stream",
     "text": [
      "\r",
      "[##                                      ] | 6% Completed |  9.7s"
     ]
    },
    {
     "name": "stdout",
     "output_type": "stream",
     "text": [
      "\r",
      "[##                                      ] | 6% Completed |  9.8s"
     ]
    },
    {
     "name": "stdout",
     "output_type": "stream",
     "text": [
      "\r",
      "[##                                      ] | 6% Completed |  9.9s"
     ]
    },
    {
     "name": "stdout",
     "output_type": "stream",
     "text": [
      "\r",
      "[##                                      ] | 6% Completed | 10.0s"
     ]
    },
    {
     "name": "stdout",
     "output_type": "stream",
     "text": [
      "\r",
      "[##                                      ] | 6% Completed | 10.1s"
     ]
    },
    {
     "name": "stdout",
     "output_type": "stream",
     "text": [
      "\r",
      "[##                                      ] | 6% Completed | 10.2s"
     ]
    },
    {
     "name": "stdout",
     "output_type": "stream",
     "text": [
      "\r",
      "[##                                      ] | 6% Completed | 10.3s"
     ]
    },
    {
     "name": "stdout",
     "output_type": "stream",
     "text": [
      "\r",
      "[##                                      ] | 6% Completed | 10.4s"
     ]
    },
    {
     "name": "stdout",
     "output_type": "stream",
     "text": [
      "\r",
      "[##                                      ] | 6% Completed | 10.5s"
     ]
    },
    {
     "name": "stdout",
     "output_type": "stream",
     "text": [
      "\r",
      "[##                                      ] | 6% Completed | 10.6s"
     ]
    },
    {
     "name": "stdout",
     "output_type": "stream",
     "text": [
      "\r",
      "[##                                      ] | 6% Completed | 10.7s"
     ]
    },
    {
     "name": "stdout",
     "output_type": "stream",
     "text": [
      "\r",
      "[##                                      ] | 6% Completed | 10.8s"
     ]
    },
    {
     "name": "stdout",
     "output_type": "stream",
     "text": [
      "\r",
      "[##                                      ] | 6% Completed | 10.9s"
     ]
    },
    {
     "name": "stdout",
     "output_type": "stream",
     "text": [
      "\r",
      "[##                                      ] | 6% Completed | 11.0s"
     ]
    },
    {
     "name": "stdout",
     "output_type": "stream",
     "text": [
      "\r",
      "[##                                      ] | 6% Completed | 11.1s"
     ]
    },
    {
     "name": "stdout",
     "output_type": "stream",
     "text": [
      "\r",
      "[##                                      ] | 6% Completed | 11.2s"
     ]
    },
    {
     "name": "stdout",
     "output_type": "stream",
     "text": [
      "\r",
      "[##                                      ] | 6% Completed | 11.3s"
     ]
    },
    {
     "name": "stdout",
     "output_type": "stream",
     "text": [
      "\r",
      "[##                                      ] | 6% Completed | 11.4s"
     ]
    },
    {
     "name": "stdout",
     "output_type": "stream",
     "text": [
      "\r",
      "[##                                      ] | 6% Completed | 11.5s"
     ]
    },
    {
     "name": "stdout",
     "output_type": "stream",
     "text": [
      "\r",
      "[##                                      ] | 6% Completed | 11.6s"
     ]
    },
    {
     "name": "stdout",
     "output_type": "stream",
     "text": [
      "\r",
      "[##                                      ] | 6% Completed | 11.7s"
     ]
    },
    {
     "name": "stdout",
     "output_type": "stream",
     "text": [
      "\r",
      "[##                                      ] | 6% Completed | 11.8s"
     ]
    },
    {
     "name": "stdout",
     "output_type": "stream",
     "text": [
      "\r",
      "[##                                      ] | 6% Completed | 11.9s"
     ]
    },
    {
     "name": "stdout",
     "output_type": "stream",
     "text": [
      "\r",
      "[##                                      ] | 6% Completed | 12.0s"
     ]
    },
    {
     "name": "stdout",
     "output_type": "stream",
     "text": [
      "\r",
      "[###                                     ] | 7% Completed | 12.1s"
     ]
    },
    {
     "name": "stdout",
     "output_type": "stream",
     "text": [
      "\r",
      "[#######                                 ] | 18% Completed | 12.2s"
     ]
    },
    {
     "name": "stdout",
     "output_type": "stream",
     "text": [
      "\r",
      "[#######                                 ] | 18% Completed | 12.3s"
     ]
    },
    {
     "name": "stdout",
     "output_type": "stream",
     "text": [
      "\r",
      "[########                                ] | 20% Completed | 12.5s"
     ]
    },
    {
     "name": "stdout",
     "output_type": "stream",
     "text": [
      "\r",
      "[#####################                   ] | 53% Completed | 12.6s"
     ]
    },
    {
     "name": "stdout",
     "output_type": "stream",
     "text": [
      "\r",
      "[##############################          ] | 76% Completed | 12.7s"
     ]
    },
    {
     "name": "stdout",
     "output_type": "stream",
     "text": [
      "\r",
      "[###################################     ] | 88% Completed | 12.8s"
     ]
    },
    {
     "name": "stdout",
     "output_type": "stream",
     "text": [
      "\r",
      "[###################################     ] | 88% Completed | 12.9s"
     ]
    },
    {
     "name": "stdout",
     "output_type": "stream",
     "text": [
      "\r",
      "[###################################     ] | 88% Completed | 13.0s"
     ]
    },
    {
     "name": "stdout",
     "output_type": "stream",
     "text": [
      "\r",
      "[########################################] | 100% Completed | 13.1s"
     ]
    },
    {
     "name": "stdout",
     "output_type": "stream",
     "text": [
      "\n"
     ]
    },
    {
     "name": "stdout",
     "output_type": "stream",
     "text": [
      "\r",
      "[                                        ] | 0% Completed |  0.0s"
     ]
    },
    {
     "name": "stdout",
     "output_type": "stream",
     "text": [
      "\r",
      "[########################################] | 100% Completed |  0.1s"
     ]
    },
    {
     "name": "stdout",
     "output_type": "stream",
     "text": [
      "\n"
     ]
    },
    {
     "name": "stdout",
     "output_type": "stream",
     "text": [
      "\n",
      "                                  WD  AMB_REWS       REWS    AMB_P            P\n",
      "state               turbine                                                   \n",
      "2017-01-01 00:00:00 0        244.06     15.62  15.598951  5000.00  5000.000000\n",
      "                    1        244.06     15.62  14.326038  5000.00  5000.000000\n",
      "                    2        244.06     15.62  15.067607  5000.00  5000.000000\n",
      "                    3        244.06     15.62  15.522240  5000.00  5000.000000\n",
      "                    4        244.06     15.62  14.832921  5000.00  5000.000000\n",
      "...                             ...       ...        ...      ...          ...\n",
      "2017-06-16 15:30:00 62       299.19     11.70   9.215285  4868.75  2718.771927\n",
      "                    63       299.19     11.70  11.435150  4868.75  4752.878044\n",
      "                    64       299.19     11.70  11.700000  4868.75  4868.750000\n",
      "                    65       299.19     11.70  11.607320  4868.75  4828.202586\n",
      "                    66       299.19     11.70  10.072532  4868.75  3529.208210\n",
      "\n",
      "[536000 rows x 5 columns]\n"
     ]
    }
   ],
   "source": [
    "with ProgressBar():\n",
    "    farm_results = algo.calc_farm()\n",
    "\n",
    "fr = farm_results.to_dataframe()\n",
    "print(\"\\n\", fr[[FV.WD, FV.AMB_REWS, FV.REWS, FV.AMB_P, FV.P]])"
   ]
  },
  {
   "cell_type": "markdown",
   "metadata": {},
   "source": [
    "For the fun of it, we can also run this example in parallel, on a local cluster. Depending on the system and the problem size, this is not neccessarily faster than the above implicitely used default dask scheduler, and it comes with overhead. But for complex calculations it is extremely useful and can really save the day. Read the [docs](https://docs.dask.org/en/stable/deploying.html) for more details and parameters. The following invokes the default settings for the local cluster:"
   ]
  },
  {
   "cell_type": "code",
   "execution_count": 17,
   "metadata": {
    "execution": {
     "iopub.execute_input": "2022-07-18T08:06:57.893352Z",
     "iopub.status.busy": "2022-07-18T08:06:57.893070Z",
     "iopub.status.idle": "2022-07-18T08:07:17.782244Z",
     "shell.execute_reply": "2022-07-18T08:07:17.780852Z"
    }
   },
   "outputs": [
    {
     "name": "stdout",
     "output_type": "stream",
     "text": [
      "Launching cluster..\n"
     ]
    },
    {
     "name": "stdout",
     "output_type": "stream",
     "text": [
      "LocalCluster(b4d8ecce, 'tcp://127.0.0.1:45065', workers=4, threads=8, memory=15.49 GiB)\n",
      "Dashboard: http://127.0.0.1:8787/status\n",
      "\n",
      "Running calculations..\n"
     ]
    },
    {
     "name": "stdout",
     "output_type": "stream",
     "text": [
      "Shutting down cluster..\n"
     ]
    },
    {
     "name": "stdout",
     "output_type": "stream",
     "text": [
      "\n",
      "                                  WD  AMB_REWS       REWS    AMB_P            P\n",
      "state               turbine                                                   \n",
      "2017-01-01 00:00:00 0        244.06     15.62  15.598951  5000.00  5000.000000\n",
      "                    1        244.06     15.62  14.326038  5000.00  5000.000000\n",
      "                    2        244.06     15.62  15.067607  5000.00  5000.000000\n",
      "                    3        244.06     15.62  15.522240  5000.00  5000.000000\n",
      "                    4        244.06     15.62  14.832921  5000.00  5000.000000\n",
      "...                             ...       ...        ...      ...          ...\n",
      "2017-06-16 15:30:00 62       299.19     11.70   9.215285  4868.75  2718.771927\n",
      "                    63       299.19     11.70  11.435150  4868.75  4752.878044\n",
      "                    64       299.19     11.70  11.700000  4868.75  4868.750000\n",
      "                    65       299.19     11.70  11.607320  4868.75  4828.202586\n",
      "                    66       299.19     11.70  10.072532  4868.75  3529.208210\n",
      "\n",
      "[536000 rows x 5 columns]\n"
     ]
    }
   ],
   "source": [
    "print(\"Launching cluster..\")\n",
    "with LocalCluster() as cluster, Client(cluster) as client:\n",
    "    print(cluster)\n",
    "    print(f\"Dashboard: {client.dashboard_link}\\n\")\n",
    "    print(\"Running calculations..\")\n",
    "    farm_results = algo.calc_farm()\n",
    "    print(\"Shutting down cluster..\")\n",
    "\n",
    "fr = farm_results.to_dataframe()\n",
    "print(\"\\n\", fr[[FV.WD, FV.AMB_REWS, FV.REWS, FV.AMB_P, FV.P]])"
   ]
  },
  {
   "cell_type": "markdown",
   "metadata": {},
   "source": [
    "Notice the `Dashboard` link, which is only valid during runtime and in this case is a `localhost` address. The dashboard gives plenty of information of the progress during the run and is a very useful tool provided by dask."
   ]
  },
  {
   "cell_type": "markdown",
   "metadata": {},
   "source": [
    "## Heterogeneous flow"
   ]
  },
  {
   "cell_type": "markdown",
   "metadata": {},
   "source": [
    "The best way to run `foxes` calculations on heterogeneous background flow fields is by providing them in `netCDF` format. They should contain the following coordinates:\n",
    "\n",
    "- A state coordinate, e.g. `Time` (expected by default) or `state`, or similar\n",
    "- A height coordinate, e.g. `height` (expected by default) or `h`, or similar\n",
    "- A `y` coordinate, e.g. `UTMY` (expected by default) or `y`, or similar\n",
    "- A `x` coordinate, e.g. `UTMX` (expected by default) or `x`, or similar\n",
    "\n",
    "The file may contain any kind of `foxes` variables as data fields, e.g.:\n",
    "\n",
    "- Wind speed data, e.g. `WS` (expected by default, if claimed as output variable), `ws` or similar\n",
    "- Wind direction data, e.g. `WD` (expected by default, if claimed as output variable), `wd` or similar\n",
    "- Turbulence intensity data, e.g. `TI` (expected by default, if claimed as output variable), `ti` or similar\n",
    "- Air density data, e.g. `RHO` (expected by default, if claimed as output variable), `rho` or similar\n",
    "\n",
    "All data must depend on the state coordinate, and may depend on the others."
   ]
  },
  {
   "cell_type": "markdown",
   "metadata": {},
   "source": [
    "These are the required imports for this example:"
   ]
  },
  {
   "cell_type": "code",
   "execution_count": 18,
   "metadata": {
    "execution": {
     "iopub.execute_input": "2022-07-18T08:07:17.787554Z",
     "iopub.status.busy": "2022-07-18T08:07:17.787202Z",
     "iopub.status.idle": "2022-07-18T08:07:17.792500Z",
     "shell.execute_reply": "2022-07-18T08:07:17.791538Z"
    }
   },
   "outputs": [],
   "source": [
    "import matplotlib.pyplot as plt\n",
    "import numpy as np\n",
    "\n",
    "import foxes\n",
    "import foxes.variables as FV"
   ]
  },
  {
   "cell_type": "markdown",
   "metadata": {},
   "source": [
    "One very simple example for `netCDF` type data is provided in the static data, under the name `wind_rotation.nc`. It contains two states, two heights, and simple 2 x 2 horizontal data that describes a uniform wind speed and a varying wind direction. It can be loaded as follows:"
   ]
  },
  {
   "cell_type": "code",
   "execution_count": 19,
   "metadata": {
    "execution": {
     "iopub.execute_input": "2022-07-18T08:07:17.797209Z",
     "iopub.status.busy": "2022-07-18T08:07:17.796778Z",
     "iopub.status.idle": "2022-07-18T08:07:17.804431Z",
     "shell.execute_reply": "2022-07-18T08:07:17.803440Z"
    }
   },
   "outputs": [],
   "source": [
    "states = foxes.input.states.FieldDataNC(\n",
    "    file_pattern=\"wind_rotation.nc\",\n",
    "    states_coord=\"state\",\n",
    "    x_coord=\"x\",\n",
    "    y_coord=\"y\",\n",
    "    h_coord=\"h\",\n",
    "    time_format=None,\n",
    "    output_vars=[FV.WS, FV.WD, FV.TI, FV.RHO],\n",
    "    var2ncvar={FV.WS: \"ws\", FV.WD: \"wd\"},\n",
    "    fixed_vars={FV.RHO: 1.225, FV.TI: 0.1},\n",
    "    pre_load=True,\n",
    "    bounds_error=False,\n",
    ")"
   ]
  },
  {
   "cell_type": "markdown",
   "metadata": {},
   "source": [
    "Let's place a simple 3 x 3 grid wind farm inside the data domain, which is a rectangle between `(0, 0)` and `(2500, 2500)`:"
   ]
  },
  {
   "cell_type": "code",
   "execution_count": 20,
   "metadata": {
    "execution": {
     "iopub.execute_input": "2022-07-18T08:07:17.808403Z",
     "iopub.status.busy": "2022-07-18T08:07:17.808123Z",
     "iopub.status.idle": "2022-07-18T08:07:17.814448Z",
     "shell.execute_reply": "2022-07-18T08:07:17.813438Z"
    }
   },
   "outputs": [],
   "source": [
    "farm = foxes.WindFarm()\n",
    "foxes.input.farm_layout.add_grid(\n",
    "    farm,\n",
    "    xy_base=np.array([500.0, 500.0]),\n",
    "    step_vectors=np.array([[500.0, 0], [0, 500.0]]),\n",
    "    steps=(3, 3),\n",
    "    turbine_models=[\"NREL5\"],\n",
    "    verbosity=0,\n",
    ")"
   ]
  },
  {
   "cell_type": "markdown",
   "metadata": {},
   "source": [
    "Again, we use the `NREL 5MW` turbine:"
   ]
  },
  {
   "cell_type": "code",
   "execution_count": 21,
   "metadata": {
    "execution": {
     "iopub.execute_input": "2022-07-18T08:07:17.818991Z",
     "iopub.status.busy": "2022-07-18T08:07:17.818656Z",
     "iopub.status.idle": "2022-07-18T08:07:17.823533Z",
     "shell.execute_reply": "2022-07-18T08:07:17.822769Z"
    }
   },
   "outputs": [],
   "source": [
    "mbook = foxes.ModelBook()\n",
    "mbook.turbine_types[\"NREL5\"] = foxes.models.turbine_types.PCtFile(\n",
    "    \"NREL-5MW-D126-H90.csv\"\n",
    ")"
   ]
  },
  {
   "cell_type": "markdown",
   "metadata": {},
   "source": [
    "The streamline following wakes are realized by selecting a `wake frame` that is an instance of `foxes.models.wake_frames.Streamlines`, e.g. the model `streamlines_100` in the model book. This model has a streamline step size of 100 m:"
   ]
  },
  {
   "cell_type": "code",
   "execution_count": 22,
   "metadata": {
    "execution": {
     "iopub.execute_input": "2022-07-18T08:07:17.826943Z",
     "iopub.status.busy": "2022-07-18T08:07:17.826663Z",
     "iopub.status.idle": "2022-07-18T08:07:17.834409Z",
     "shell.execute_reply": "2022-07-18T08:07:17.833339Z"
    }
   },
   "outputs": [],
   "source": [
    "algo = foxes.algorithms.Downwind(\n",
    "    mbook,\n",
    "    farm,\n",
    "    states=states,\n",
    "    rotor_model=\"grid16\",\n",
    "    wake_models=[\"Jensen_linear_k007\"],\n",
    "    wake_frame=\"streamlines_100\",\n",
    "    partial_wakes_model=\"auto\",\n",
    "    chunks={FV.STATE: 1000, FV.POINT: 4000},\n",
    "    verbosity=0,\n",
    ")"
   ]
  },
  {
   "cell_type": "markdown",
   "metadata": {},
   "source": [
    "We run the algorithm, once explicitely for calculating the wind farm data, and once implicitely when creating horizontal flow plots:"
   ]
  },
  {
   "cell_type": "code",
   "execution_count": 23,
   "metadata": {
    "execution": {
     "iopub.execute_input": "2022-07-18T08:07:17.838632Z",
     "iopub.status.busy": "2022-07-18T08:07:17.838283Z",
     "iopub.status.idle": "2022-07-18T08:07:20.729595Z",
     "shell.execute_reply": "2022-07-18T08:07:20.727957Z"
    }
   },
   "outputs": [
    {
     "name": "stdout",
     "output_type": "stream",
     "text": [
      "                       WD  AMB_REWS      REWS        AMB_P            P\n",
      "state turbine                                                          \n",
      "0     0        201.158092  7.491089  7.491089  1474.211367  1474.211367\n",
      "      1        208.044994  7.673386  7.673386  1580.523022  1580.523022\n",
      "      2        214.523994  7.960601  7.960601  1748.171047  1748.171047\n",
      "      3        218.242345  6.867297  6.867297  1127.597810  1127.597810\n",
      "      4        222.297880  7.283373  7.283373  1352.715530  1352.715530\n",
      "      5        225.899315  7.731909  6.808657  1614.607085  1101.211997\n",
      "      6        236.751304  6.932726  6.932726  1156.958672  1156.958672\n",
      "      7        237.139685  7.375640  6.142662  1406.547918   801.751505\n",
      "      8        237.484049  7.818854  6.381124  1665.347000   908.970303\n",
      "1     0         20.311353  6.703701  5.149847  1054.871543   454.760942\n",
      "      1         26.259090  6.995899  5.857833  1185.898485   690.639688\n",
      "      2         31.676969  7.357075  7.357075  1396.122949  1396.122949\n",
      "      3         44.537113  5.352448  5.263710   521.748653   492.140844\n",
      "      4         47.447853  5.960030  5.917024   724.421405   710.071241\n",
      "      5         49.815208  6.580130  6.580130   998.581195   998.581195\n",
      "      6         75.462887  5.352662  5.352662   521.621921   521.621921\n",
      "      7         72.552147  5.960214  5.960214   724.363478   724.363478\n",
      "      8         70.184792  6.580285  6.580285   998.552663   998.552663\n",
      "\n",
      "FlowPlots2D plot grid:\n",
      "Min XYZ  = -500.0 -500.0 90.0\n",
      "Max XYZ  = 2500.0 2500.0 90.0\n",
      "Pos Z    = 90.0\n",
      "Res XY   = 10.0 10.0\n",
      "Dim XY   = 301 301\n",
      "Grid pts = 90601\n"
     ]
    },
    {
     "data": {
      "image/png": "[encoded data removed]",
      "text/plain": [
       "<Figure size 576x576 with 2 Axes>"
      ]
     },
     "metadata": {
      "needs_background": "light"
     },
     "output_type": "display_data"
    },
    {
     "data": {
      "image/png": "[encoded data removed]",
      "text/plain": [
       "<Figure size 576x576 with 2 Axes>"
      ]
     },
     "metadata": {
      "needs_background": "light"
     },
     "output_type": "display_data"
    }
   ],
   "source": [
    "farm_results = algo.calc_farm()\n",
    "\n",
    "fr = farm_results.to_dataframe()\n",
    "print(fr[[FV.WD, FV.AMB_REWS, FV.REWS, FV.AMB_P, FV.P]])\n",
    "\n",
    "o = foxes.output.FlowPlots2D(algo, farm_results)\n",
    "for fig in o.gen_states_fig_horizontal(\n",
    "    FV.WS,\n",
    "    resolution=10,\n",
    "    figsize=(8, 8),\n",
    "    quiver_pars=dict(angles=\"xy\", scale_units=\"xy\", scale=0.07),\n",
    "    quiver_n=15,\n",
    "    xspace=1000,\n",
    "    yspace=1000,\n",
    "):\n",
    "    plt.show()\n",
    "    plt.close(fig)"
   ]
  }
 ],
 "metadata": {
  "kernelspec": {
   "display_name": "Python 3",
   "language": "python",
   "name": "python3"
  },
  "language_info": {
   "codemirror_mode": {
    "name": "ipython",
    "version": 3
   },
   "file_extension": ".py",
   "mimetype": "text/x-python",
   "name": "python",
   "nbconvert_exporter": "python",
   "pygments_lexer": "ipython3",
   "version": "3.8.10"
  },
  "vscode": {
   "interpreter": {
    "hash": "31f2aee4e71d21fbe5cf8b01ff0e069b9275f58929596ceb00d14d90e3e16cd6"
   }
  },
  "widgets": {
   "application/vnd.jupyter.widget-state+json": {
    "state": {
     "a076ac45f1e844ff9e6b0aad72369416": {
      "model_module": "@jupyter-widgets/base",
      "model_module_version": "1.2.0",
      "model_name": "LayoutModel",
      "state": {
       "_model_module": "@jupyter-widgets/base",
       "_model_module_version": "1.2.0",
       "_model_name": "LayoutModel",
       "_view_count": null,
       "_view_module": "@jupyter-widgets/base",
       "_view_module_version": "1.2.0",
       "_view_name": "LayoutView",
       "align_content": null,
       "align_items": null,
       "align_self": null,
       "border": null,
       "bottom": null,
       "display": null,
       "flex": null,
       "flex_flow": null,
       "grid_area": null,
       "grid_auto_columns": null,
       "grid_auto_flow": null,
       "grid_auto_rows": null,
       "grid_column": null,
       "grid_gap": null,
       "grid_row": null,
       "grid_template_areas": null,
       "grid_template_columns": null,
       "grid_template_rows": null,
       "height": null,
       "justify_content": null,
       "justify_items": null,
       "left": null,
       "margin": null,
       "max_height": null,
       "max_width": null,
       "min_height": null,
       "min_width": null,
       "object_fit": null,
       "object_position": null,
       "order": null,
       "overflow": null,
       "overflow_x": null,
       "overflow_y": null,
       "padding": null,
       "right": null,
       "top": null,
       "visibility": null,
       "width": null
      }
     },
     "cd8d0c13dfb5431d82b7168463cf27ee": {
      "model_module": "@jupyter-widgets/controls",
      "model_module_version": "1.5.0",
      "model_name": "VBoxModel",
      "state": {
       "_dom_classes": [],
       "_model_module": "@jupyter-widgets/controls",
       "_model_module_version": "1.5.0",
       "_model_name": "VBoxModel",
       "_view_count": null,
       "_view_module": "@jupyter-widgets/controls",
       "_view_module_version": "1.5.0",
       "_view_name": "VBoxView",
       "box_style": "",
       "children": [],
       "layout": "IPY_MODEL_a076ac45f1e844ff9e6b0aad72369416"
      }
     }
    },
    "version_major": 2,
    "version_minor": 0
   }
  }
 },
 "nbformat": 4,
 "nbformat_minor": 2
}
