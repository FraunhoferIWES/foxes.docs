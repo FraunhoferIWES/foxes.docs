{
 "cells": [
  {
   "attachments": {},
   "cell_type": "markdown",
   "metadata": {},
   "source": [
    "# Single row of turbines"
   ]
  },
  {
   "attachments": {},
   "cell_type": "markdown",
   "metadata": {},
   "source": [
    "We start with the imports for this example:"
   ]
  },
  {
   "cell_type": "code",
   "execution_count": 1,
   "metadata": {
    "execution": {
     "iopub.execute_input": "2025-07-21T07:16:19.135641Z",
     "iopub.status.busy": "2025-07-21T07:16:19.135253Z",
     "iopub.status.idle": "2025-07-21T07:16:19.767192Z",
     "shell.execute_reply": "2025-07-21T07:16:19.766387Z"
    }
   },
   "outputs": [],
   "source": [
    "%matplotlib inline\n",
    "import numpy as np\n",
    "import matplotlib.pyplot as plt\n",
    "\n",
    "import foxes\n",
    "import foxes.variables as FV"
   ]
  },
  {
   "attachments": {},
   "cell_type": "markdown",
   "metadata": {},
   "source": [
    "The `foxes` setup is described in the `Overview` section. In summary, it consists of creating: \n",
    "\n",
    "1. The so-called `model book`, which contains all selectable models\n",
    "2. Ambient wind conditions, called `states` in `foxes` terminology\n",
    "3. The `wind farm`, collecting all turbine information\n",
    "4. The `algorithm` with its parameters and model choices\n",
    "\n",
    "Here is a simple example for a single row of turbines along the x axis and a uniform wind speed with wind direction 270°:"
   ]
  },
  {
   "cell_type": "code",
   "execution_count": 2,
   "metadata": {
    "execution": {
     "iopub.execute_input": "2025-07-21T07:16:19.769612Z",
     "iopub.status.busy": "2025-07-21T07:16:19.769067Z",
     "iopub.status.idle": "2025-07-21T07:16:19.776126Z",
     "shell.execute_reply": "2025-07-21T07:16:19.775507Z"
    },
    "scrolled": true
   },
   "outputs": [],
   "source": [
    "# Create model book and add turbine type model:\n",
    "# The csv file will be searched in the file system,\n",
    "# and if not found, taken from static library.\n",
    "#\n",
    "# Note that we could actually skip adding the \"NREL5\"\n",
    "# model and use \"NREL5MW\" which already exists in the\n",
    "# default model book. Here this is for demonstrational\n",
    "# purposes, in case you have your own turbine file:\n",
    "mbook = foxes.ModelBook()\n",
    "mbook.turbine_types[\"NREL5\"] = foxes.models.turbine_types.PCtFile(\n",
    "    \"NREL-5MW-D126-H90.csv\"\n",
    ")\n",
    "\n",
    "# create ambient wind conditions, a single uniform state:\n",
    "states = foxes.input.states.SingleStateStates(ws=9.0, wd=270.0, ti=0.12, rho=1.225)\n",
    "\n",
    "# create wind farm, a single row of turbines:\n",
    "farm = foxes.WindFarm()\n",
    "foxes.input.farm_layout.add_row(\n",
    "    farm=farm,\n",
    "    xy_base=[0.0, 0.0],\n",
    "    xy_step=[800.0, 0.0],\n",
    "    n_turbines=5,\n",
    "    turbine_models=[\"NREL5\"],\n",
    "    verbosity=0,\n",
    ")\n",
    "\n",
    "# setup the calculation algorithm:\n",
    "algo = foxes.algorithms.Downwind(\n",
    "    farm,\n",
    "    states,\n",
    "    wake_models=[\"Jensen_linear_k007\"],\n",
    "    mbook=mbook,\n",
    "    verbosity=0,\n",
    ")"
   ]
  },
  {
   "attachments": {},
   "cell_type": "markdown",
   "metadata": {},
   "source": [
    "Now we can ask the `algorithm` object to run the calculation. This returns a `xarray.Dataset` object with results for each state and turbine:"
   ]
  },
  {
   "cell_type": "code",
   "execution_count": 3,
   "metadata": {
    "execution": {
     "iopub.execute_input": "2025-07-21T07:16:19.777809Z",
     "iopub.status.busy": "2025-07-21T07:16:19.777535Z",
     "iopub.status.idle": "2025-07-21T07:16:19.884988Z",
     "shell.execute_reply": "2025-07-21T07:16:19.883921Z"
    },
    "scrolled": true
   },
   "outputs": [
    {
     "name": "stdout",
     "output_type": "stream",
     "text": [
      "Selecting 'DefaultEngine(n_procs=16, chunk_size_states=None, chunk_size_points=None)'\n",
      "DefaultEngine: Selecting engine 'single'\n",
      "SingleChunkEngine: Calculating 1 states for 5 turbines\n",
      "\n",
      "Farm results:\n",
      " <xarray.Dataset> Size: 1kB\n",
      "Dimensions:     (state: 1, turbine: 5)\n",
      "Coordinates:\n",
      "  * state       (state) int64 8B 0\n",
      "Dimensions without coordinates: turbine\n",
      "Data variables: (12/27)\n",
      "    AMB_CT      (state, turbine) float64 40B 0.79 0.79 0.79 0.79 0.79\n",
      "    AMB_P       (state, turbine) float64 40B 2.519e+03 2.519e+03 ... 2.519e+03\n",
      "    AMB_REWS    (state, turbine) float64 40B 9.0 9.0 9.0 9.0 9.0\n",
      "    AMB_REWS2   (state, turbine) float64 40B 9.0 9.0 9.0 9.0 9.0\n",
      "    AMB_REWS3   (state, turbine) float64 40B 9.0 9.0 9.0 9.0 9.0\n",
      "    AMB_RHO     (state, turbine) float64 40B 1.225 1.225 1.225 1.225 1.225\n",
      "    ...          ...\n",
      "    YAW         (state, turbine) float64 40B 270.0 270.0 270.0 270.0 270.0\n",
      "    order       (state, turbine) int64 40B 0 1 2 3 4\n",
      "    order_inv   (state, turbine) int64 40B 0 1 2 3 4\n",
      "    order_ssel  (state, turbine) int64 40B 0 0 0 0 0\n",
      "    weight      (state) float64 8B 1.0\n",
      "    tname       (turbine) <U2 40B 'T0' 'T1' 'T2' 'T3' 'T4'\n"
     ]
    }
   ],
   "source": [
    "farm_results = algo.calc_farm()\n",
    "print(\"\\nFarm results:\\n\", farm_results)"
   ]
  },
  {
   "attachments": {},
   "cell_type": "markdown",
   "metadata": {},
   "source": [
    "For a convenient summary printout we can easily convert the results into a `pandas.DataFrame`:"
   ]
  },
  {
   "cell_type": "code",
   "execution_count": 4,
   "metadata": {
    "execution": {
     "iopub.execute_input": "2025-07-21T07:16:19.887863Z",
     "iopub.status.busy": "2025-07-21T07:16:19.887507Z",
     "iopub.status.idle": "2025-07-21T07:16:19.896872Z",
     "shell.execute_reply": "2025-07-21T07:16:19.896240Z"
    }
   },
   "outputs": [
    {
     "name": "stdout",
     "output_type": "stream",
     "text": [
      "                  WD  AMB_REWS      REWS    TI   AMB_P            P        CT\n",
      "state turbine                                                                \n",
      "0     0        270.0       9.0  9.000000  0.12  2518.6  2518.600000  0.790000\n",
      "      1        270.0       9.0  7.633459  0.12  2518.6  1557.076947  0.803665\n",
      "      2        270.0       9.0  7.176627  0.12  2518.6  1290.332498  0.808234\n",
      "      3        270.0       9.0  6.955794  0.12  2518.6  1167.325199  0.812210\n",
      "      4        270.0       9.0  6.821354  0.12  2518.6  1106.880886  0.818932\n"
     ]
    }
   ],
   "source": [
    "fr = farm_results.to_dataframe()\n",
    "print(fr[[FV.WD, FV.AMB_REWS, FV.REWS, FV.TI, FV.AMB_P, FV.P, FV.CT]])"
   ]
  },
  {
   "attachments": {},
   "cell_type": "markdown",
   "metadata": {},
   "source": [
    "Once the farm calculation results are ready, we can evaluate the wake corrected flow and all points of interest. For example, we can evaluate the wind speed along the centre line:"
   ]
  },
  {
   "cell_type": "code",
   "execution_count": 5,
   "metadata": {
    "execution": {
     "iopub.execute_input": "2025-07-21T07:16:19.898791Z",
     "iopub.status.busy": "2025-07-21T07:16:19.898645Z",
     "iopub.status.idle": "2025-07-21T07:16:19.968471Z",
     "shell.execute_reply": "2025-07-21T07:16:19.967767Z"
    }
   },
   "outputs": [
    {
     "name": "stdout",
     "output_type": "stream",
     "text": [
      "DefaultEngine: Selecting engine 'single'\n",
      "SingleChunkEngine: Calculating data at 8000 points for 1 states\n",
      "\n",
      "Point results:\n",
      " <xarray.Dataset> Size: 512kB\n",
      "Dimensions:  (state: 1, point: 8000)\n",
      "Coordinates:\n",
      "  * state    (state) int64 8B 0\n",
      "Dimensions without coordinates: point\n",
      "Data variables:\n",
      "    RHO      (state, point) float64 64kB 1.225 1.225 1.225 ... 1.225 1.225 1.225\n",
      "    WS       (state, point) float64 64kB 9.0 9.0 9.0 9.0 ... 8.916 8.916 8.916\n",
      "    WD       (state, point) float64 64kB 270.0 270.0 270.0 ... 270.0 270.0 270.0\n",
      "    TI       (state, point) float64 64kB 0.12 0.12 0.12 0.12 ... 0.12 0.12 0.12\n",
      "    AMB_RHO  (state, point) float64 64kB 1.225 1.225 1.225 ... 1.225 1.225 1.225\n",
      "    AMB_WS   (state, point) float64 64kB 9.0 9.0 9.0 9.0 9.0 ... 9.0 9.0 9.0 9.0\n",
      "    AMB_WD   (state, point) float64 64kB 270.0 270.0 270.0 ... 270.0 270.0 270.0\n",
      "    AMB_TI   (state, point) float64 64kB 0.12 0.12 0.12 0.12 ... 0.12 0.12 0.12\n",
      "    weight   (state) float64 8B 1.0\n"
     ]
    },
    {
     "data": {
      "image/png": "[encoded data removed]",
      "text/plain": [
       "<Figure size 1000x500 with 1 Axes>"
      ]
     },
     "metadata": {},
     "output_type": "display_data"
    }
   ],
   "source": [
    "# infer hub height from turbine type:\n",
    "H = mbook.turbine_types[\"NREL5\"].H\n",
    "\n",
    "# create points of interest, shape (n_states, n_points, 3):\n",
    "n_points = 8000\n",
    "points = np.zeros((1, n_points, 3))\n",
    "points[:, :, 0] = np.linspace(-100.0, 15000.0, n_points)[None, :]\n",
    "points[:, :, 2] = H\n",
    "\n",
    "# calculate point results:\n",
    "point_results = algo.calc_points(farm_results, points)\n",
    "print(\"\\nPoint results:\\n\", point_results)\n",
    "\n",
    "# create figure:\n",
    "fig, ax = plt.subplots(figsize=(10, 5))\n",
    "ax.plot(points[0, :, 0], point_results[FV.WS][0, :])\n",
    "ax.set_xlabel(\"x [m]\")\n",
    "ax.set_ylabel(\"Wind speed [m/s]\")\n",
    "plt.show()"
   ]
  },
  {
   "attachments": {},
   "cell_type": "markdown",
   "metadata": {},
   "source": [
    "The `foxes.output` package provides a collection of standard outputs. For example, we can visualize the flow field in a horizontal slice at hub height:"
   ]
  },
  {
   "cell_type": "code",
   "execution_count": 6,
   "metadata": {
    "execution": {
     "iopub.execute_input": "2025-07-21T07:16:19.970245Z",
     "iopub.status.busy": "2025-07-21T07:16:19.970100Z",
     "iopub.status.idle": "2025-07-21T07:16:20.232293Z",
     "shell.execute_reply": "2025-07-21T07:16:20.231511Z"
    }
   },
   "outputs": [
    {
     "name": "stdout",
     "output_type": "stream",
     "text": [
      "DefaultEngine: Selecting engine 'process'\n",
      "ProcessEngine: Calculating data at 42521 points for 1 states\n"
     ]
    },
    {
     "name": "stdout",
     "output_type": "stream",
     "text": [
      "ProcessEngine: Computing 16 chunks using 16 processes\n"
     ]
    },
    {
     "name": "stderr",
     "output_type": "stream",
     "text": [
      "\r",
      "  0%|                                                                                                                                                 | 0/16 [00:00<?, ?it/s]"
     ]
    },
    {
     "name": "stderr",
     "output_type": "stream",
     "text": [
      "\r",
      "100%|██████████████████████████████████████████████████████████████████████████████████████████████████████████████████████████████████████| 16/16 [00:00<00:00, 4520.94it/s]"
     ]
    },
    {
     "name": "stderr",
     "output_type": "stream",
     "text": [
      "\n"
     ]
    },
    {
     "data": {
      "image/png": "[encoded data removed]",
      "text/plain": [
       "<Figure size 1000x500 with 2 Axes>"
      ]
     },
     "metadata": {},
     "output_type": "display_data"
    }
   ],
   "source": [
    "o = foxes.output.FlowPlots2D(algo, farm_results)\n",
    "g = o.gen_states_fig_xy(\"WS\", resolution=10, figsize=(10, 5), verbosity=0)\n",
    "fig = next(g)  # creates the figure for the next state, here there is only state 0\n",
    "plt.show()"
   ]
  }
 ],
 "metadata": {
  "kernelspec": {
   "display_name": ".venv",
   "language": "python",
   "name": "python3"
  },
  "language_info": {
   "codemirror_mode": {
    "name": "ipython",
    "version": 3
   },
   "file_extension": ".py",
   "mimetype": "text/x-python",
   "name": "python",
   "nbconvert_exporter": "python",
   "pygments_lexer": "ipython3",
   "version": "3.11.13"
  }
 },
 "nbformat": 4,
 "nbformat_minor": 4
}
